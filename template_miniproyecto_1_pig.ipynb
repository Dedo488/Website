{
  "nbformat": 4,
  "nbformat_minor": 0,
  "metadata": {
    "colab": {
      "name": "template_miniproyecto_1_pig.ipynb",
      "provenance": [],
      "collapsed_sections": [],
      "include_colab_link": true
    },
    "kernelspec": {
      "name": "python3",
      "display_name": "Python 3"
    }
  },
  "cells": [
    {
      "cell_type": "markdown",
      "metadata": {
        "id": "view-in-github",
        "colab_type": "text"
      },
      "source": [
        "<a href=\"https://colab.research.google.com/github/Dedo488/Website/blob/master/template_miniproyecto_1_pig.ipynb\" target=\"_parent\"><img src=\"https://colab.research.google.com/assets/colab-badge.svg\" alt=\"Open In Colab\"/></a>"
      ]
    },
    {
      "cell_type": "markdown",
      "metadata": {
        "id": "e-pLm7X5EStF"
      },
      "source": [
        "# Mini-Tarea 1: Análisis de datos de preferencias musicales\n",
        "\n",
        "La presente actividad debe ser realizada de forma individual. El formato de entregar es el archivo .ipynb con todas las celdas ejecutadas. Las secciones donde se planteen preguntas de forma explícita, deben ser respondida en celdas de texto, y no se aceptará solo el output de una celda de código como respuesta.\n",
        "\n",
        "**Fecha de entrega:** martes 13 de octubre de 2020, 09:00 hrs.\n",
        "\n",
        "**Nombre alumno:** Diego Pablo Figueroa Ramírez"
      ]
    },
    {
      "cell_type": "markdown",
      "metadata": {
        "id": "pDAr1bLidyCd"
      },
      "source": [
        "# Apache Pig"
      ]
    },
    {
      "cell_type": "markdown",
      "metadata": {
        "id": "v6VB_YXe0IRz"
      },
      "source": [
        "## Instalación de ambiente"
      ]
    },
    {
      "cell_type": "markdown",
      "metadata": {
        "id": "r3vty364PsG6"
      },
      "source": [
        "En esta sección subimos hadoop, executamos el instalador y descargamos la información para el miniproyecto."
      ]
    },
    {
      "cell_type": "code",
      "metadata": {
        "id": "01eLsZW-LUna",
        "outputId": "a8e45315-acf4-48a0-f8dd-2658fd4f51d9",
        "colab": {
          "resources": {
            "http://localhost:8080/nbextensions/google.colab/files.js": {
              "data": "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",
              "ok": true,
              "headers": [
                [
                  "content-type",
                  "application/javascript"
                ]
              ],
              "status": 200,
              "status_text": "OK"
            }
          },
          "base_uri": "https://localhost:8080/",
          "height": 92
        }
      },
      "source": [
        "#Subir hadoop_colab_installer.py\n",
        "from google.colab import files\n",
        "\n",
        "uploaded = files.upload()\n",
        "\n",
        "for fn in uploaded.keys():\n",
        "  print('User uploaded file \"{name}\" with length {length} bytes'.format(\n",
        "      name=fn, length=len(uploaded[fn])))"
      ],
      "execution_count": 1,
      "outputs": [
        {
          "output_type": "display_data",
          "data": {
            "text/html": [
              "\n",
              "     <input type=\"file\" id=\"files-148b65df-7421-41da-8c7f-c353197eb766\" name=\"files[]\" multiple disabled\n",
              "        style=\"border:none\" />\n",
              "     <output id=\"result-148b65df-7421-41da-8c7f-c353197eb766\">\n",
              "      Upload widget is only available when the cell has been executed in the\n",
              "      current browser session. Please rerun this cell to enable.\n",
              "      </output>\n",
              "      <script src=\"/nbextensions/google.colab/files.js\"></script> "
            ],
            "text/plain": [
              "<IPython.core.display.HTML object>"
            ]
          },
          "metadata": {
            "tags": []
          }
        },
        {
          "output_type": "stream",
          "text": [
            "Saving hadoop_colab_installer.py to hadoop_colab_installer.py\n",
            "User uploaded file \"hadoop_colab_installer.py\" with length 13493 bytes\n"
          ],
          "name": "stdout"
        }
      ]
    },
    {
      "cell_type": "code",
      "metadata": {
        "id": "_Ht3M3cube6D",
        "outputId": "4591344c-0f17-4352-f790-bce51088dc08",
        "colab": {
          "base_uri": "https://localhost:8080/",
          "height": 167
        }
      },
      "source": [
        "exec(open('hadoop_colab_installer.py').read())"
      ],
      "execution_count": 2,
      "outputs": [
        {
          "output_type": "stream",
          "text": [
            "Active services:\n",
            "2165 JobHistoryServer\n",
            "2086 NodeManager\n",
            "1782 DataNode\n",
            "2204 Jps\n",
            "1629 ResourceManager\n",
            "1711 NameNode\n",
            "\n"
          ],
          "name": "stdout"
        }
      ]
    },
    {
      "cell_type": "markdown",
      "metadata": {
        "id": "T8wlxMdqQr0k"
      },
      "source": [
        "## Descarga de dataset"
      ]
    },
    {
      "cell_type": "code",
      "metadata": {
        "id": "Ils_GWEngBZh",
        "outputId": "e880285a-6289-46e1-d2e9-85df91926223",
        "colab": {
          "base_uri": "https://localhost:8080/",
          "height": 36
        }
      },
      "source": [
        "!wget -q --show-progress http://mtg.upf.edu/static/datasets/last.fm/lastfm-dataset-1K.tar.gz\n",
        "!tar xzf lastfm-dataset-1K.tar.gz"
      ],
      "execution_count": 3,
      "outputs": [
        {
          "output_type": "stream",
          "text": [
            "lastfm-dataset-1K.t 100%[===================>] 641.58M  1.27MB/s    in 9m 41s  \n"
          ],
          "name": "stdout"
        }
      ]
    },
    {
      "cell_type": "markdown",
      "metadata": {
        "id": "pcMmQMNgzurL"
      },
      "source": [
        "## Actividad 0"
      ]
    },
    {
      "cell_type": "markdown",
      "metadata": {
        "id": "diaiWuM1Polw"
      },
      "source": [
        "En esta sección, creamos los directorios userid-profile y userid-otros en HDFS. \n",
        "\n",
        "Después, insertamos a través del comando -put los archivos en los directorio, quedando así que la informacióne está en HDFS.\n",
        "\n",
        "Posteriormente, creamos un UDF en Jython \"my_pig_udfs2.py\" que está basada en el ejemplo de clases, solamente que un poco más reducida. "
      ]
    },
    {
      "cell_type": "code",
      "metadata": {
        "id": "jHTuRfLsLtQM"
      },
      "source": [
        "!hdfs dfs -mkdir userid-profile\n",
        "!hdfs dfs -mkdir userid-otros\n",
        "!hdfs dfs -put lastfm-dataset-1K/userid-profile.tsv userid-profile\n",
        "!hdfs dfs -put lastfm-dataset-1K/userid-timestamp-artid-artname-traid-traname.tsv userid-otros"
      ],
      "execution_count": 4,
      "outputs": []
    },
    {
      "cell_type": "code",
      "metadata": {
        "id": "n9Vz2lcP5AUR",
        "outputId": "d1a3e5ad-f4bb-407d-cc59-eb7fe9080757",
        "colab": {
          "base_uri": "https://localhost:8080/",
          "height": 36
        }
      },
      "source": [
        "%%writefile my_pig_udfs2.py\n",
        "\n",
        "from pig_util import outputSchema\n",
        "import re\n",
        "import array\n",
        "\n",
        "@outputSchema('detected:boolean')\n",
        "def empty_or_null_detector( gender ):\n",
        "  if gender is None:\n",
        "    return True\n",
        "  else:\n",
        "    return False  \n",
        "  gender = gender.tostring() # 'array' to 'str'\n",
        "  if len( gender ) == 0:\n",
        "    return True\n",
        "  else: \n",
        "    return False"
      ],
      "execution_count": 5,
      "outputs": [
        {
          "output_type": "stream",
          "text": [
            "Writing my_pig_udfs2.py\n"
          ],
          "name": "stdout"
        }
      ]
    },
    {
      "cell_type": "markdown",
      "metadata": {
        "id": "5ouzg41_O-r3"
      },
      "source": [
        "## Actividad 1"
      ]
    },
    {
      "cell_type": "markdown",
      "metadata": {
        "id": "WCpV992PQX4L"
      },
      "source": [
        "En esta actividad escribimos la file \"actividad1.pig\" en la cual a través del lenguaje Pig Latin realizamos las distintas acciones para responder la pregunta. \n",
        "\n",
        "La estructura es: Load -> Transformar -> Store. Donde en la etapa de transformación, agrupamos, realizamos un count, ordenamos y restringimos.\n",
        "\n",
        "El resultado obtenido es: \n",
        "\n",
        "artist_name conteo\n",
        "\n",
        "Radiohead\t115209\n",
        "\n",
        "The Beatles\t100338\n",
        "\n",
        "Nine Inch Nails\t84421\n",
        "\n",
        "Muse\t63351\n",
        "\n",
        "Coldplay\t62251\n",
        "\n",
        "Depeche Mode\t59910\n",
        "\n",
        "Pink Floyd\t58561\n",
        "\n",
        "Death Cab For Cutie\t58083\n",
        "\n",
        "Placebo\t53543\n",
        "\n",
        "Elliott Smith\t50278\n",
        "\n",
        "Por último, el artista más popular es Radiohead con 115209 números de reproducciones de sus canciones y el último del top-ten es Elliott Smith con 50278. "
      ]
    },
    {
      "cell_type": "code",
      "metadata": {
        "id": "KChJvVvCL90U",
        "outputId": "d080d172-714d-45f9-dec8-22949f1d5b81",
        "colab": {
          "base_uri": "https://localhost:8080/",
          "height": 36
        }
      },
      "source": [
        "%%writefile actividad1.pig\n",
        "\n",
        "raw = LOAD 'userid-otros' USING PigStorage('\\t') AS (userid:chararray, timeztamp:chararray, artist_id:chararray, artist_name:chararray, track_id:chararray, track_name:chararray);\n",
        "\n",
        "agrupar = GROUP raw BY artist_name;\n",
        "\n",
        "contar = FOREACH agrupar GENERATE $0 as artist_name, COUNT($1) AS conteo;\n",
        "\n",
        "ordenar = ORDER contar BY conteo DESC;\n",
        "\n",
        "restringir = LIMIT ordenar 10;\n",
        "\n",
        "STORE restringir INTO 'actividad1' USING PigStorage( '\\t' );"
      ],
      "execution_count": 6,
      "outputs": [
        {
          "output_type": "stream",
          "text": [
            "Writing actividad1.pig\n"
          ],
          "name": "stdout"
        }
      ]
    },
    {
      "cell_type": "code",
      "metadata": {
        "id": "4eyyoCFQUT7Y",
        "outputId": "b40cc1e5-6fa1-4c1e-c9b5-b84a787d483f",
        "colab": {
          "base_uri": "https://localhost:8080/",
          "height": 1000
        }
      },
      "source": [
        "!pig -f actividad1.pig"
      ],
      "execution_count": 7,
      "outputs": [
        {
          "output_type": "stream",
          "text": [
            "20/10/11 20:56:15 INFO pig.ExecTypeProvider: Trying ExecType : LOCAL\n",
            "20/10/11 20:56:15 INFO pig.ExecTypeProvider: Trying ExecType : MAPREDUCE\n",
            "20/10/11 20:56:15 INFO pig.ExecTypeProvider: Picked MAPREDUCE as the ExecType\n",
            "2020-10-11 20:56:15,377 [main] INFO  org.apache.pig.Main - Apache Pig version 0.17.0 (r1797386) compiled Jun 02 2017, 15:41:58\n",
            "2020-10-11 20:56:15,377 [main] INFO  org.apache.pig.Main - Logging error messages to: /content/pig_1602449775373.log\n",
            "2020-10-11 20:56:15,907 [main] INFO  org.apache.pig.impl.util.Utils - Default bootup file /root/.pigbootup not found\n",
            "2020-10-11 20:56:15,981 [main] INFO  org.apache.hadoop.conf.Configuration.deprecation - mapred.job.tracker is deprecated. Instead, use mapreduce.jobtracker.address\n",
            "2020-10-11 20:56:15,981 [main] INFO  org.apache.pig.backend.hadoop.executionengine.HExecutionEngine - Connecting to hadoop file system at: hdfs://localhost:9000\n",
            "2020-10-11 20:56:16,682 [main] INFO  org.apache.pig.PigServer - Pig Script ID for the session: PIG-actividad1.pig-bb248be6-22cb-4c3d-ab8e-0c65f83e7fef\n",
            "2020-10-11 20:56:16,682 [main] WARN  org.apache.pig.PigServer - ATS is disabled since yarn.timeline-service.enabled set to false\n",
            "2020-10-11 20:56:17,701 [main] INFO  org.apache.hadoop.conf.Configuration.deprecation - mapred.textoutputformat.separator is deprecated. Instead, use mapreduce.output.textoutputformat.separator\n",
            "2020-10-11 20:56:17,765 [main] INFO  org.apache.pig.tools.pigstats.ScriptState - Pig features used in the script: GROUP_BY,ORDER_BY,LIMIT\n",
            "2020-10-11 20:56:17,810 [main] INFO  org.apache.pig.data.SchemaTupleBackend - Key [pig.schematuple] was not set... will not generate code.\n",
            "2020-10-11 20:56:17,846 [main] INFO  org.apache.pig.newplan.logical.optimizer.LogicalPlanOptimizer - {RULES_ENABLED=[AddForEach, ColumnMapKeyPrune, ConstantCalculator, GroupByConstParallelSetter, LimitOptimizer, LoadTypeCastInserter, MergeFilter, MergeForEach, NestedLimitOptimizer, PartitionFilterOptimizer, PredicatePushdownOptimizer, PushDownForEachFlatten, PushUpFilter, SplitFilter, StreamTypeCastInserter]}\n",
            "2020-10-11 20:56:17,924 [main] INFO  org.apache.pig.impl.util.SpillableMemoryManager - Selected heap (PS Old Gen) of size 699400192 to monitor. collectionUsageThreshold = 489580128, usageThreshold = 489580128\n",
            "2020-10-11 20:56:18,008 [main] INFO  org.apache.pig.backend.hadoop.executionengine.mapReduceLayer.MRCompiler - File concatenation threshold: 100 optimistic? false\n",
            "2020-10-11 20:56:18,086 [main] INFO  org.apache.pig.backend.hadoop.executionengine.util.CombinerOptimizerUtil - Choosing to move algebraic foreach to combiner\n",
            "2020-10-11 20:56:18,123 [main] INFO  org.apache.pig.backend.hadoop.executionengine.mapReduceLayer.SecondaryKeyOptimizerMR - Using Secondary Key Optimization for MapReduce node scope-36\n",
            "2020-10-11 20:56:18,138 [main] INFO  org.apache.pig.backend.hadoop.executionengine.mapReduceLayer.MultiQueryOptimizer - MR plan size before optimization: 4\n",
            "2020-10-11 20:56:18,138 [main] INFO  org.apache.pig.backend.hadoop.executionengine.mapReduceLayer.MultiQueryOptimizer - MR plan size after optimization: 4\n",
            "2020-10-11 20:56:18,258 [main] INFO  org.apache.hadoop.yarn.client.RMProxy - Connecting to ResourceManager at /0.0.0.0:8032\n",
            "2020-10-11 20:56:18,548 [main] INFO  org.apache.hadoop.conf.Configuration.deprecation - yarn.resourcemanager.system-metrics-publisher.enabled is deprecated. Instead, use yarn.system-metrics-publisher.enabled\n",
            "2020-10-11 20:56:18,567 [main] INFO  org.apache.pig.tools.pigstats.mapreduce.MRScriptState - Pig script settings are added to the job\n",
            "2020-10-11 20:56:18,573 [main] INFO  org.apache.hadoop.conf.Configuration.deprecation - mapred.job.reduce.markreset.buffer.percent is deprecated. Instead, use mapreduce.reduce.markreset.buffer.percent\n",
            "2020-10-11 20:56:18,573 [main] INFO  org.apache.pig.backend.hadoop.executionengine.mapReduceLayer.JobControlCompiler - mapred.job.reduce.markreset.buffer.percent is not set, set to default 0.3\n",
            "2020-10-11 20:56:18,576 [main] INFO  org.apache.hadoop.conf.Configuration.deprecation - mapred.output.compress is deprecated. Instead, use mapreduce.output.fileoutputformat.compress\n",
            "2020-10-11 20:56:18,578 [main] INFO  org.apache.pig.backend.hadoop.executionengine.mapReduceLayer.JobControlCompiler - Reduce phase detected, estimating # of required reducers.\n",
            "2020-10-11 20:56:18,579 [main] INFO  org.apache.pig.backend.hadoop.executionengine.mapReduceLayer.JobControlCompiler - Using reducer estimator: org.apache.pig.backend.hadoop.executionengine.mapReduceLayer.InputSizeReducerEstimator\n",
            "2020-10-11 20:56:18,602 [main] INFO  org.apache.pig.backend.hadoop.executionengine.mapReduceLayer.InputSizeReducerEstimator - BytesPerReducer=1000000000 maxReducers=999 totalInputFileSize=2529193595\n",
            "2020-10-11 20:56:18,603 [main] INFO  org.apache.pig.backend.hadoop.executionengine.mapReduceLayer.JobControlCompiler - Setting Parallelism to 3\n",
            "2020-10-11 20:56:18,603 [main] INFO  org.apache.hadoop.conf.Configuration.deprecation - mapred.reduce.tasks is deprecated. Instead, use mapreduce.job.reduces\n",
            "2020-10-11 20:56:18,603 [main] INFO  org.apache.pig.backend.hadoop.executionengine.mapReduceLayer.JobControlCompiler - This job cannot be converted run in-process\n",
            "2020-10-11 20:56:18,613 [main] INFO  org.apache.hadoop.conf.Configuration.deprecation - mapred.submit.replication is deprecated. Instead, use mapreduce.client.submit.file.replication\n",
            "2020-10-11 20:56:18,829 [main] INFO  org.apache.pig.backend.hadoop.executionengine.mapReduceLayer.JobControlCompiler - Added jar file:/content/pig-0.17.0/pig-0.17.0-core-h2.jar to DistributedCache through /tmp/temp-491427819/tmp-1533058856/pig-0.17.0-core-h2.jar\n",
            "2020-10-11 20:56:18,868 [main] INFO  org.apache.pig.backend.hadoop.executionengine.mapReduceLayer.JobControlCompiler - Added jar file:/content/pig-0.17.0/lib/automaton-1.11-8.jar to DistributedCache through /tmp/temp-491427819/tmp1658348715/automaton-1.11-8.jar\n",
            "2020-10-11 20:56:18,912 [main] INFO  org.apache.pig.backend.hadoop.executionengine.mapReduceLayer.JobControlCompiler - Added jar file:/content/pig-0.17.0/lib/antlr-runtime-3.4.jar to DistributedCache through /tmp/temp-491427819/tmp950544671/antlr-runtime-3.4.jar\n",
            "2020-10-11 20:56:18,943 [main] INFO  org.apache.pig.backend.hadoop.executionengine.mapReduceLayer.JobControlCompiler - Added jar file:/content/pig-0.17.0/lib/joda-time-2.9.3.jar to DistributedCache through /tmp/temp-491427819/tmp1795460281/joda-time-2.9.3.jar\n",
            "2020-10-11 20:56:18,960 [main] INFO  org.apache.pig.backend.hadoop.executionengine.mapReduceLayer.JobControlCompiler - Setting up single store job\n",
            "2020-10-11 20:56:18,963 [main] INFO  org.apache.pig.data.SchemaTupleFrontend - Key [pig.schematuple] is false, will not generate code.\n",
            "2020-10-11 20:56:18,963 [main] INFO  org.apache.pig.data.SchemaTupleFrontend - Starting process to move generated code to distributed cacche\n",
            "2020-10-11 20:56:18,964 [main] INFO  org.apache.pig.data.SchemaTupleFrontend - Setting key [pig.schematuple.classes] with classes to deserialize []\n",
            "2020-10-11 20:56:19,066 [main] INFO  org.apache.pig.backend.hadoop.executionengine.mapReduceLayer.MapReduceLauncher - 1 map-reduce job(s) waiting for submission.\n",
            "2020-10-11 20:56:19,067 [main] INFO  org.apache.hadoop.conf.Configuration.deprecation - mapred.job.tracker.http.address is deprecated. Instead, use mapreduce.jobtracker.http.address\n",
            "2020-10-11 20:56:19,076 [JobControl] INFO  org.apache.hadoop.yarn.client.RMProxy - Connecting to ResourceManager at /0.0.0.0:8032\n",
            "2020-10-11 20:56:19,091 [JobControl] INFO  org.apache.hadoop.conf.Configuration.deprecation - mapred.task.id is deprecated. Instead, use mapreduce.task.attempt.id\n",
            "2020-10-11 20:56:19,258 [JobControl] WARN  org.apache.hadoop.mapreduce.JobResourceUploader - No job jar file set.  User classes may not be found. See Job or Job#setJar(String).\n",
            "2020-10-11 20:56:19,304 [JobControl] INFO  org.apache.pig.builtin.PigStorage - Using PigTextInputFormat\n",
            "2020-10-11 20:56:19,340 [JobControl] INFO  org.apache.hadoop.mapreduce.lib.input.FileInputFormat - Total input files to process : 1\n",
            "2020-10-11 20:56:19,340 [JobControl] INFO  org.apache.pig.backend.hadoop.executionengine.util.MapRedUtil - Total input paths to process : 1\n",
            "2020-10-11 20:56:19,369 [JobControl] INFO  org.apache.pig.backend.hadoop.executionengine.util.MapRedUtil - Total input paths (combined) to process : 19\n",
            "2020-10-11 20:56:19,473 [JobControl] INFO  org.apache.hadoop.mapreduce.JobSubmitter - number of splits:19\n",
            "2020-10-11 20:56:19,901 [JobControl] INFO  org.apache.hadoop.mapreduce.JobSubmitter - Submitting tokens for job: job_1602449014115_0001\n",
            "2020-10-11 20:56:20,248 [JobControl] INFO  org.apache.hadoop.mapred.YARNRunner - Job jar is not present. Not adding any jar to the list of resources.\n",
            "2020-10-11 20:56:20,347 [JobControl] INFO  org.apache.hadoop.conf.Configuration - resource-types.xml not found\n",
            "2020-10-11 20:56:20,348 [JobControl] INFO  org.apache.hadoop.yarn.util.resource.ResourceUtils - Unable to find 'resource-types.xml'.\n",
            "2020-10-11 20:56:20,354 [JobControl] INFO  org.apache.hadoop.yarn.util.resource.ResourceUtils - Adding resource type - name = memory-mb, units = Mi, type = COUNTABLE\n",
            "2020-10-11 20:56:20,354 [JobControl] INFO  org.apache.hadoop.yarn.util.resource.ResourceUtils - Adding resource type - name = vcores, units = , type = COUNTABLE\n",
            "2020-10-11 20:56:21,114 [JobControl] INFO  org.apache.hadoop.yarn.client.api.impl.YarnClientImpl - Submitted application application_1602449014115_0001\n",
            "2020-10-11 20:56:21,168 [JobControl] INFO  org.apache.hadoop.mapreduce.Job - The url to track the job: http://67aca42af605:8088/proxy/application_1602449014115_0001/\n",
            "2020-10-11 20:56:21,168 [main] INFO  org.apache.pig.backend.hadoop.executionengine.mapReduceLayer.MapReduceLauncher - HadoopJobId: job_1602449014115_0001\n",
            "2020-10-11 20:56:21,168 [main] INFO  org.apache.pig.backend.hadoop.executionengine.mapReduceLayer.MapReduceLauncher - Processing aliases agrupar,contar,raw\n",
            "2020-10-11 20:56:21,168 [main] INFO  org.apache.pig.backend.hadoop.executionengine.mapReduceLayer.MapReduceLauncher - detailed locations: M: raw[2,6],raw[-1,-1],contar[6,9],agrupar[4,10] C: contar[6,9],agrupar[4,10] R: contar[6,9]\n",
            "2020-10-11 20:56:21,179 [main] INFO  org.apache.pig.backend.hadoop.executionengine.mapReduceLayer.MapReduceLauncher - 0% complete\n",
            "2020-10-11 20:56:21,180 [main] INFO  org.apache.pig.backend.hadoop.executionengine.mapReduceLayer.MapReduceLauncher - Running jobs are [job_1602449014115_0001]\n",
            "2020-10-11 20:58:15,535 [main] INFO  org.apache.pig.backend.hadoop.executionengine.mapReduceLayer.MapReduceLauncher - 4% complete\n",
            "2020-10-11 20:58:15,535 [main] INFO  org.apache.pig.backend.hadoop.executionengine.mapReduceLayer.MapReduceLauncher - Running jobs are [job_1602449014115_0001]\n",
            "2020-10-11 20:59:01,126 [main] INFO  org.apache.pig.backend.hadoop.executionengine.mapReduceLayer.MapReduceLauncher - 8% complete\n",
            "2020-10-11 20:59:01,126 [main] INFO  org.apache.pig.backend.hadoop.executionengine.mapReduceLayer.MapReduceLauncher - Running jobs are [job_1602449014115_0001]\n",
            "2020-10-11 20:59:43,690 [main] INFO  org.apache.pig.backend.hadoop.executionengine.mapReduceLayer.MapReduceLauncher - 12% complete\n",
            "2020-10-11 20:59:43,691 [main] INFO  org.apache.pig.backend.hadoop.executionengine.mapReduceLayer.MapReduceLauncher - Running jobs are [job_1602449014115_0001]\n",
            "2020-10-11 21:00:43,809 [main] INFO  org.apache.pig.backend.hadoop.executionengine.mapReduceLayer.MapReduceLauncher - 21% complete\n",
            "2020-10-11 21:00:43,809 [main] INFO  org.apache.pig.backend.hadoop.executionengine.mapReduceLayer.MapReduceLauncher - Running jobs are [job_1602449014115_0001]\n",
            "2020-10-11 21:00:51,826 [main] INFO  org.apache.hadoop.yarn.client.RMProxy - Connecting to ResourceManager at /0.0.0.0:8032\n",
            "2020-10-11 21:00:51,840 [main] INFO  org.apache.hadoop.mapred.ClientServiceDelegate - Application state is completed. FinalApplicationStatus=SUCCEEDED. Redirecting to job history server\n",
            "2020-10-11 21:00:53,222 [main] INFO  org.apache.hadoop.yarn.client.RMProxy - Connecting to ResourceManager at /0.0.0.0:8032\n",
            "2020-10-11 21:00:53,230 [main] INFO  org.apache.hadoop.mapred.ClientServiceDelegate - Application state is completed. FinalApplicationStatus=SUCCEEDED. Redirecting to job history server\n",
            "2020-10-11 21:00:53,286 [main] INFO  org.apache.hadoop.yarn.client.RMProxy - Connecting to ResourceManager at /0.0.0.0:8032\n",
            "2020-10-11 21:00:53,292 [main] INFO  org.apache.hadoop.mapred.ClientServiceDelegate - Application state is completed. FinalApplicationStatus=SUCCEEDED. Redirecting to job history server\n",
            "2020-10-11 21:00:53,385 [main] INFO  org.apache.pig.tools.pigstats.mapreduce.MRScriptState - Pig script settings are added to the job\n",
            "2020-10-11 21:00:53,387 [main] INFO  org.apache.pig.backend.hadoop.executionengine.mapReduceLayer.JobControlCompiler - mapred.job.reduce.markreset.buffer.percent is not set, set to default 0.3\n",
            "2020-10-11 21:00:53,390 [main] INFO  org.apache.pig.backend.hadoop.executionengine.mapReduceLayer.JobControlCompiler - Reduce phase detected, estimating # of required reducers.\n",
            "2020-10-11 21:00:53,390 [main] INFO  org.apache.pig.backend.hadoop.executionengine.mapReduceLayer.JobControlCompiler - Using reducer estimator: org.apache.pig.backend.hadoop.executionengine.mapReduceLayer.InputSizeReducerEstimator\n",
            "2020-10-11 21:00:53,402 [main] INFO  org.apache.pig.backend.hadoop.executionengine.mapReduceLayer.InputSizeReducerEstimator - BytesPerReducer=1000000000 maxReducers=999 totalInputFileSize=4431838\n",
            "2020-10-11 21:00:53,404 [main] INFO  org.apache.pig.backend.hadoop.executionengine.mapReduceLayer.JobControlCompiler - Setting Parallelism to 1\n",
            "2020-10-11 21:00:53,405 [main] INFO  org.apache.pig.backend.hadoop.executionengine.mapReduceLayer.JobControlCompiler - This job cannot be converted run in-process\n",
            "2020-10-11 21:00:53,904 [main] INFO  org.apache.pig.backend.hadoop.executionengine.mapReduceLayer.JobControlCompiler - Added jar file:/content/pig-0.17.0/pig-0.17.0-core-h2.jar to DistributedCache through /tmp/temp-491427819/tmp1726816411/pig-0.17.0-core-h2.jar\n",
            "2020-10-11 21:00:53,932 [main] INFO  org.apache.pig.backend.hadoop.executionengine.mapReduceLayer.JobControlCompiler - Added jar file:/content/pig-0.17.0/lib/automaton-1.11-8.jar to DistributedCache through /tmp/temp-491427819/tmp592877664/automaton-1.11-8.jar\n",
            "2020-10-11 21:00:53,960 [main] INFO  org.apache.pig.backend.hadoop.executionengine.mapReduceLayer.JobControlCompiler - Added jar file:/content/pig-0.17.0/lib/antlr-runtime-3.4.jar to DistributedCache through /tmp/temp-491427819/tmp837379496/antlr-runtime-3.4.jar\n",
            "2020-10-11 21:00:53,995 [main] INFO  org.apache.pig.backend.hadoop.executionengine.mapReduceLayer.JobControlCompiler - Added jar file:/content/pig-0.17.0/lib/joda-time-2.9.3.jar to DistributedCache through /tmp/temp-491427819/tmp1408009020/joda-time-2.9.3.jar\n",
            "2020-10-11 21:00:54,001 [main] INFO  org.apache.pig.backend.hadoop.executionengine.mapReduceLayer.JobControlCompiler - Setting up single store job\n",
            "2020-10-11 21:00:54,003 [main] INFO  org.apache.pig.data.SchemaTupleFrontend - Key [pig.schematuple] is false, will not generate code.\n",
            "2020-10-11 21:00:54,003 [main] INFO  org.apache.pig.data.SchemaTupleFrontend - Starting process to move generated code to distributed cacche\n",
            "2020-10-11 21:00:54,003 [main] INFO  org.apache.pig.data.SchemaTupleFrontend - Setting key [pig.schematuple.classes] with classes to deserialize []\n",
            "2020-10-11 21:00:54,039 [main] INFO  org.apache.pig.backend.hadoop.executionengine.mapReduceLayer.MapReduceLauncher - 1 map-reduce job(s) waiting for submission.\n",
            "2020-10-11 21:00:54,043 [JobControl] INFO  org.apache.hadoop.yarn.client.RMProxy - Connecting to ResourceManager at /0.0.0.0:8032\n",
            "2020-10-11 21:00:54,052 [JobControl] INFO  org.apache.hadoop.conf.Configuration.deprecation - yarn.resourcemanager.system-metrics-publisher.enabled is deprecated. Instead, use yarn.system-metrics-publisher.enabled\n",
            "2020-10-11 21:00:54,070 [JobControl] WARN  org.apache.hadoop.mapreduce.JobResourceUploader - No job jar file set.  User classes may not be found. See Job or Job#setJar(String).\n",
            "2020-10-11 21:00:54,090 [JobControl] INFO  org.apache.hadoop.mapreduce.lib.input.FileInputFormat - Total input files to process : 3\n",
            "2020-10-11 21:00:54,090 [JobControl] INFO  org.apache.pig.backend.hadoop.executionengine.util.MapRedUtil - Total input paths to process : 3\n",
            "2020-10-11 21:00:54,090 [JobControl] INFO  org.apache.pig.backend.hadoop.executionengine.util.MapRedUtil - Total input paths (combined) to process : 1\n",
            "2020-10-11 21:00:54,155 [JobControl] INFO  org.apache.hadoop.mapreduce.JobSubmitter - number of splits:1\n",
            "2020-10-11 21:00:54,226 [JobControl] INFO  org.apache.hadoop.mapreduce.JobSubmitter - Submitting tokens for job: job_1602449014115_0002\n",
            "2020-10-11 21:00:54,231 [JobControl] INFO  org.apache.hadoop.mapred.YARNRunner - Job jar is not present. Not adding any jar to the list of resources.\n",
            "2020-10-11 21:00:54,289 [JobControl] INFO  org.apache.hadoop.yarn.client.api.impl.YarnClientImpl - Submitted application application_1602449014115_0002\n",
            "2020-10-11 21:00:54,296 [JobControl] INFO  org.apache.hadoop.mapreduce.Job - The url to track the job: http://67aca42af605:8088/proxy/application_1602449014115_0002/\n",
            "2020-10-11 21:00:54,541 [main] INFO  org.apache.pig.backend.hadoop.executionengine.mapReduceLayer.MapReduceLauncher - HadoopJobId: job_1602449014115_0002\n",
            "2020-10-11 21:00:54,541 [main] INFO  org.apache.pig.backend.hadoop.executionengine.mapReduceLayer.MapReduceLauncher - Processing aliases ordenar\n",
            "2020-10-11 21:00:54,541 [main] INFO  org.apache.pig.backend.hadoop.executionengine.mapReduceLayer.MapReduceLauncher - detailed locations: M: ordenar[8,10] C:  R: \n",
            "2020-10-11 21:01:09,133 [main] INFO  org.apache.pig.backend.hadoop.executionengine.mapReduceLayer.MapReduceLauncher - 37% complete\n",
            "2020-10-11 21:01:09,133 [main] INFO  org.apache.pig.backend.hadoop.executionengine.mapReduceLayer.MapReduceLauncher - Running jobs are [job_1602449014115_0002]\n",
            "2020-10-11 21:01:13,643 [main] INFO  org.apache.pig.backend.hadoop.executionengine.mapReduceLayer.MapReduceLauncher - 50% complete\n",
            "2020-10-11 21:01:13,645 [main] INFO  org.apache.pig.backend.hadoop.executionengine.mapReduceLayer.MapReduceLauncher - Running jobs are [job_1602449014115_0002]\n",
            "2020-10-11 21:01:19,657 [main] INFO  org.apache.hadoop.yarn.client.RMProxy - Connecting to ResourceManager at /0.0.0.0:8032\n",
            "2020-10-11 21:01:19,666 [main] INFO  org.apache.hadoop.mapred.ClientServiceDelegate - Application state is completed. FinalApplicationStatus=SUCCEEDED. Redirecting to job history server\n",
            "2020-10-11 21:01:19,817 [main] INFO  org.apache.hadoop.yarn.client.RMProxy - Connecting to ResourceManager at /0.0.0.0:8032\n",
            "2020-10-11 21:01:19,836 [main] INFO  org.apache.hadoop.mapred.ClientServiceDelegate - Application state is completed. FinalApplicationStatus=SUCCEEDED. Redirecting to job history server\n",
            "2020-10-11 21:01:19,893 [main] INFO  org.apache.hadoop.yarn.client.RMProxy - Connecting to ResourceManager at /0.0.0.0:8032\n",
            "2020-10-11 21:01:19,912 [main] INFO  org.apache.hadoop.mapred.ClientServiceDelegate - Application state is completed. FinalApplicationStatus=SUCCEEDED. Redirecting to job history server\n",
            "2020-10-11 21:01:19,960 [main] INFO  org.apache.pig.tools.pigstats.mapreduce.MRScriptState - Pig script settings are added to the job\n",
            "2020-10-11 21:01:19,962 [main] INFO  org.apache.pig.backend.hadoop.executionengine.mapReduceLayer.JobControlCompiler - mapred.job.reduce.markreset.buffer.percent is not set, set to default 0.3\n",
            "2020-10-11 21:01:19,965 [main] INFO  org.apache.pig.backend.hadoop.executionengine.mapReduceLayer.JobControlCompiler - Reduce phase detected, estimating # of required reducers.\n",
            "2020-10-11 21:01:19,969 [main] INFO  org.apache.pig.backend.hadoop.executionengine.mapReduceLayer.JobControlCompiler - Setting Parallelism to 1\n",
            "2020-10-11 21:01:19,969 [main] INFO  org.apache.pig.backend.hadoop.executionengine.mapReduceLayer.JobControlCompiler - This job cannot be converted run in-process\n",
            "2020-10-11 21:01:20,059 [main] INFO  org.apache.pig.backend.hadoop.executionengine.mapReduceLayer.JobControlCompiler - Added jar file:/content/pig-0.17.0/pig-0.17.0-core-h2.jar to DistributedCache through /tmp/temp-491427819/tmp-1620431483/pig-0.17.0-core-h2.jar\n",
            "2020-10-11 21:01:20,107 [main] INFO  org.apache.pig.backend.hadoop.executionengine.mapReduceLayer.JobControlCompiler - Added jar file:/content/pig-0.17.0/lib/automaton-1.11-8.jar to DistributedCache through /tmp/temp-491427819/tmp-220135734/automaton-1.11-8.jar\n",
            "2020-10-11 21:01:20,140 [main] INFO  org.apache.pig.backend.hadoop.executionengine.mapReduceLayer.JobControlCompiler - Added jar file:/content/pig-0.17.0/lib/antlr-runtime-3.4.jar to DistributedCache through /tmp/temp-491427819/tmp-789546221/antlr-runtime-3.4.jar\n",
            "2020-10-11 21:01:20,185 [main] INFO  org.apache.pig.backend.hadoop.executionengine.mapReduceLayer.JobControlCompiler - Added jar file:/content/pig-0.17.0/lib/joda-time-2.9.3.jar to DistributedCache through /tmp/temp-491427819/tmp1747823536/joda-time-2.9.3.jar\n",
            "2020-10-11 21:01:20,189 [main] INFO  org.apache.pig.backend.hadoop.executionengine.mapReduceLayer.JobControlCompiler - Setting up single store job\n",
            "2020-10-11 21:01:20,191 [main] INFO  org.apache.pig.data.SchemaTupleFrontend - Key [pig.schematuple] is false, will not generate code.\n",
            "2020-10-11 21:01:20,194 [main] INFO  org.apache.pig.data.SchemaTupleFrontend - Starting process to move generated code to distributed cacche\n",
            "2020-10-11 21:01:20,194 [main] INFO  org.apache.pig.data.SchemaTupleFrontend - Setting key [pig.schematuple.classes] with classes to deserialize []\n",
            "2020-10-11 21:01:20,279 [main] INFO  org.apache.pig.backend.hadoop.executionengine.mapReduceLayer.MapReduceLauncher - 1 map-reduce job(s) waiting for submission.\n",
            "2020-10-11 21:01:20,289 [JobControl] INFO  org.apache.hadoop.yarn.client.RMProxy - Connecting to ResourceManager at /0.0.0.0:8032\n",
            "2020-10-11 21:01:20,315 [JobControl] INFO  org.apache.hadoop.conf.Configuration.deprecation - yarn.resourcemanager.system-metrics-publisher.enabled is deprecated. Instead, use yarn.system-metrics-publisher.enabled\n",
            "2020-10-11 21:01:20,345 [JobControl] WARN  org.apache.hadoop.mapreduce.JobResourceUploader - No job jar file set.  User classes may not be found. See Job or Job#setJar(String).\n",
            "2020-10-11 21:01:20,405 [JobControl] INFO  org.apache.hadoop.mapreduce.lib.input.FileInputFormat - Total input files to process : 3\n",
            "2020-10-11 21:01:20,405 [JobControl] INFO  org.apache.pig.backend.hadoop.executionengine.util.MapRedUtil - Total input paths to process : 3\n",
            "2020-10-11 21:01:20,406 [JobControl] INFO  org.apache.pig.backend.hadoop.executionengine.util.MapRedUtil - Total input paths (combined) to process : 1\n",
            "2020-10-11 21:01:20,885 [JobControl] INFO  org.apache.hadoop.mapreduce.JobSubmitter - number of splits:1\n",
            "2020-10-11 21:01:20,940 [JobControl] INFO  org.apache.hadoop.mapreduce.JobSubmitter - Submitting tokens for job: job_1602449014115_0003\n",
            "2020-10-11 21:01:20,955 [JobControl] INFO  org.apache.hadoop.mapred.YARNRunner - Job jar is not present. Not adding any jar to the list of resources.\n",
            "2020-10-11 21:01:21,008 [JobControl] INFO  org.apache.hadoop.yarn.client.api.impl.YarnClientImpl - Submitted application application_1602449014115_0003\n",
            "2020-10-11 21:01:21,018 [JobControl] INFO  org.apache.hadoop.mapreduce.Job - The url to track the job: http://67aca42af605:8088/proxy/application_1602449014115_0003/\n",
            "2020-10-11 21:01:21,018 [main] INFO  org.apache.pig.backend.hadoop.executionengine.mapReduceLayer.MapReduceLauncher - HadoopJobId: job_1602449014115_0003\n",
            "2020-10-11 21:01:21,018 [main] INFO  org.apache.pig.backend.hadoop.executionengine.mapReduceLayer.MapReduceLauncher - Processing aliases ordenar\n",
            "2020-10-11 21:01:21,019 [main] INFO  org.apache.pig.backend.hadoop.executionengine.mapReduceLayer.MapReduceLauncher - detailed locations: M: ordenar[8,10] C:  R: \n",
            "2020-10-11 21:01:35,137 [main] INFO  org.apache.pig.backend.hadoop.executionengine.mapReduceLayer.MapReduceLauncher - 62% complete\n",
            "2020-10-11 21:01:35,137 [main] INFO  org.apache.pig.backend.hadoop.executionengine.mapReduceLayer.MapReduceLauncher - Running jobs are [job_1602449014115_0003]\n",
            "2020-10-11 21:01:40,645 [main] INFO  org.apache.pig.backend.hadoop.executionengine.mapReduceLayer.MapReduceLauncher - 75% complete\n",
            "2020-10-11 21:01:40,645 [main] INFO  org.apache.pig.backend.hadoop.executionengine.mapReduceLayer.MapReduceLauncher - Running jobs are [job_1602449014115_0003]\n",
            "2020-10-11 21:01:46,158 [main] INFO  org.apache.hadoop.yarn.client.RMProxy - Connecting to ResourceManager at /0.0.0.0:8032\n",
            "2020-10-11 21:01:46,169 [main] INFO  org.apache.hadoop.mapred.ClientServiceDelegate - Application state is completed. FinalApplicationStatus=SUCCEEDED. Redirecting to job history server\n",
            "2020-10-11 21:01:46,316 [main] INFO  org.apache.hadoop.yarn.client.RMProxy - Connecting to ResourceManager at /0.0.0.0:8032\n",
            "2020-10-11 21:01:46,333 [main] INFO  org.apache.hadoop.mapred.ClientServiceDelegate - Application state is completed. FinalApplicationStatus=SUCCEEDED. Redirecting to job history server\n",
            "2020-10-11 21:01:46,388 [main] INFO  org.apache.hadoop.yarn.client.RMProxy - Connecting to ResourceManager at /0.0.0.0:8032\n",
            "2020-10-11 21:01:46,405 [main] INFO  org.apache.hadoop.mapred.ClientServiceDelegate - Application state is completed. FinalApplicationStatus=SUCCEEDED. Redirecting to job history server\n",
            "2020-10-11 21:01:46,449 [main] INFO  org.apache.pig.tools.pigstats.mapreduce.MRScriptState - Pig script settings are added to the job\n",
            "2020-10-11 21:01:46,454 [main] INFO  org.apache.pig.backend.hadoop.executionengine.mapReduceLayer.JobControlCompiler - mapred.job.reduce.markreset.buffer.percent is not set, set to default 0.3\n",
            "2020-10-11 21:01:46,455 [main] INFO  org.apache.pig.backend.hadoop.executionengine.mapReduceLayer.JobControlCompiler - Reduce phase detected, estimating # of required reducers.\n",
            "2020-10-11 21:01:46,455 [main] INFO  org.apache.pig.backend.hadoop.executionengine.mapReduceLayer.JobControlCompiler - Setting Parallelism to 1\n",
            "2020-10-11 21:01:46,455 [main] INFO  org.apache.pig.backend.hadoop.executionengine.mapReduceLayer.JobControlCompiler - This job cannot be converted run in-process\n",
            "2020-10-11 21:01:46,564 [main] INFO  org.apache.pig.backend.hadoop.executionengine.mapReduceLayer.JobControlCompiler - Added jar file:/content/pig-0.17.0/pig-0.17.0-core-h2.jar to DistributedCache through /tmp/temp-491427819/tmp1448375718/pig-0.17.0-core-h2.jar\n",
            "2020-10-11 21:01:46,612 [main] INFO  org.apache.pig.backend.hadoop.executionengine.mapReduceLayer.JobControlCompiler - Added jar file:/content/pig-0.17.0/lib/automaton-1.11-8.jar to DistributedCache through /tmp/temp-491427819/tmp1588419059/automaton-1.11-8.jar\n",
            "2020-10-11 21:01:46,649 [main] INFO  org.apache.pig.backend.hadoop.executionengine.mapReduceLayer.JobControlCompiler - Added jar file:/content/pig-0.17.0/lib/antlr-runtime-3.4.jar to DistributedCache through /tmp/temp-491427819/tmp-1049347467/antlr-runtime-3.4.jar\n",
            "2020-10-11 21:01:47,087 [main] INFO  org.apache.pig.backend.hadoop.executionengine.mapReduceLayer.JobControlCompiler - Added jar file:/content/pig-0.17.0/lib/joda-time-2.9.3.jar to DistributedCache through /tmp/temp-491427819/tmp-974746611/joda-time-2.9.3.jar\n",
            "2020-10-11 21:01:47,090 [main] INFO  org.apache.pig.backend.hadoop.executionengine.mapReduceLayer.JobControlCompiler - Setting up single store job\n",
            "2020-10-11 21:01:47,091 [main] INFO  org.apache.pig.data.SchemaTupleFrontend - Key [pig.schematuple] is false, will not generate code.\n",
            "2020-10-11 21:01:47,091 [main] INFO  org.apache.pig.data.SchemaTupleFrontend - Starting process to move generated code to distributed cacche\n",
            "2020-10-11 21:01:47,091 [main] INFO  org.apache.pig.data.SchemaTupleFrontend - Setting key [pig.schematuple.classes] with classes to deserialize []\n",
            "2020-10-11 21:01:47,105 [main] INFO  org.apache.pig.backend.hadoop.executionengine.mapReduceLayer.MapReduceLauncher - 1 map-reduce job(s) waiting for submission.\n",
            "2020-10-11 21:01:47,114 [JobControl] INFO  org.apache.hadoop.yarn.client.RMProxy - Connecting to ResourceManager at /0.0.0.0:8032\n",
            "2020-10-11 21:01:47,130 [JobControl] INFO  org.apache.hadoop.conf.Configuration.deprecation - yarn.resourcemanager.system-metrics-publisher.enabled is deprecated. Instead, use yarn.system-metrics-publisher.enabled\n",
            "2020-10-11 21:01:47,145 [JobControl] WARN  org.apache.hadoop.mapreduce.JobResourceUploader - No job jar file set.  User classes may not be found. See Job or Job#setJar(String).\n",
            "2020-10-11 21:01:47,161 [JobControl] INFO  org.apache.hadoop.mapreduce.lib.input.FileInputFormat - Total input files to process : 1\n",
            "2020-10-11 21:01:47,161 [JobControl] INFO  org.apache.pig.backend.hadoop.executionengine.util.MapRedUtil - Total input paths to process : 1\n",
            "2020-10-11 21:01:47,161 [JobControl] INFO  org.apache.pig.backend.hadoop.executionengine.util.MapRedUtil - Total input paths (combined) to process : 1\n",
            "2020-10-11 21:01:47,214 [JobControl] INFO  org.apache.hadoop.mapreduce.JobSubmitter - number of splits:1\n",
            "2020-10-11 21:01:47,280 [JobControl] INFO  org.apache.hadoop.mapreduce.JobSubmitter - Submitting tokens for job: job_1602449014115_0004\n",
            "2020-10-11 21:01:47,287 [JobControl] INFO  org.apache.hadoop.mapred.YARNRunner - Job jar is not present. Not adding any jar to the list of resources.\n",
            "2020-10-11 21:01:47,339 [JobControl] INFO  org.apache.hadoop.yarn.client.api.impl.YarnClientImpl - Submitted application application_1602449014115_0004\n",
            "2020-10-11 21:01:47,347 [JobControl] INFO  org.apache.hadoop.mapreduce.Job - The url to track the job: http://67aca42af605:8088/proxy/application_1602449014115_0004/\n",
            "2020-10-11 21:01:47,607 [main] INFO  org.apache.pig.backend.hadoop.executionengine.mapReduceLayer.MapReduceLauncher - HadoopJobId: job_1602449014115_0004\n",
            "2020-10-11 21:01:47,607 [main] INFO  org.apache.pig.backend.hadoop.executionengine.mapReduceLayer.MapReduceLauncher - Processing aliases ordenar\n",
            "2020-10-11 21:01:47,607 [main] INFO  org.apache.pig.backend.hadoop.executionengine.mapReduceLayer.MapReduceLauncher - detailed locations: M: ordenar[8,10] C:  R: \n",
            "2020-10-11 21:01:59,702 [main] INFO  org.apache.pig.backend.hadoop.executionengine.mapReduceLayer.MapReduceLauncher - 87% complete\n",
            "2020-10-11 21:01:59,703 [main] INFO  org.apache.pig.backend.hadoop.executionengine.mapReduceLayer.MapReduceLauncher - Running jobs are [job_1602449014115_0004]\n",
            "2020-10-11 21:02:07,214 [main] INFO  org.apache.pig.backend.hadoop.executionengine.mapReduceLayer.MapReduceLauncher - Running jobs are [job_1602449014115_0004]\n",
            "2020-10-11 21:02:07,720 [main] INFO  org.apache.hadoop.yarn.client.RMProxy - Connecting to ResourceManager at /0.0.0.0:8032\n",
            "2020-10-11 21:02:07,732 [main] INFO  org.apache.hadoop.mapred.ClientServiceDelegate - Application state is completed. FinalApplicationStatus=SUCCEEDED. Redirecting to job history server\n",
            "2020-10-11 21:02:07,879 [main] INFO  org.apache.hadoop.yarn.client.RMProxy - Connecting to ResourceManager at /0.0.0.0:8032\n",
            "2020-10-11 21:02:07,887 [main] INFO  org.apache.hadoop.mapred.ClientServiceDelegate - Application state is completed. FinalApplicationStatus=SUCCEEDED. Redirecting to job history server\n",
            "2020-10-11 21:02:07,920 [main] INFO  org.apache.hadoop.yarn.client.RMProxy - Connecting to ResourceManager at /0.0.0.0:8032\n",
            "2020-10-11 21:02:07,938 [main] INFO  org.apache.hadoop.mapred.ClientServiceDelegate - Application state is completed. FinalApplicationStatus=SUCCEEDED. Redirecting to job history server\n",
            "2020-10-11 21:02:07,964 [main] INFO  org.apache.pig.backend.hadoop.executionengine.mapReduceLayer.MapReduceLauncher - 100% complete\n",
            "2020-10-11 21:02:07,996 [main] INFO  org.apache.pig.tools.pigstats.mapreduce.SimplePigStats - Script Statistics: \n",
            "\n",
            "HadoopVersion\tPigVersion\tUserId\tStartedAt\tFinishedAt\tFeatures\n",
            "2.10.0\t0.17.0\troot\t2020-10-11 20:56:18\t2020-10-11 21:02:07\tGROUP_BY,ORDER_BY,LIMIT\n",
            "\n",
            "Success!\n",
            "\n",
            "Job Stats (time in seconds):\n",
            "JobId\tMaps\tReduces\tMaxMapTime\tMinMapTime\tAvgMapTime\tMedianMapTime\tMaxReduceTime\tMinReduceTime\tAvgReduceTime\tMedianReducetime\tAlias\tFeature\tOutputs\n",
            "job_1602449014115_0001\t19\t3\t73\t28\t55\t65\t177\t107\t133\t113\tagrupar,contar,raw\tGROUP_BY,COMBINER\t\n",
            "job_1602449014115_0002\t1\t1\t3\t3\t3\t3\t4\t4\t4\t4\tordenar\tSAMPLER\t\n",
            "job_1602449014115_0003\t1\t1\t4\t4\t4\t4\t3\t3\t3\t3\tordenar\tORDER_BY,COMBINER\t\n",
            "job_1602449014115_0004\t1\t1\t3\t3\t3\t3\t3\t3\t3\t3\tordenar\t\thdfs://localhost:9000/user/root/actividad1,\n",
            "\n",
            "Input(s):\n",
            "Successfully read 19150868 records (2529275303 bytes) from: \"hdfs://localhost:9000/user/root/userid-otros\"\n",
            "\n",
            "Output(s):\n",
            "Successfully stored 10 records (180 bytes) in: \"hdfs://localhost:9000/user/root/actividad1\"\n",
            "\n",
            "Counters:\n",
            "Total records written : 10\n",
            "Total bytes written : 180\n",
            "Spillable Memory Manager spill count : 0\n",
            "Total bags proactively spilled: 0\n",
            "Total records proactively spilled: 0\n",
            "\n",
            "Job DAG:\n",
            "job_1602449014115_0001\t->\tjob_1602449014115_0002,\n",
            "job_1602449014115_0002\t->\tjob_1602449014115_0003,\n",
            "job_1602449014115_0003\t->\tjob_1602449014115_0004,\n",
            "job_1602449014115_0004\n",
            "\n",
            "\n",
            "2020-10-11 21:02:07,997 [main] INFO  org.apache.hadoop.yarn.client.RMProxy - Connecting to ResourceManager at /0.0.0.0:8032\n",
            "2020-10-11 21:02:08,001 [main] INFO  org.apache.hadoop.mapred.ClientServiceDelegate - Application state is completed. FinalApplicationStatus=SUCCEEDED. Redirecting to job history server\n",
            "2020-10-11 21:02:08,036 [main] INFO  org.apache.hadoop.yarn.client.RMProxy - Connecting to ResourceManager at /0.0.0.0:8032\n",
            "2020-10-11 21:02:08,040 [main] INFO  org.apache.hadoop.mapred.ClientServiceDelegate - Application state is completed. FinalApplicationStatus=SUCCEEDED. Redirecting to job history server\n",
            "2020-10-11 21:02:08,061 [main] INFO  org.apache.hadoop.yarn.client.RMProxy - Connecting to ResourceManager at /0.0.0.0:8032\n",
            "2020-10-11 21:02:08,065 [main] INFO  org.apache.hadoop.mapred.ClientServiceDelegate - Application state is completed. FinalApplicationStatus=SUCCEEDED. Redirecting to job history server\n",
            "2020-10-11 21:02:08,095 [main] INFO  org.apache.hadoop.yarn.client.RMProxy - Connecting to ResourceManager at /0.0.0.0:8032\n",
            "2020-10-11 21:02:08,098 [main] INFO  org.apache.hadoop.mapred.ClientServiceDelegate - Application state is completed. FinalApplicationStatus=SUCCEEDED. Redirecting to job history server\n",
            "2020-10-11 21:02:08,120 [main] INFO  org.apache.hadoop.yarn.client.RMProxy - Connecting to ResourceManager at /0.0.0.0:8032\n",
            "2020-10-11 21:02:08,124 [main] INFO  org.apache.hadoop.mapred.ClientServiceDelegate - Application state is completed. FinalApplicationStatus=SUCCEEDED. Redirecting to job history server\n",
            "2020-10-11 21:02:08,146 [main] INFO  org.apache.hadoop.yarn.client.RMProxy - Connecting to ResourceManager at /0.0.0.0:8032\n",
            "2020-10-11 21:02:08,155 [main] INFO  org.apache.hadoop.mapred.ClientServiceDelegate - Application state is completed. FinalApplicationStatus=SUCCEEDED. Redirecting to job history server\n",
            "2020-10-11 21:02:08,179 [main] INFO  org.apache.hadoop.yarn.client.RMProxy - Connecting to ResourceManager at /0.0.0.0:8032\n",
            "2020-10-11 21:02:08,183 [main] INFO  org.apache.hadoop.mapred.ClientServiceDelegate - Application state is completed. FinalApplicationStatus=SUCCEEDED. Redirecting to job history server\n",
            "2020-10-11 21:02:08,217 [main] INFO  org.apache.hadoop.yarn.client.RMProxy - Connecting to ResourceManager at /0.0.0.0:8032\n",
            "2020-10-11 21:02:08,222 [main] INFO  org.apache.hadoop.mapred.ClientServiceDelegate - Application state is completed. FinalApplicationStatus=SUCCEEDED. Redirecting to job history server\n",
            "2020-10-11 21:02:08,252 [main] INFO  org.apache.hadoop.yarn.client.RMProxy - Connecting to ResourceManager at /0.0.0.0:8032\n",
            "2020-10-11 21:02:08,256 [main] INFO  org.apache.hadoop.mapred.ClientServiceDelegate - Application state is completed. FinalApplicationStatus=SUCCEEDED. Redirecting to job history server\n",
            "2020-10-11 21:02:08,284 [main] INFO  org.apache.hadoop.yarn.client.RMProxy - Connecting to ResourceManager at /0.0.0.0:8032\n",
            "2020-10-11 21:02:08,289 [main] INFO  org.apache.hadoop.mapred.ClientServiceDelegate - Application state is completed. FinalApplicationStatus=SUCCEEDED. Redirecting to job history server\n",
            "2020-10-11 21:02:08,324 [main] INFO  org.apache.hadoop.yarn.client.RMProxy - Connecting to ResourceManager at /0.0.0.0:8032\n",
            "2020-10-11 21:02:08,330 [main] INFO  org.apache.hadoop.mapred.ClientServiceDelegate - Application state is completed. FinalApplicationStatus=SUCCEEDED. Redirecting to job history server\n",
            "2020-10-11 21:02:08,361 [main] INFO  org.apache.hadoop.yarn.client.RMProxy - Connecting to ResourceManager at /0.0.0.0:8032\n",
            "2020-10-11 21:02:08,366 [main] INFO  org.apache.hadoop.mapred.ClientServiceDelegate - Application state is completed. FinalApplicationStatus=SUCCEEDED. Redirecting to job history server\n",
            "2020-10-11 21:02:08,394 [main] INFO  org.apache.pig.backend.hadoop.executionengine.mapReduceLayer.MapReduceLauncher - Success!\n",
            "2020-10-11 21:02:08,432 [main] INFO  org.apache.pig.Main - Pig script completed in 5 minutes, 53 seconds and 276 milliseconds (353276 ms)\n"
          ],
          "name": "stdout"
        }
      ]
    },
    {
      "cell_type": "code",
      "metadata": {
        "id": "W_lf36ABUYHN",
        "outputId": "d5345016-d4f0-482f-d51d-460712fbb3b1",
        "colab": {
          "base_uri": "https://localhost:8080/",
          "height": 92
        }
      },
      "source": [
        "!hdfs dfs -ls"
      ],
      "execution_count": 8,
      "outputs": [
        {
          "output_type": "stream",
          "text": [
            "Found 3 items\n",
            "drwxr-xr-x   - root supergroup          0 2020-10-11 21:02 actividad1\n",
            "drwxr-xr-x   - root supergroup          0 2020-10-11 20:56 userid-otros\n",
            "drwxr-xr-x   - root supergroup          0 2020-10-11 20:55 userid-profile\n"
          ],
          "name": "stdout"
        }
      ]
    },
    {
      "cell_type": "code",
      "metadata": {
        "id": "KKkzYU7UUbHM",
        "outputId": "4902d62b-3ce3-4730-de02-ce63fdc5089b",
        "colab": {
          "base_uri": "https://localhost:8080/",
          "height": 204
        }
      },
      "source": [
        "!hdfs dfs -cat actividad1/part-r-00000"
      ],
      "execution_count": 9,
      "outputs": [
        {
          "output_type": "stream",
          "text": [
            "Radiohead\t115209\n",
            "The Beatles\t100338\n",
            "Nine Inch Nails\t84421\n",
            "Muse\t63351\n",
            "Coldplay\t62251\n",
            "Depeche Mode\t59910\n",
            "Pink Floyd\t58561\n",
            "Death Cab For Cutie\t58083\n",
            "Placebo\t53543\n",
            "Elliott Smith\t50278\n"
          ],
          "name": "stdout"
        }
      ]
    },
    {
      "cell_type": "markdown",
      "metadata": {
        "id": "NcwgNsv6YF26"
      },
      "source": [
        "Responda la siguiente pregunta:\n",
        "\n",
        "¿ Cuál es el artista más popular y el menos popular del ranking top-10 ?\n"
      ]
    },
    {
      "cell_type": "markdown",
      "metadata": {
        "id": "wVCPwqF0PDB2"
      },
      "source": [
        "## Actividad 2"
      ]
    },
    {
      "cell_type": "markdown",
      "metadata": {
        "id": "8iNbc4NIRhsb"
      },
      "source": [
        "En esta actividad, utilizamos el lenguaje Pig Latin y la UDF: 'my_pig_udfs2' para responder la pregunta. \n",
        "\n",
        "El archivo \"actividad2.pig\" tiene la misma estructura que la anterior, la diferencia está en que se utiliza la UDF para filtrar los null de la variable género. Cabe aludir que funciona de igual manera con FILTER userid_profile BY gender IS NOT NULL. \n",
        "\n",
        "El resultado es el siguiente: \n",
        "\n",
        "gender conteo\n",
        "\n",
        "m\t63784\n",
        "\n",
        "f\t43748\n",
        "\n",
        "Por lo tanto, la distribución de género nos indica que más hombres que mujeres escucharon al artista Radiohead. Para los hombres son 63784 número de reproducciones y para las mujeres son 43748. \n"
      ]
    },
    {
      "cell_type": "code",
      "metadata": {
        "id": "K4xxyZlX7lZ2",
        "outputId": "bca124ce-a0ff-4b47-98f1-4480d205fb27",
        "colab": {
          "base_uri": "https://localhost:8080/",
          "height": 36
        }
      },
      "source": [
        "%%writefile actividad2.pig\n",
        "\n",
        "REGISTER 'my_pig_udfs2.py' USING jython AS my_pig_udfs2;\n",
        "\n",
        "userid_profile = LOAD 'userid-profile' USING PigStorage('\\t') AS (userid_p:chararray, gender:chararray, age:long, country:chararray, signup:chararray);\n",
        "\n",
        "userid_otros = LOAD 'userid-otros' USING PigStorage('\\t') AS (userid_o:chararray, timeztamp:chararray, artist_id:chararray, artist_name:chararray, track_id:chararray, track_name:chararray);\n",
        "\n",
        "nullgenero = FILTER userid_profile BY my_pig_udfs2.empty_or_null_detector(gender) == FALSE;\n",
        "\n",
        "juntar_tablas = JOIN nullgenero BY userid_p, userid_otros BY userid_o;\n",
        "\n",
        "alias = FILTER juntar_tablas BY (artist_name == 'Radiohead');\n",
        "\n",
        "agrupar = GROUP alias BY gender;\n",
        "\n",
        "contar = FOREACH agrupar GENERATE $0 as gender, COUNT($1) AS conteo;\n",
        "\n",
        "ordenar = ORDER contar BY conteo DESC;\n",
        "\n",
        "restringir = LIMIT ordenar 10;\n",
        "\n",
        "STORE restringir INTO 'actividad2' USING PigStorage( '\\t' );"
      ],
      "execution_count": 10,
      "outputs": [
        {
          "output_type": "stream",
          "text": [
            "Writing actividad2.pig\n"
          ],
          "name": "stdout"
        }
      ]
    },
    {
      "cell_type": "code",
      "metadata": {
        "id": "O2mH64ASlD8I",
        "outputId": "0f3c08e4-e477-4f13-be58-86c548b89a8b",
        "colab": {
          "base_uri": "https://localhost:8080/",
          "height": 1000
        }
      },
      "source": [
        "!pig -f actividad2.pig"
      ],
      "execution_count": 11,
      "outputs": [
        {
          "output_type": "stream",
          "text": [
            "20/10/11 21:02:15 INFO pig.ExecTypeProvider: Trying ExecType : LOCAL\n",
            "20/10/11 21:02:15 INFO pig.ExecTypeProvider: Trying ExecType : MAPREDUCE\n",
            "20/10/11 21:02:15 INFO pig.ExecTypeProvider: Picked MAPREDUCE as the ExecType\n",
            "2020-10-11 21:02:15,971 [main] INFO  org.apache.pig.Main - Apache Pig version 0.17.0 (r1797386) compiled Jun 02 2017, 15:41:58\n",
            "2020-10-11 21:02:15,972 [main] INFO  org.apache.pig.Main - Logging error messages to: /content/pig_1602450135970.log\n",
            "2020-10-11 21:02:16,598 [main] INFO  org.apache.pig.impl.util.Utils - Default bootup file /root/.pigbootup not found\n",
            "2020-10-11 21:02:16,677 [main] INFO  org.apache.hadoop.conf.Configuration.deprecation - mapred.job.tracker is deprecated. Instead, use mapreduce.jobtracker.address\n",
            "2020-10-11 21:02:16,677 [main] INFO  org.apache.pig.backend.hadoop.executionengine.HExecutionEngine - Connecting to hadoop file system at: hdfs://localhost:9000\n",
            "2020-10-11 21:02:17,188 [main] INFO  org.apache.pig.PigServer - Pig Script ID for the session: PIG-actividad2.pig-959d1182-18dd-431a-8b02-9f05d4085d19\n",
            "2020-10-11 21:02:17,189 [main] WARN  org.apache.pig.PigServer - ATS is disabled since yarn.timeline-service.enabled set to false\n",
            "2020-10-11 21:02:17,258 [main] INFO  org.apache.pig.scripting.jython.JythonScriptEngine - created tmp python.cachedir=/tmp/pig_jython_1233227840678348967\n",
            "2020-10-11 21:02:21,919 [main] WARN  org.apache.pig.scripting.jython.JythonScriptEngine - pig.cmd.args.remainders is empty. This is not expected unless on testing.\n",
            "2020-10-11 21:02:22,488 [MainThread] INFO  org.apache.pig.scripting.jython.JythonScriptEngine - Register scripting UDF: my_pig_udfs2.empty_or_null_detector\n",
            "2020-10-11 21:02:23,369 [MainThread] INFO  org.apache.pig.scripting.jython.JythonFunction - No schema defined for function 'empty_or_null_detector' in my_pig_udfs2.py\n",
            "2020-10-11 21:02:23,523 [MainThread] WARN  org.apache.pig.newplan.BaseOperatorPlan - Encountered Warning IMPLICIT_CAST_TO_BOOLEAN 1 time(s).\n",
            "2020-10-11 21:02:23,528 [MainThread] INFO  org.apache.hadoop.conf.Configuration.deprecation - mapred.textoutputformat.separator is deprecated. Instead, use mapreduce.output.textoutputformat.separator\n",
            "2020-10-11 21:02:23,559 [MainThread] INFO  org.apache.pig.tools.pigstats.ScriptState - Pig features used in the script: HASH_JOIN,GROUP_BY,ORDER_BY,FILTER,LIMIT\n",
            "2020-10-11 21:02:23,590 [MainThread] INFO  org.apache.pig.data.SchemaTupleBackend - Key [pig.schematuple] was not set... will not generate code.\n",
            "2020-10-11 21:02:23,635 [MainThread] INFO  org.apache.pig.newplan.logical.optimizer.LogicalPlanOptimizer - {RULES_ENABLED=[AddForEach, ColumnMapKeyPrune, ConstantCalculator, GroupByConstParallelSetter, LimitOptimizer, LoadTypeCastInserter, MergeFilter, MergeForEach, NestedLimitOptimizer, PartitionFilterOptimizer, PredicatePushdownOptimizer, PushDownForEachFlatten, PushUpFilter, SplitFilter, StreamTypeCastInserter]}\n",
            "2020-10-11 21:02:23,730 [MainThread] INFO  org.apache.pig.impl.util.SpillableMemoryManager - Selected heap (PS Old Gen) of size 699400192 to monitor. collectionUsageThreshold = 489580128, usageThreshold = 489580128\n",
            "2020-10-11 21:02:23,830 [MainThread] INFO  org.apache.pig.backend.hadoop.executionengine.mapReduceLayer.MRCompiler - File concatenation threshold: 100 optimistic? false\n",
            "2020-10-11 21:02:23,881 [MainThread] INFO  org.apache.pig.backend.hadoop.executionengine.util.CombinerOptimizerUtil - Choosing to move algebraic foreach to combiner\n",
            "2020-10-11 21:02:23,908 [MainThread] INFO  org.apache.pig.backend.hadoop.executionengine.mapReduceLayer.SecondaryKeyOptimizerMR - Using Secondary Key Optimization for MapReduce node scope-80\n",
            "2020-10-11 21:02:23,915 [MainThread] INFO  org.apache.pig.backend.hadoop.executionengine.mapReduceLayer.MRCompiler$LastInputStreamingOptimizer - Rewrite: POPackage->POForEach to POPackage(JoinPackager)\n",
            "2020-10-11 21:02:23,929 [MainThread] INFO  org.apache.pig.backend.hadoop.executionengine.mapReduceLayer.MultiQueryOptimizer - MR plan size before optimization: 5\n",
            "2020-10-11 21:02:23,929 [MainThread] INFO  org.apache.pig.backend.hadoop.executionengine.mapReduceLayer.MultiQueryOptimizer - MR plan size after optimization: 5\n",
            "2020-10-11 21:02:24,027 [MainThread] INFO  org.apache.hadoop.yarn.client.RMProxy - Connecting to ResourceManager at /0.0.0.0:8032\n",
            "2020-10-11 21:02:24,276 [MainThread] INFO  org.apache.hadoop.conf.Configuration.deprecation - yarn.resourcemanager.system-metrics-publisher.enabled is deprecated. Instead, use yarn.system-metrics-publisher.enabled\n",
            "2020-10-11 21:02:24,293 [MainThread] INFO  org.apache.pig.tools.pigstats.mapreduce.MRScriptState - Pig script settings are added to the job\n",
            "2020-10-11 21:02:24,301 [MainThread] INFO  org.apache.hadoop.conf.Configuration.deprecation - mapred.job.reduce.markreset.buffer.percent is deprecated. Instead, use mapreduce.reduce.markreset.buffer.percent\n",
            "2020-10-11 21:02:24,301 [MainThread] INFO  org.apache.pig.backend.hadoop.executionengine.mapReduceLayer.JobControlCompiler - mapred.job.reduce.markreset.buffer.percent is not set, set to default 0.3\n",
            "2020-10-11 21:02:24,304 [MainThread] INFO  org.apache.hadoop.conf.Configuration.deprecation - mapred.output.compress is deprecated. Instead, use mapreduce.output.fileoutputformat.compress\n",
            "2020-10-11 21:02:24,307 [MainThread] INFO  org.apache.pig.backend.hadoop.executionengine.mapReduceLayer.JobControlCompiler - Reduce phase detected, estimating # of required reducers.\n",
            "2020-10-11 21:02:24,311 [MainThread] INFO  org.apache.pig.backend.hadoop.executionengine.mapReduceLayer.JobControlCompiler - Using reducer estimator: org.apache.pig.backend.hadoop.executionengine.mapReduceLayer.InputSizeReducerEstimator\n",
            "2020-10-11 21:02:24,341 [MainThread] INFO  org.apache.pig.backend.hadoop.executionengine.mapReduceLayer.InputSizeReducerEstimator - BytesPerReducer=1000000000 maxReducers=999 totalInputFileSize=2529231437\n",
            "2020-10-11 21:02:24,342 [MainThread] INFO  org.apache.pig.backend.hadoop.executionengine.mapReduceLayer.JobControlCompiler - Setting Parallelism to 3\n",
            "2020-10-11 21:02:24,342 [MainThread] INFO  org.apache.hadoop.conf.Configuration.deprecation - mapred.reduce.tasks is deprecated. Instead, use mapreduce.job.reduces\n",
            "2020-10-11 21:02:24,342 [MainThread] INFO  org.apache.pig.backend.hadoop.executionengine.mapReduceLayer.JobControlCompiler - This job cannot be converted run in-process\n",
            "2020-10-11 21:02:24,389 [MainThread] INFO  org.apache.hadoop.conf.Configuration.deprecation - mapred.submit.replication is deprecated. Instead, use mapreduce.client.submit.file.replication\n",
            "2020-10-11 21:02:24,686 [MainThread] INFO  org.apache.pig.backend.hadoop.executionengine.mapReduceLayer.JobControlCompiler - Added jar file:/content/pig-0.17.0/pig-0.17.0-core-h2.jar to DistributedCache through /tmp/temp1095725241/tmp11935981/pig-0.17.0-core-h2.jar\n",
            "2020-10-11 21:02:25,645 [MainThread] INFO  org.apache.pig.backend.hadoop.executionengine.mapReduceLayer.JobControlCompiler - Added jar file:/content/pig-0.17.0/lib/jython-standalone-2.7.0.jar to DistributedCache through /tmp/temp1095725241/tmp1542865485/jython-standalone-2.7.0.jar\n",
            "2020-10-11 21:02:25,678 [MainThread] INFO  org.apache.pig.backend.hadoop.executionengine.mapReduceLayer.JobControlCompiler - Added jar file:/content/pig-0.17.0/lib/automaton-1.11-8.jar to DistributedCache through /tmp/temp1095725241/tmp-353013925/automaton-1.11-8.jar\n",
            "2020-10-11 21:02:25,711 [MainThread] INFO  org.apache.pig.backend.hadoop.executionengine.mapReduceLayer.JobControlCompiler - Added jar file:/content/pig-0.17.0/lib/antlr-runtime-3.4.jar to DistributedCache through /tmp/temp1095725241/tmp-1572054707/antlr-runtime-3.4.jar\n",
            "2020-10-11 21:02:25,753 [MainThread] INFO  org.apache.pig.backend.hadoop.executionengine.mapReduceLayer.JobControlCompiler - Added jar file:/content/pig-0.17.0/lib/joda-time-2.9.3.jar to DistributedCache through /tmp/temp1095725241/tmp-262302910/joda-time-2.9.3.jar\n",
            "2020-10-11 21:02:25,788 [MainThread] INFO  org.apache.pig.backend.hadoop.executionengine.mapReduceLayer.JobControlCompiler - Added jar file:/tmp/PigScriptUDF-3d31d79f20bfcf2d39f2c49aa97d7c38.jar to DistributedCache through /tmp/temp1095725241/tmp999480769/PigScriptUDF-3d31d79f20bfcf2d39f2c49aa97d7c38.jar\n",
            "2020-10-11 21:02:25,802 [MainThread] INFO  org.apache.pig.backend.hadoop.executionengine.mapReduceLayer.JobControlCompiler - Setting up single store job\n",
            "2020-10-11 21:02:25,807 [MainThread] INFO  org.apache.pig.data.SchemaTupleFrontend - Key [pig.schematuple] is false, will not generate code.\n",
            "2020-10-11 21:02:25,807 [MainThread] INFO  org.apache.pig.data.SchemaTupleFrontend - Starting process to move generated code to distributed cacche\n",
            "2020-10-11 21:02:25,807 [MainThread] INFO  org.apache.pig.data.SchemaTupleFrontend - Setting key [pig.schematuple.classes] with classes to deserialize []\n",
            "2020-10-11 21:02:25,907 [MainThread] INFO  org.apache.pig.backend.hadoop.executionengine.mapReduceLayer.MapReduceLauncher - 1 map-reduce job(s) waiting for submission.\n",
            "2020-10-11 21:02:25,908 [MainThread] INFO  org.apache.hadoop.conf.Configuration.deprecation - mapred.job.tracker.http.address is deprecated. Instead, use mapreduce.jobtracker.http.address\n",
            "2020-10-11 21:02:25,930 [JobControl] INFO  org.apache.hadoop.yarn.client.RMProxy - Connecting to ResourceManager at /0.0.0.0:8032\n",
            "2020-10-11 21:02:25,956 [JobControl] INFO  org.apache.hadoop.conf.Configuration.deprecation - mapred.task.id is deprecated. Instead, use mapreduce.task.attempt.id\n",
            "2020-10-11 21:02:26,067 [JobControl] WARN  org.apache.hadoop.mapreduce.JobResourceUploader - No job jar file set.  User classes may not be found. See Job or Job#setJar(String).\n",
            "2020-10-11 21:02:26,092 [JobControl] INFO  org.apache.pig.builtin.PigStorage - Using PigTextInputFormat\n",
            "2020-10-11 21:02:26,115 [JobControl] INFO  org.apache.hadoop.mapreduce.lib.input.FileInputFormat - Total input files to process : 1\n",
            "2020-10-11 21:02:26,116 [JobControl] INFO  org.apache.pig.backend.hadoop.executionengine.util.MapRedUtil - Total input paths to process : 1\n",
            "2020-10-11 21:02:26,138 [JobControl] INFO  org.apache.pig.backend.hadoop.executionengine.util.MapRedUtil - Total input paths (combined) to process : 19\n",
            "2020-10-11 21:02:26,142 [JobControl] INFO  org.apache.pig.builtin.PigStorage - Using PigTextInputFormat\n",
            "2020-10-11 21:02:26,152 [JobControl] INFO  org.apache.hadoop.mapreduce.lib.input.FileInputFormat - Total input files to process : 1\n",
            "2020-10-11 21:02:26,152 [JobControl] INFO  org.apache.pig.backend.hadoop.executionengine.util.MapRedUtil - Total input paths to process : 1\n",
            "2020-10-11 21:02:26,153 [JobControl] INFO  org.apache.pig.backend.hadoop.executionengine.util.MapRedUtil - Total input paths (combined) to process : 1\n",
            "2020-10-11 21:02:26,256 [JobControl] INFO  org.apache.hadoop.mapreduce.JobSubmitter - number of splits:20\n",
            "2020-10-11 21:02:26,550 [JobControl] INFO  org.apache.hadoop.mapreduce.JobSubmitter - Submitting tokens for job: job_1602449014115_0005\n",
            "2020-10-11 21:02:26,744 [JobControl] INFO  org.apache.hadoop.mapred.YARNRunner - Job jar is not present. Not adding any jar to the list of resources.\n",
            "2020-10-11 21:02:26,886 [JobControl] INFO  org.apache.hadoop.conf.Configuration - resource-types.xml not found\n",
            "2020-10-11 21:02:26,887 [JobControl] INFO  org.apache.hadoop.yarn.util.resource.ResourceUtils - Unable to find 'resource-types.xml'.\n",
            "2020-10-11 21:02:26,895 [JobControl] INFO  org.apache.hadoop.yarn.util.resource.ResourceUtils - Adding resource type - name = memory-mb, units = Mi, type = COUNTABLE\n",
            "2020-10-11 21:02:26,896 [JobControl] INFO  org.apache.hadoop.yarn.util.resource.ResourceUtils - Adding resource type - name = vcores, units = , type = COUNTABLE\n",
            "2020-10-11 21:02:27,243 [JobControl] INFO  org.apache.hadoop.yarn.client.api.impl.YarnClientImpl - Submitted application application_1602449014115_0005\n",
            "2020-10-11 21:02:27,295 [JobControl] INFO  org.apache.hadoop.mapreduce.Job - The url to track the job: http://67aca42af605:8088/proxy/application_1602449014115_0005/\n",
            "2020-10-11 21:02:27,296 [MainThread] INFO  org.apache.pig.backend.hadoop.executionengine.mapReduceLayer.MapReduceLauncher - HadoopJobId: job_1602449014115_0005\n",
            "2020-10-11 21:02:27,296 [MainThread] INFO  org.apache.pig.backend.hadoop.executionengine.mapReduceLayer.MapReduceLauncher - Processing aliases alias,juntar_tablas,nullgenero,userid_otros,userid_profile\n",
            "2020-10-11 21:02:27,296 [MainThread] INFO  org.apache.pig.backend.hadoop.executionengine.mapReduceLayer.MapReduceLauncher - detailed locations: M: userid_otros[6,15],userid_otros[-1,-1],alias[12,8],juntar_tablas[10,16],userid_profile[4,17],userid_profile[-1,-1],nullgenero[8,13],juntar_tablas[10,16] C:  R: \n",
            "2020-10-11 21:02:27,310 [MainThread] INFO  org.apache.pig.backend.hadoop.executionengine.mapReduceLayer.MapReduceLauncher - 0% complete\n",
            "2020-10-11 21:02:27,310 [MainThread] INFO  org.apache.pig.backend.hadoop.executionengine.mapReduceLayer.MapReduceLauncher - Running jobs are [job_1602449014115_0005]\n",
            "2020-10-11 21:05:59,864 [MainThread] INFO  org.apache.pig.backend.hadoop.executionengine.mapReduceLayer.MapReduceLauncher - 4% complete\n",
            "2020-10-11 21:05:59,865 [MainThread] INFO  org.apache.pig.backend.hadoop.executionengine.mapReduceLayer.MapReduceLauncher - Running jobs are [job_1602449014115_0005]\n",
            "2020-10-11 21:07:22,530 [MainThread] INFO  org.apache.pig.backend.hadoop.executionengine.mapReduceLayer.MapReduceLauncher - 8% complete\n",
            "2020-10-11 21:07:22,530 [MainThread] INFO  org.apache.pig.backend.hadoop.executionengine.mapReduceLayer.MapReduceLauncher - Running jobs are [job_1602449014115_0005]\n",
            "2020-10-11 21:09:07,696 [MainThread] INFO  org.apache.pig.backend.hadoop.executionengine.mapReduceLayer.MapReduceLauncher - 12% complete\n",
            "2020-10-11 21:09:07,696 [MainThread] INFO  org.apache.pig.backend.hadoop.executionengine.mapReduceLayer.MapReduceLauncher - Running jobs are [job_1602449014115_0005]\n",
            "2020-10-11 21:09:19,715 [MainThread] INFO  org.apache.pig.backend.hadoop.executionengine.mapReduceLayer.MapReduceLauncher - 20% complete\n",
            "2020-10-11 21:09:19,715 [MainThread] INFO  org.apache.pig.backend.hadoop.executionengine.mapReduceLayer.MapReduceLauncher - Running jobs are [job_1602449014115_0005]\n",
            "2020-10-11 21:09:22,726 [MainThread] INFO  org.apache.hadoop.yarn.client.RMProxy - Connecting to ResourceManager at /0.0.0.0:8032\n",
            "2020-10-11 21:09:22,741 [MainThread] INFO  org.apache.hadoop.mapred.ClientServiceDelegate - Application state is completed. FinalApplicationStatus=SUCCEEDED. Redirecting to job history server\n",
            "2020-10-11 21:09:23,184 [MainThread] INFO  org.apache.hadoop.yarn.client.RMProxy - Connecting to ResourceManager at /0.0.0.0:8032\n",
            "2020-10-11 21:09:23,200 [MainThread] INFO  org.apache.hadoop.mapred.ClientServiceDelegate - Application state is completed. FinalApplicationStatus=SUCCEEDED. Redirecting to job history server\n",
            "2020-10-11 21:09:23,254 [MainThread] INFO  org.apache.hadoop.yarn.client.RMProxy - Connecting to ResourceManager at /0.0.0.0:8032\n",
            "2020-10-11 21:09:23,259 [MainThread] INFO  org.apache.hadoop.mapred.ClientServiceDelegate - Application state is completed. FinalApplicationStatus=SUCCEEDED. Redirecting to job history server\n",
            "2020-10-11 21:09:23,359 [MainThread] INFO  org.apache.pig.tools.pigstats.mapreduce.MRScriptState - Pig script settings are added to the job\n",
            "2020-10-11 21:09:23,360 [MainThread] INFO  org.apache.pig.backend.hadoop.executionengine.mapReduceLayer.JobControlCompiler - mapred.job.reduce.markreset.buffer.percent is not set, set to default 0.3\n",
            "2020-10-11 21:09:23,362 [MainThread] INFO  org.apache.pig.backend.hadoop.executionengine.mapReduceLayer.JobControlCompiler - Reduce phase detected, estimating # of required reducers.\n",
            "2020-10-11 21:09:23,362 [MainThread] INFO  org.apache.pig.backend.hadoop.executionengine.mapReduceLayer.JobControlCompiler - Using reducer estimator: org.apache.pig.backend.hadoop.executionengine.mapReduceLayer.InputSizeReducerEstimator\n",
            "2020-10-11 21:09:23,371 [MainThread] INFO  org.apache.pig.backend.hadoop.executionengine.mapReduceLayer.InputSizeReducerEstimator - BytesPerReducer=1000000000 maxReducers=999 totalInputFileSize=21085636\n",
            "2020-10-11 21:09:23,374 [MainThread] INFO  org.apache.pig.backend.hadoop.executionengine.mapReduceLayer.JobControlCompiler - Setting Parallelism to 1\n",
            "2020-10-11 21:09:23,374 [MainThread] INFO  org.apache.pig.backend.hadoop.executionengine.mapReduceLayer.JobControlCompiler - This job cannot be converted run in-process\n",
            "2020-10-11 21:09:23,462 [MainThread] INFO  org.apache.pig.backend.hadoop.executionengine.mapReduceLayer.JobControlCompiler - Added jar file:/content/pig-0.17.0/pig-0.17.0-core-h2.jar to DistributedCache through /tmp/temp1095725241/tmp-2020029500/pig-0.17.0-core-h2.jar\n",
            "2020-10-11 21:09:23,792 [MainThread] INFO  org.apache.pig.backend.hadoop.executionengine.mapReduceLayer.JobControlCompiler - Added jar file:/content/pig-0.17.0/lib/jython-standalone-2.7.0.jar to DistributedCache through /tmp/temp1095725241/tmp795338502/jython-standalone-2.7.0.jar\n",
            "2020-10-11 21:09:23,840 [MainThread] INFO  org.apache.pig.backend.hadoop.executionengine.mapReduceLayer.JobControlCompiler - Added jar file:/content/pig-0.17.0/lib/automaton-1.11-8.jar to DistributedCache through /tmp/temp1095725241/tmp2013614476/automaton-1.11-8.jar\n",
            "2020-10-11 21:09:23,879 [MainThread] INFO  org.apache.pig.backend.hadoop.executionengine.mapReduceLayer.JobControlCompiler - Added jar file:/content/pig-0.17.0/lib/antlr-runtime-3.4.jar to DistributedCache through /tmp/temp1095725241/tmp-415440351/antlr-runtime-3.4.jar\n",
            "2020-10-11 21:09:23,907 [MainThread] INFO  org.apache.pig.backend.hadoop.executionengine.mapReduceLayer.JobControlCompiler - Added jar file:/content/pig-0.17.0/lib/joda-time-2.9.3.jar to DistributedCache through /tmp/temp1095725241/tmp-140283551/joda-time-2.9.3.jar\n",
            "2020-10-11 21:09:23,943 [MainThread] INFO  org.apache.pig.backend.hadoop.executionengine.mapReduceLayer.JobControlCompiler - Added jar file:/tmp/PigScriptUDF-3d31d79f20bfcf2d39f2c49aa97d7c38.jar to DistributedCache through /tmp/temp1095725241/tmp-1224906008/PigScriptUDF-3d31d79f20bfcf2d39f2c49aa97d7c38.jar\n",
            "2020-10-11 21:09:23,945 [MainThread] INFO  org.apache.pig.backend.hadoop.executionengine.mapReduceLayer.JobControlCompiler - Setting up single store job\n",
            "2020-10-11 21:09:23,946 [MainThread] INFO  org.apache.pig.data.SchemaTupleFrontend - Key [pig.schematuple] is false, will not generate code.\n",
            "2020-10-11 21:09:23,946 [MainThread] INFO  org.apache.pig.data.SchemaTupleFrontend - Starting process to move generated code to distributed cacche\n",
            "2020-10-11 21:09:23,946 [MainThread] INFO  org.apache.pig.data.SchemaTupleFrontend - Setting key [pig.schematuple.classes] with classes to deserialize []\n",
            "2020-10-11 21:09:23,992 [MainThread] INFO  org.apache.pig.backend.hadoop.executionengine.mapReduceLayer.MapReduceLauncher - 1 map-reduce job(s) waiting for submission.\n",
            "2020-10-11 21:09:23,998 [JobControl] INFO  org.apache.hadoop.yarn.client.RMProxy - Connecting to ResourceManager at /0.0.0.0:8032\n",
            "2020-10-11 21:09:24,013 [JobControl] INFO  org.apache.hadoop.conf.Configuration.deprecation - yarn.resourcemanager.system-metrics-publisher.enabled is deprecated. Instead, use yarn.system-metrics-publisher.enabled\n",
            "2020-10-11 21:09:24,028 [JobControl] WARN  org.apache.hadoop.mapreduce.JobResourceUploader - No job jar file set.  User classes may not be found. See Job or Job#setJar(String).\n",
            "2020-10-11 21:09:24,065 [JobControl] INFO  org.apache.hadoop.mapreduce.lib.input.FileInputFormat - Total input files to process : 3\n",
            "2020-10-11 21:09:24,068 [JobControl] INFO  org.apache.pig.backend.hadoop.executionengine.util.MapRedUtil - Total input paths to process : 3\n",
            "2020-10-11 21:09:24,069 [JobControl] INFO  org.apache.pig.backend.hadoop.executionengine.util.MapRedUtil - Total input paths (combined) to process : 1\n",
            "2020-10-11 21:09:24,155 [JobControl] INFO  org.apache.hadoop.mapreduce.JobSubmitter - number of splits:1\n",
            "2020-10-11 21:09:24,210 [JobControl] INFO  org.apache.hadoop.mapreduce.JobSubmitter - Submitting tokens for job: job_1602449014115_0006\n",
            "2020-10-11 21:09:24,214 [JobControl] INFO  org.apache.hadoop.mapred.YARNRunner - Job jar is not present. Not adding any jar to the list of resources.\n",
            "2020-10-11 21:09:24,492 [JobControl] INFO  org.apache.hadoop.yarn.client.api.impl.YarnClientImpl - Submitted application application_1602449014115_0006\n",
            "2020-10-11 21:09:24,503 [JobControl] INFO  org.apache.hadoop.mapreduce.Job - The url to track the job: http://67aca42af605:8088/proxy/application_1602449014115_0006/\n",
            "2020-10-11 21:09:24,503 [MainThread] INFO  org.apache.pig.backend.hadoop.executionengine.mapReduceLayer.MapReduceLauncher - HadoopJobId: job_1602449014115_0006\n",
            "2020-10-11 21:09:24,503 [MainThread] INFO  org.apache.pig.backend.hadoop.executionengine.mapReduceLayer.MapReduceLauncher - Processing aliases agrupar,contar\n",
            "2020-10-11 21:09:24,504 [MainThread] INFO  org.apache.pig.backend.hadoop.executionengine.mapReduceLayer.MapReduceLauncher - detailed locations: M: contar[16,9],agrupar[14,10] C: contar[16,9],agrupar[14,10] R: contar[16,9]\n",
            "2020-10-11 21:09:43,604 [MainThread] INFO  org.apache.pig.backend.hadoop.executionengine.mapReduceLayer.MapReduceLauncher - 30% complete\n",
            "2020-10-11 21:09:43,605 [MainThread] INFO  org.apache.pig.backend.hadoop.executionengine.mapReduceLayer.MapReduceLauncher - Running jobs are [job_1602449014115_0006]\n",
            "2020-10-11 21:09:48,611 [MainThread] INFO  org.apache.pig.backend.hadoop.executionengine.mapReduceLayer.MapReduceLauncher - 40% complete\n",
            "2020-10-11 21:09:48,612 [MainThread] INFO  org.apache.pig.backend.hadoop.executionengine.mapReduceLayer.MapReduceLauncher - Running jobs are [job_1602449014115_0006]\n",
            "2020-10-11 21:09:49,618 [MainThread] INFO  org.apache.hadoop.yarn.client.RMProxy - Connecting to ResourceManager at /0.0.0.0:8032\n",
            "2020-10-11 21:09:49,629 [MainThread] INFO  org.apache.hadoop.mapred.ClientServiceDelegate - Application state is completed. FinalApplicationStatus=SUCCEEDED. Redirecting to job history server\n",
            "2020-10-11 21:09:49,720 [MainThread] INFO  org.apache.hadoop.yarn.client.RMProxy - Connecting to ResourceManager at /0.0.0.0:8032\n",
            "2020-10-11 21:09:49,726 [MainThread] INFO  org.apache.hadoop.mapred.ClientServiceDelegate - Application state is completed. FinalApplicationStatus=SUCCEEDED. Redirecting to job history server\n",
            "2020-10-11 21:09:49,758 [MainThread] INFO  org.apache.hadoop.yarn.client.RMProxy - Connecting to ResourceManager at /0.0.0.0:8032\n",
            "2020-10-11 21:09:49,764 [MainThread] INFO  org.apache.hadoop.mapred.ClientServiceDelegate - Application state is completed. FinalApplicationStatus=SUCCEEDED. Redirecting to job history server\n",
            "2020-10-11 21:09:49,802 [MainThread] INFO  org.apache.pig.tools.pigstats.mapreduce.MRScriptState - Pig script settings are added to the job\n",
            "2020-10-11 21:09:49,803 [MainThread] INFO  org.apache.pig.backend.hadoop.executionengine.mapReduceLayer.JobControlCompiler - mapred.job.reduce.markreset.buffer.percent is not set, set to default 0.3\n",
            "2020-10-11 21:09:49,804 [MainThread] INFO  org.apache.pig.backend.hadoop.executionengine.mapReduceLayer.JobControlCompiler - Reduce phase detected, estimating # of required reducers.\n",
            "2020-10-11 21:09:49,804 [MainThread] INFO  org.apache.pig.backend.hadoop.executionengine.mapReduceLayer.JobControlCompiler - Using reducer estimator: org.apache.pig.backend.hadoop.executionengine.mapReduceLayer.InputSizeReducerEstimator\n",
            "2020-10-11 21:09:49,817 [MainThread] INFO  org.apache.pig.backend.hadoop.executionengine.mapReduceLayer.InputSizeReducerEstimator - BytesPerReducer=1000000000 maxReducers=999 totalInputFileSize=26\n",
            "2020-10-11 21:09:49,819 [MainThread] INFO  org.apache.pig.backend.hadoop.executionengine.mapReduceLayer.JobControlCompiler - Setting Parallelism to 1\n",
            "2020-10-11 21:09:49,820 [MainThread] INFO  org.apache.pig.backend.hadoop.executionengine.mapReduceLayer.JobControlCompiler - This job cannot be converted run in-process\n",
            "2020-10-11 21:09:50,069 [MainThread] INFO  org.apache.pig.backend.hadoop.executionengine.mapReduceLayer.JobControlCompiler - Added jar file:/content/pig-0.17.0/lib/jython-standalone-2.7.0.jar to DistributedCache through /tmp/temp1095725241/tmp1021605232/jython-standalone-2.7.0.jar\n",
            "2020-10-11 21:09:50,134 [MainThread] INFO  org.apache.pig.backend.hadoop.executionengine.mapReduceLayer.JobControlCompiler - Added jar file:/content/pig-0.17.0/pig-0.17.0-core-h2.jar to DistributedCache through /tmp/temp1095725241/tmp-941229791/pig-0.17.0-core-h2.jar\n",
            "2020-10-11 21:09:50,166 [MainThread] INFO  org.apache.pig.backend.hadoop.executionengine.mapReduceLayer.JobControlCompiler - Added jar file:/content/pig-0.17.0/lib/automaton-1.11-8.jar to DistributedCache through /tmp/temp1095725241/tmp-1289688101/automaton-1.11-8.jar\n",
            "2020-10-11 21:09:50,198 [MainThread] INFO  org.apache.pig.backend.hadoop.executionengine.mapReduceLayer.JobControlCompiler - Added jar file:/content/pig-0.17.0/lib/antlr-runtime-3.4.jar to DistributedCache through /tmp/temp1095725241/tmp-417329382/antlr-runtime-3.4.jar\n",
            "2020-10-11 21:09:50,246 [MainThread] INFO  org.apache.pig.backend.hadoop.executionengine.mapReduceLayer.JobControlCompiler - Added jar file:/content/pig-0.17.0/lib/joda-time-2.9.3.jar to DistributedCache through /tmp/temp1095725241/tmp1639538052/joda-time-2.9.3.jar\n",
            "2020-10-11 21:09:50,293 [MainThread] INFO  org.apache.pig.backend.hadoop.executionengine.mapReduceLayer.JobControlCompiler - Added jar file:/tmp/PigScriptUDF-3d31d79f20bfcf2d39f2c49aa97d7c38.jar to DistributedCache through /tmp/temp1095725241/tmp-363895154/PigScriptUDF-3d31d79f20bfcf2d39f2c49aa97d7c38.jar\n",
            "2020-10-11 21:09:50,297 [MainThread] INFO  org.apache.pig.backend.hadoop.executionengine.mapReduceLayer.JobControlCompiler - Setting up single store job\n",
            "2020-10-11 21:09:50,298 [MainThread] INFO  org.apache.pig.data.SchemaTupleFrontend - Key [pig.schematuple] is false, will not generate code.\n",
            "2020-10-11 21:09:50,298 [MainThread] INFO  org.apache.pig.data.SchemaTupleFrontend - Starting process to move generated code to distributed cacche\n",
            "2020-10-11 21:09:50,298 [MainThread] INFO  org.apache.pig.data.SchemaTupleFrontend - Setting key [pig.schematuple.classes] with classes to deserialize []\n",
            "2020-10-11 21:09:50,330 [MainThread] INFO  org.apache.pig.backend.hadoop.executionengine.mapReduceLayer.MapReduceLauncher - 1 map-reduce job(s) waiting for submission.\n",
            "2020-10-11 21:09:50,334 [JobControl] INFO  org.apache.hadoop.yarn.client.RMProxy - Connecting to ResourceManager at /0.0.0.0:8032\n",
            "2020-10-11 21:09:50,340 [JobControl] INFO  org.apache.hadoop.conf.Configuration.deprecation - yarn.resourcemanager.system-metrics-publisher.enabled is deprecated. Instead, use yarn.system-metrics-publisher.enabled\n",
            "2020-10-11 21:09:50,509 [JobControl] WARN  org.apache.hadoop.mapreduce.JobResourceUploader - No job jar file set.  User classes may not be found. See Job or Job#setJar(String).\n",
            "2020-10-11 21:09:50,533 [JobControl] INFO  org.apache.hadoop.mapreduce.lib.input.FileInputFormat - Total input files to process : 1\n",
            "2020-10-11 21:09:50,533 [JobControl] INFO  org.apache.pig.backend.hadoop.executionengine.util.MapRedUtil - Total input paths to process : 1\n",
            "2020-10-11 21:09:50,533 [JobControl] INFO  org.apache.pig.backend.hadoop.executionengine.util.MapRedUtil - Total input paths (combined) to process : 1\n",
            "2020-10-11 21:09:50,992 [JobControl] INFO  org.apache.hadoop.mapreduce.JobSubmitter - number of splits:1\n",
            "2020-10-11 21:09:51,052 [JobControl] INFO  org.apache.hadoop.mapreduce.JobSubmitter - Submitting tokens for job: job_1602449014115_0007\n",
            "2020-10-11 21:09:51,056 [JobControl] INFO  org.apache.hadoop.mapred.YARNRunner - Job jar is not present. Not adding any jar to the list of resources.\n",
            "2020-10-11 21:09:51,103 [JobControl] INFO  org.apache.hadoop.yarn.client.api.impl.YarnClientImpl - Submitted application application_1602449014115_0007\n",
            "2020-10-11 21:09:51,107 [JobControl] INFO  org.apache.hadoop.mapreduce.Job - The url to track the job: http://67aca42af605:8088/proxy/application_1602449014115_0007/\n",
            "2020-10-11 21:09:51,107 [MainThread] INFO  org.apache.pig.backend.hadoop.executionengine.mapReduceLayer.MapReduceLauncher - HadoopJobId: job_1602449014115_0007\n",
            "2020-10-11 21:09:51,107 [MainThread] INFO  org.apache.pig.backend.hadoop.executionengine.mapReduceLayer.MapReduceLauncher - Processing aliases ordenar\n",
            "2020-10-11 21:09:51,107 [MainThread] INFO  org.apache.pig.backend.hadoop.executionengine.mapReduceLayer.MapReduceLauncher - detailed locations: M: ordenar[18,10] C:  R: \n",
            "2020-10-11 21:10:08,348 [MainThread] INFO  org.apache.pig.backend.hadoop.executionengine.mapReduceLayer.MapReduceLauncher - 50% complete\n",
            "2020-10-11 21:10:08,348 [MainThread] INFO  org.apache.pig.backend.hadoop.executionengine.mapReduceLayer.MapReduceLauncher - Running jobs are [job_1602449014115_0007]\n",
            "2020-10-11 21:10:13,356 [MainThread] INFO  org.apache.pig.backend.hadoop.executionengine.mapReduceLayer.MapReduceLauncher - 60% complete\n",
            "2020-10-11 21:10:13,356 [MainThread] INFO  org.apache.pig.backend.hadoop.executionengine.mapReduceLayer.MapReduceLauncher - Running jobs are [job_1602449014115_0007]\n",
            "2020-10-11 21:10:16,364 [MainThread] INFO  org.apache.hadoop.yarn.client.RMProxy - Connecting to ResourceManager at /0.0.0.0:8032\n",
            "2020-10-11 21:10:16,373 [MainThread] INFO  org.apache.hadoop.mapred.ClientServiceDelegate - Application state is completed. FinalApplicationStatus=SUCCEEDED. Redirecting to job history server\n",
            "2020-10-11 21:10:16,450 [MainThread] INFO  org.apache.hadoop.yarn.client.RMProxy - Connecting to ResourceManager at /0.0.0.0:8032\n",
            "2020-10-11 21:10:16,458 [MainThread] INFO  org.apache.hadoop.mapred.ClientServiceDelegate - Application state is completed. FinalApplicationStatus=SUCCEEDED. Redirecting to job history server\n",
            "2020-10-11 21:10:16,493 [MainThread] INFO  org.apache.hadoop.yarn.client.RMProxy - Connecting to ResourceManager at /0.0.0.0:8032\n",
            "2020-10-11 21:10:16,506 [MainThread] INFO  org.apache.hadoop.mapred.ClientServiceDelegate - Application state is completed. FinalApplicationStatus=SUCCEEDED. Redirecting to job history server\n",
            "2020-10-11 21:10:16,532 [MainThread] INFO  org.apache.pig.tools.pigstats.mapreduce.MRScriptState - Pig script settings are added to the job\n",
            "2020-10-11 21:10:16,532 [MainThread] INFO  org.apache.pig.backend.hadoop.executionengine.mapReduceLayer.JobControlCompiler - mapred.job.reduce.markreset.buffer.percent is not set, set to default 0.3\n",
            "2020-10-11 21:10:16,533 [MainThread] INFO  org.apache.pig.backend.hadoop.executionengine.mapReduceLayer.JobControlCompiler - Reduce phase detected, estimating # of required reducers.\n",
            "2020-10-11 21:10:16,533 [MainThread] INFO  org.apache.pig.backend.hadoop.executionengine.mapReduceLayer.JobControlCompiler - Setting Parallelism to 1\n",
            "2020-10-11 21:10:16,533 [MainThread] INFO  org.apache.pig.backend.hadoop.executionengine.mapReduceLayer.JobControlCompiler - This job cannot be converted run in-process\n",
            "2020-10-11 21:10:16,612 [MainThread] INFO  org.apache.pig.backend.hadoop.executionengine.mapReduceLayer.JobControlCompiler - Added jar file:/content/pig-0.17.0/pig-0.17.0-core-h2.jar to DistributedCache through /tmp/temp1095725241/tmp-320780736/pig-0.17.0-core-h2.jar\n",
            "2020-10-11 21:10:16,806 [MainThread] INFO  org.apache.pig.backend.hadoop.executionengine.mapReduceLayer.JobControlCompiler - Added jar file:/content/pig-0.17.0/lib/jython-standalone-2.7.0.jar to DistributedCache through /tmp/temp1095725241/tmp-607774261/jython-standalone-2.7.0.jar\n",
            "2020-10-11 21:10:16,854 [MainThread] INFO  org.apache.pig.backend.hadoop.executionengine.mapReduceLayer.JobControlCompiler - Added jar file:/content/pig-0.17.0/lib/automaton-1.11-8.jar to DistributedCache through /tmp/temp1095725241/tmp-64182327/automaton-1.11-8.jar\n",
            "2020-10-11 21:10:16,882 [MainThread] INFO  org.apache.pig.backend.hadoop.executionengine.mapReduceLayer.JobControlCompiler - Added jar file:/content/pig-0.17.0/lib/antlr-runtime-3.4.jar to DistributedCache through /tmp/temp1095725241/tmp1357990526/antlr-runtime-3.4.jar\n",
            "2020-10-11 21:10:16,928 [MainThread] INFO  org.apache.pig.backend.hadoop.executionengine.mapReduceLayer.JobControlCompiler - Added jar file:/content/pig-0.17.0/lib/joda-time-2.9.3.jar to DistributedCache through /tmp/temp1095725241/tmp1465578281/joda-time-2.9.3.jar\n",
            "2020-10-11 21:10:16,970 [MainThread] INFO  org.apache.pig.backend.hadoop.executionengine.mapReduceLayer.JobControlCompiler - Added jar file:/tmp/PigScriptUDF-3d31d79f20bfcf2d39f2c49aa97d7c38.jar to DistributedCache through /tmp/temp1095725241/tmp582556807/PigScriptUDF-3d31d79f20bfcf2d39f2c49aa97d7c38.jar\n",
            "2020-10-11 21:10:16,973 [MainThread] INFO  org.apache.pig.backend.hadoop.executionengine.mapReduceLayer.JobControlCompiler - Setting up single store job\n",
            "2020-10-11 21:10:16,973 [MainThread] INFO  org.apache.pig.data.SchemaTupleFrontend - Key [pig.schematuple] is false, will not generate code.\n",
            "2020-10-11 21:10:16,974 [MainThread] INFO  org.apache.pig.data.SchemaTupleFrontend - Starting process to move generated code to distributed cacche\n",
            "2020-10-11 21:10:16,974 [MainThread] INFO  org.apache.pig.data.SchemaTupleFrontend - Setting key [pig.schematuple.classes] with classes to deserialize []\n",
            "2020-10-11 21:10:17,009 [MainThread] INFO  org.apache.pig.backend.hadoop.executionengine.mapReduceLayer.MapReduceLauncher - 1 map-reduce job(s) waiting for submission.\n",
            "2020-10-11 21:10:17,016 [JobControl] INFO  org.apache.hadoop.yarn.client.RMProxy - Connecting to ResourceManager at /0.0.0.0:8032\n",
            "2020-10-11 21:10:17,033 [JobControl] INFO  org.apache.hadoop.conf.Configuration.deprecation - yarn.resourcemanager.system-metrics-publisher.enabled is deprecated. Instead, use yarn.system-metrics-publisher.enabled\n",
            "2020-10-11 21:10:17,049 [JobControl] WARN  org.apache.hadoop.mapreduce.JobResourceUploader - No job jar file set.  User classes may not be found. See Job or Job#setJar(String).\n",
            "2020-10-11 21:10:17,073 [JobControl] INFO  org.apache.hadoop.mapreduce.lib.input.FileInputFormat - Total input files to process : 1\n",
            "2020-10-11 21:10:17,073 [JobControl] INFO  org.apache.pig.backend.hadoop.executionengine.util.MapRedUtil - Total input paths to process : 1\n",
            "2020-10-11 21:10:17,073 [JobControl] INFO  org.apache.pig.backend.hadoop.executionengine.util.MapRedUtil - Total input paths (combined) to process : 1\n",
            "2020-10-11 21:10:17,140 [JobControl] INFO  org.apache.hadoop.mapreduce.JobSubmitter - number of splits:1\n",
            "2020-10-11 21:10:17,183 [JobControl] INFO  org.apache.hadoop.mapreduce.JobSubmitter - Submitting tokens for job: job_1602449014115_0008\n",
            "2020-10-11 21:10:17,187 [JobControl] INFO  org.apache.hadoop.mapred.YARNRunner - Job jar is not present. Not adding any jar to the list of resources.\n",
            "2020-10-11 21:10:17,240 [JobControl] INFO  org.apache.hadoop.yarn.client.api.impl.YarnClientImpl - Submitted application application_1602449014115_0008\n",
            "2020-10-11 21:10:17,247 [JobControl] INFO  org.apache.hadoop.mapreduce.Job - The url to track the job: http://67aca42af605:8088/proxy/application_1602449014115_0008/\n",
            "2020-10-11 21:10:17,511 [MainThread] INFO  org.apache.pig.backend.hadoop.executionengine.mapReduceLayer.MapReduceLauncher - HadoopJobId: job_1602449014115_0008\n",
            "2020-10-11 21:10:17,511 [MainThread] INFO  org.apache.pig.backend.hadoop.executionengine.mapReduceLayer.MapReduceLauncher - Processing aliases ordenar\n",
            "2020-10-11 21:10:17,511 [MainThread] INFO  org.apache.pig.backend.hadoop.executionengine.mapReduceLayer.MapReduceLauncher - detailed locations: M: ordenar[18,10] C:  R: \n",
            "2020-10-11 21:10:32,668 [MainThread] INFO  org.apache.pig.backend.hadoop.executionengine.mapReduceLayer.MapReduceLauncher - 70% complete\n",
            "2020-10-11 21:10:32,669 [MainThread] INFO  org.apache.pig.backend.hadoop.executionengine.mapReduceLayer.MapReduceLauncher - Running jobs are [job_1602449014115_0008]\n",
            "2020-10-11 21:10:39,678 [MainThread] INFO  org.apache.pig.backend.hadoop.executionengine.mapReduceLayer.MapReduceLauncher - 80% complete\n",
            "2020-10-11 21:10:39,679 [MainThread] INFO  org.apache.pig.backend.hadoop.executionengine.mapReduceLayer.MapReduceLauncher - Running jobs are [job_1602449014115_0008]\n",
            "2020-10-11 21:10:42,687 [MainThread] INFO  org.apache.hadoop.yarn.client.RMProxy - Connecting to ResourceManager at /0.0.0.0:8032\n",
            "2020-10-11 21:10:42,699 [MainThread] INFO  org.apache.hadoop.mapred.ClientServiceDelegate - Application state is completed. FinalApplicationStatus=SUCCEEDED. Redirecting to job history server\n",
            "2020-10-11 21:10:42,789 [MainThread] INFO  org.apache.hadoop.yarn.client.RMProxy - Connecting to ResourceManager at /0.0.0.0:8032\n",
            "2020-10-11 21:10:42,801 [MainThread] INFO  org.apache.hadoop.mapred.ClientServiceDelegate - Application state is completed. FinalApplicationStatus=SUCCEEDED. Redirecting to job history server\n",
            "2020-10-11 21:10:42,825 [MainThread] INFO  org.apache.hadoop.yarn.client.RMProxy - Connecting to ResourceManager at /0.0.0.0:8032\n",
            "2020-10-11 21:10:42,829 [MainThread] INFO  org.apache.hadoop.mapred.ClientServiceDelegate - Application state is completed. FinalApplicationStatus=SUCCEEDED. Redirecting to job history server\n",
            "2020-10-11 21:10:42,852 [MainThread] INFO  org.apache.pig.tools.pigstats.mapreduce.MRScriptState - Pig script settings are added to the job\n",
            "2020-10-11 21:10:42,852 [MainThread] INFO  org.apache.pig.backend.hadoop.executionengine.mapReduceLayer.JobControlCompiler - mapred.job.reduce.markreset.buffer.percent is not set, set to default 0.3\n",
            "2020-10-11 21:10:42,853 [MainThread] INFO  org.apache.pig.backend.hadoop.executionengine.mapReduceLayer.JobControlCompiler - Reduce phase detected, estimating # of required reducers.\n",
            "2020-10-11 21:10:42,853 [MainThread] INFO  org.apache.pig.backend.hadoop.executionengine.mapReduceLayer.JobControlCompiler - Setting Parallelism to 1\n",
            "2020-10-11 21:10:42,853 [MainThread] INFO  org.apache.pig.backend.hadoop.executionengine.mapReduceLayer.JobControlCompiler - This job cannot be converted run in-process\n",
            "2020-10-11 21:10:42,916 [MainThread] INFO  org.apache.pig.backend.hadoop.executionengine.mapReduceLayer.JobControlCompiler - Added jar file:/content/pig-0.17.0/pig-0.17.0-core-h2.jar to DistributedCache through /tmp/temp1095725241/tmp101372024/pig-0.17.0-core-h2.jar\n",
            "2020-10-11 21:10:43,153 [MainThread] INFO  org.apache.pig.backend.hadoop.executionengine.mapReduceLayer.JobControlCompiler - Added jar file:/content/pig-0.17.0/lib/jython-standalone-2.7.0.jar to DistributedCache through /tmp/temp1095725241/tmp-1026075960/jython-standalone-2.7.0.jar\n",
            "2020-10-11 21:10:43,196 [MainThread] INFO  org.apache.pig.backend.hadoop.executionengine.mapReduceLayer.JobControlCompiler - Added jar file:/content/pig-0.17.0/lib/automaton-1.11-8.jar to DistributedCache through /tmp/temp1095725241/tmp-1358916833/automaton-1.11-8.jar\n",
            "2020-10-11 21:10:43,229 [MainThread] INFO  org.apache.pig.backend.hadoop.executionengine.mapReduceLayer.JobControlCompiler - Added jar file:/content/pig-0.17.0/lib/antlr-runtime-3.4.jar to DistributedCache through /tmp/temp1095725241/tmp1317618892/antlr-runtime-3.4.jar\n",
            "2020-10-11 21:10:43,271 [MainThread] INFO  org.apache.pig.backend.hadoop.executionengine.mapReduceLayer.JobControlCompiler - Added jar file:/content/pig-0.17.0/lib/joda-time-2.9.3.jar to DistributedCache through /tmp/temp1095725241/tmp699562241/joda-time-2.9.3.jar\n",
            "2020-10-11 21:10:43,711 [MainThread] INFO  org.apache.pig.backend.hadoop.executionengine.mapReduceLayer.JobControlCompiler - Added jar file:/tmp/PigScriptUDF-3d31d79f20bfcf2d39f2c49aa97d7c38.jar to DistributedCache through /tmp/temp1095725241/tmp-636317770/PigScriptUDF-3d31d79f20bfcf2d39f2c49aa97d7c38.jar\n",
            "2020-10-11 21:10:43,712 [MainThread] INFO  org.apache.pig.backend.hadoop.executionengine.mapReduceLayer.JobControlCompiler - Setting up single store job\n",
            "2020-10-11 21:10:43,713 [MainThread] INFO  org.apache.pig.data.SchemaTupleFrontend - Key [pig.schematuple] is false, will not generate code.\n",
            "2020-10-11 21:10:43,713 [MainThread] INFO  org.apache.pig.data.SchemaTupleFrontend - Starting process to move generated code to distributed cacche\n",
            "2020-10-11 21:10:43,713 [MainThread] INFO  org.apache.pig.data.SchemaTupleFrontend - Setting key [pig.schematuple.classes] with classes to deserialize []\n",
            "2020-10-11 21:10:43,730 [MainThread] INFO  org.apache.pig.backend.hadoop.executionengine.mapReduceLayer.MapReduceLauncher - 1 map-reduce job(s) waiting for submission.\n",
            "2020-10-11 21:10:43,737 [JobControl] INFO  org.apache.hadoop.yarn.client.RMProxy - Connecting to ResourceManager at /0.0.0.0:8032\n",
            "2020-10-11 21:10:43,752 [JobControl] INFO  org.apache.hadoop.conf.Configuration.deprecation - yarn.resourcemanager.system-metrics-publisher.enabled is deprecated. Instead, use yarn.system-metrics-publisher.enabled\n",
            "2020-10-11 21:10:43,767 [JobControl] WARN  org.apache.hadoop.mapreduce.JobResourceUploader - No job jar file set.  User classes may not be found. See Job or Job#setJar(String).\n",
            "2020-10-11 21:10:43,792 [JobControl] INFO  org.apache.hadoop.mapreduce.lib.input.FileInputFormat - Total input files to process : 1\n",
            "2020-10-11 21:10:43,792 [JobControl] INFO  org.apache.pig.backend.hadoop.executionengine.util.MapRedUtil - Total input paths to process : 1\n",
            "2020-10-11 21:10:43,792 [JobControl] INFO  org.apache.pig.backend.hadoop.executionengine.util.MapRedUtil - Total input paths (combined) to process : 1\n",
            "2020-10-11 21:10:43,857 [JobControl] INFO  org.apache.hadoop.mapreduce.JobSubmitter - number of splits:1\n",
            "2020-10-11 21:10:43,905 [JobControl] INFO  org.apache.hadoop.mapreduce.JobSubmitter - Submitting tokens for job: job_1602449014115_0009\n",
            "2020-10-11 21:10:43,910 [JobControl] INFO  org.apache.hadoop.mapred.YARNRunner - Job jar is not present. Not adding any jar to the list of resources.\n",
            "2020-10-11 21:10:44,165 [JobControl] INFO  org.apache.hadoop.yarn.client.api.impl.YarnClientImpl - Submitted application application_1602449014115_0009\n",
            "2020-10-11 21:10:44,171 [JobControl] INFO  org.apache.hadoop.mapreduce.Job - The url to track the job: http://67aca42af605:8088/proxy/application_1602449014115_0009/\n",
            "2020-10-11 21:10:44,234 [MainThread] INFO  org.apache.pig.backend.hadoop.executionengine.mapReduceLayer.MapReduceLauncher - HadoopJobId: job_1602449014115_0009\n",
            "2020-10-11 21:10:44,234 [MainThread] INFO  org.apache.pig.backend.hadoop.executionengine.mapReduceLayer.MapReduceLauncher - Processing aliases ordenar\n",
            "2020-10-11 21:10:44,234 [MainThread] INFO  org.apache.pig.backend.hadoop.executionengine.mapReduceLayer.MapReduceLauncher - detailed locations: M: ordenar[18,10] C:  R: \n",
            "2020-10-11 21:10:59,326 [MainThread] INFO  org.apache.pig.backend.hadoop.executionengine.mapReduceLayer.MapReduceLauncher - 90% complete\n",
            "2020-10-11 21:10:59,326 [MainThread] INFO  org.apache.pig.backend.hadoop.executionengine.mapReduceLayer.MapReduceLauncher - Running jobs are [job_1602449014115_0009]\n",
            "2020-10-11 21:11:04,333 [MainThread] INFO  org.apache.pig.backend.hadoop.executionengine.mapReduceLayer.MapReduceLauncher - Running jobs are [job_1602449014115_0009]\n",
            "2020-10-11 21:11:09,345 [MainThread] INFO  org.apache.hadoop.yarn.client.RMProxy - Connecting to ResourceManager at /0.0.0.0:8032\n",
            "2020-10-11 21:11:09,358 [MainThread] INFO  org.apache.hadoop.mapred.ClientServiceDelegate - Application state is completed. FinalApplicationStatus=SUCCEEDED. Redirecting to job history server\n",
            "2020-10-11 21:11:09,463 [MainThread] INFO  org.apache.hadoop.yarn.client.RMProxy - Connecting to ResourceManager at /0.0.0.0:8032\n",
            "2020-10-11 21:11:09,474 [MainThread] INFO  org.apache.hadoop.mapred.ClientServiceDelegate - Application state is completed. FinalApplicationStatus=SUCCEEDED. Redirecting to job history server\n",
            "2020-10-11 21:11:09,497 [MainThread] INFO  org.apache.hadoop.yarn.client.RMProxy - Connecting to ResourceManager at /0.0.0.0:8032\n",
            "2020-10-11 21:11:09,501 [MainThread] INFO  org.apache.hadoop.mapred.ClientServiceDelegate - Application state is completed. FinalApplicationStatus=SUCCEEDED. Redirecting to job history server\n",
            "2020-10-11 21:11:09,521 [MainThread] INFO  org.apache.pig.backend.hadoop.executionengine.mapReduceLayer.MapReduceLauncher - 100% complete\n",
            "2020-10-11 21:11:09,557 [MainThread] INFO  org.apache.pig.tools.pigstats.mapreduce.SimplePigStats - Script Statistics: \n",
            "\n",
            "HadoopVersion\tPigVersion\tUserId\tStartedAt\tFinishedAt\tFeatures\n",
            "2.10.0\t0.17.0\troot\t2020-10-11 21:02:24\t2020-10-11 21:11:09\tHASH_JOIN,GROUP_BY,ORDER_BY,FILTER,LIMIT\n",
            "\n",
            "Success!\n",
            "\n",
            "Job Stats (time in seconds):\n",
            "JobId\tMaps\tReduces\tMaxMapTime\tMinMapTime\tAvgMapTime\tMedianMapTime\tMaxReduceTime\tMinReduceTime\tAvgReduceTime\tMedianReducetime\tAlias\tFeature\tOutputs\n",
            "job_1602449014115_0005\t20\t3\t118\t30\t85\t101\t281\t177\t213\t181\talias,juntar_tablas,nullgenero,userid_otros,userid_profile\tHASH_JOIN\t\n",
            "job_1602449014115_0006\t1\t1\t5\t5\t5\t5\t3\t3\t3\t3\tagrupar,contar\tGROUP_BY,COMBINER\t\n",
            "job_1602449014115_0007\t1\t1\t3\t3\t3\t3\t3\t3\t3\t3\tordenar\tSAMPLER\t\n",
            "job_1602449014115_0008\t1\t1\t3\t3\t3\t3\t3\t3\t3\t3\tordenar\tORDER_BY,COMBINER\t\n",
            "job_1602449014115_0009\t1\t1\t3\t3\t3\t3\t3\t3\t3\t3\tordenar\t\thdfs://localhost:9000/user/root/actividad2,\n",
            "\n",
            "Input(s):\n",
            "Successfully read 19150868 records from: \"hdfs://localhost:9000/user/root/userid-otros\"\n",
            "Successfully read 993 records from: \"hdfs://localhost:9000/user/root/userid-profile\"\n",
            "\n",
            "Output(s):\n",
            "Successfully stored 2 records (16 bytes) in: \"hdfs://localhost:9000/user/root/actividad2\"\n",
            "\n",
            "Counters:\n",
            "Total records written : 2\n",
            "Total bytes written : 16\n",
            "Spillable Memory Manager spill count : 0\n",
            "Total bags proactively spilled: 0\n",
            "Total records proactively spilled: 0\n",
            "\n",
            "Job DAG:\n",
            "job_1602449014115_0005\t->\tjob_1602449014115_0006,\n",
            "job_1602449014115_0006\t->\tjob_1602449014115_0007,\n",
            "job_1602449014115_0007\t->\tjob_1602449014115_0008,\n",
            "job_1602449014115_0008\t->\tjob_1602449014115_0009,\n",
            "job_1602449014115_0009\n",
            "\n",
            "\n",
            "2020-10-11 21:11:09,559 [MainThread] INFO  org.apache.hadoop.yarn.client.RMProxy - Connecting to ResourceManager at /0.0.0.0:8032\n",
            "2020-10-11 21:11:09,563 [MainThread] INFO  org.apache.hadoop.mapred.ClientServiceDelegate - Application state is completed. FinalApplicationStatus=SUCCEEDED. Redirecting to job history server\n",
            "2020-10-11 21:11:09,610 [MainThread] INFO  org.apache.hadoop.yarn.client.RMProxy - Connecting to ResourceManager at /0.0.0.0:8032\n",
            "2020-10-11 21:11:09,620 [MainThread] INFO  org.apache.hadoop.mapred.ClientServiceDelegate - Application state is completed. FinalApplicationStatus=SUCCEEDED. Redirecting to job history server\n",
            "2020-10-11 21:11:09,663 [MainThread] INFO  org.apache.hadoop.yarn.client.RMProxy - Connecting to ResourceManager at /0.0.0.0:8032\n",
            "2020-10-11 21:11:09,670 [MainThread] INFO  org.apache.hadoop.mapred.ClientServiceDelegate - Application state is completed. FinalApplicationStatus=SUCCEEDED. Redirecting to job history server\n",
            "2020-10-11 21:11:09,696 [MainThread] INFO  org.apache.hadoop.yarn.client.RMProxy - Connecting to ResourceManager at /0.0.0.0:8032\n",
            "2020-10-11 21:11:09,701 [MainThread] INFO  org.apache.hadoop.mapred.ClientServiceDelegate - Application state is completed. FinalApplicationStatus=SUCCEEDED. Redirecting to job history server\n",
            "2020-10-11 21:11:09,722 [MainThread] INFO  org.apache.hadoop.yarn.client.RMProxy - Connecting to ResourceManager at /0.0.0.0:8032\n",
            "2020-10-11 21:11:09,727 [MainThread] INFO  org.apache.hadoop.mapred.ClientServiceDelegate - Application state is completed. FinalApplicationStatus=SUCCEEDED. Redirecting to job history server\n",
            "2020-10-11 21:11:09,756 [MainThread] INFO  org.apache.hadoop.yarn.client.RMProxy - Connecting to ResourceManager at /0.0.0.0:8032\n",
            "2020-10-11 21:11:09,763 [MainThread] INFO  org.apache.hadoop.mapred.ClientServiceDelegate - Application state is completed. FinalApplicationStatus=SUCCEEDED. Redirecting to job history server\n",
            "2020-10-11 21:11:09,783 [MainThread] INFO  org.apache.hadoop.yarn.client.RMProxy - Connecting to ResourceManager at /0.0.0.0:8032\n",
            "2020-10-11 21:11:09,786 [MainThread] INFO  org.apache.hadoop.mapred.ClientServiceDelegate - Application state is completed. FinalApplicationStatus=SUCCEEDED. Redirecting to job history server\n",
            "2020-10-11 21:11:09,803 [MainThread] INFO  org.apache.hadoop.yarn.client.RMProxy - Connecting to ResourceManager at /0.0.0.0:8032\n",
            "2020-10-11 21:11:09,808 [MainThread] INFO  org.apache.hadoop.mapred.ClientServiceDelegate - Application state is completed. FinalApplicationStatus=SUCCEEDED. Redirecting to job history server\n",
            "2020-10-11 21:11:09,825 [MainThread] INFO  org.apache.hadoop.yarn.client.RMProxy - Connecting to ResourceManager at /0.0.0.0:8032\n",
            "2020-10-11 21:11:09,828 [MainThread] INFO  org.apache.hadoop.mapred.ClientServiceDelegate - Application state is completed. FinalApplicationStatus=SUCCEEDED. Redirecting to job history server\n",
            "2020-10-11 21:11:09,847 [MainThread] INFO  org.apache.hadoop.yarn.client.RMProxy - Connecting to ResourceManager at /0.0.0.0:8032\n",
            "2020-10-11 21:11:09,850 [MainThread] INFO  org.apache.hadoop.mapred.ClientServiceDelegate - Application state is completed. FinalApplicationStatus=SUCCEEDED. Redirecting to job history server\n",
            "2020-10-11 21:11:09,867 [MainThread] INFO  org.apache.hadoop.yarn.client.RMProxy - Connecting to ResourceManager at /0.0.0.0:8032\n",
            "2020-10-11 21:11:09,872 [MainThread] INFO  org.apache.hadoop.mapred.ClientServiceDelegate - Application state is completed. FinalApplicationStatus=SUCCEEDED. Redirecting to job history server\n",
            "2020-10-11 21:11:09,894 [MainThread] INFO  org.apache.hadoop.yarn.client.RMProxy - Connecting to ResourceManager at /0.0.0.0:8032\n",
            "2020-10-11 21:11:09,897 [MainThread] INFO  org.apache.hadoop.mapred.ClientServiceDelegate - Application state is completed. FinalApplicationStatus=SUCCEEDED. Redirecting to job history server\n",
            "2020-10-11 21:11:09,914 [MainThread] INFO  org.apache.hadoop.yarn.client.RMProxy - Connecting to ResourceManager at /0.0.0.0:8032\n",
            "2020-10-11 21:11:09,919 [MainThread] INFO  org.apache.hadoop.mapred.ClientServiceDelegate - Application state is completed. FinalApplicationStatus=SUCCEEDED. Redirecting to job history server\n",
            "2020-10-11 21:11:09,936 [MainThread] INFO  org.apache.hadoop.yarn.client.RMProxy - Connecting to ResourceManager at /0.0.0.0:8032\n",
            "2020-10-11 21:11:09,939 [MainThread] INFO  org.apache.hadoop.mapred.ClientServiceDelegate - Application state is completed. FinalApplicationStatus=SUCCEEDED. Redirecting to job history server\n",
            "2020-10-11 21:11:09,955 [MainThread] INFO  org.apache.hadoop.yarn.client.RMProxy - Connecting to ResourceManager at /0.0.0.0:8032\n",
            "2020-10-11 21:11:09,959 [MainThread] INFO  org.apache.hadoop.mapred.ClientServiceDelegate - Application state is completed. FinalApplicationStatus=SUCCEEDED. Redirecting to job history server\n",
            "2020-10-11 21:11:09,978 [MainThread] WARN  org.apache.pig.backend.hadoop.executionengine.mapReduceLayer.MapReduceLauncher - Encountered Warning FIELD_DISCARDED_TYPE_CONVERSION_FAILED 1 time(s).\n",
            "2020-10-11 21:11:09,978 [MainThread] INFO  org.apache.pig.backend.hadoop.executionengine.mapReduceLayer.MapReduceLauncher - Success!\n",
            "2020-10-11 21:11:10,002 [MainThread] INFO  org.apache.pig.Main - Pig script completed in 8 minutes, 54 seconds and 271 milliseconds (534271 ms)\n"
          ],
          "name": "stdout"
        }
      ]
    },
    {
      "cell_type": "code",
      "metadata": {
        "id": "jqEfqxMMlEf8",
        "outputId": "6c2668e1-50f2-4138-c9be-55ea5c5eab2e",
        "colab": {
          "base_uri": "https://localhost:8080/",
          "height": 111
        }
      },
      "source": [
        "!hdfs dfs -ls"
      ],
      "execution_count": 12,
      "outputs": [
        {
          "output_type": "stream",
          "text": [
            "Found 4 items\n",
            "drwxr-xr-x   - root supergroup          0 2020-10-11 21:02 actividad1\n",
            "drwxr-xr-x   - root supergroup          0 2020-10-11 21:11 actividad2\n",
            "drwxr-xr-x   - root supergroup          0 2020-10-11 20:56 userid-otros\n",
            "drwxr-xr-x   - root supergroup          0 2020-10-11 20:55 userid-profile\n"
          ],
          "name": "stdout"
        }
      ]
    },
    {
      "cell_type": "code",
      "metadata": {
        "id": "yADKFjkelHYG",
        "outputId": "0eafb753-b5e6-4089-85c0-079f56cc3921",
        "colab": {
          "base_uri": "https://localhost:8080/",
          "height": 54
        }
      },
      "source": [
        "!hdfs dfs -cat actividad2/part-r-00000"
      ],
      "execution_count": 13,
      "outputs": [
        {
          "output_type": "stream",
          "text": [
            "m\t63784\n",
            "f\t43748\n"
          ],
          "name": "stdout"
        }
      ]
    },
    {
      "cell_type": "markdown",
      "metadata": {
        "id": "k30uw79HYY5P"
      },
      "source": [
        "Responda la siguiente pregunta:\n",
        "\n",
        "¿ Cuál es la cantidad de hombres y mujeres que han escuchado alguna canción del artista más popular ?"
      ]
    },
    {
      "cell_type": "markdown",
      "metadata": {
        "id": "H2WNAKzAPGBZ"
      },
      "source": [
        "## Actividad 3"
      ]
    },
    {
      "cell_type": "markdown",
      "metadata": {
        "id": "J_A8l19hUCC1"
      },
      "source": [
        "En esta actividad, utilizamos el lenguaje Pig Latin y la UDF: 'my_pig_udfs2' para responder la pregunta. \n",
        "\n",
        "El archivo \"actividad2.pig\" tiene la misma estructura que la anterior, la diferencia está en que se utiliza la UDF para filtrar los null de la variable edad. No se ocupa el LIMIT 10, con el objetivo de tener toda la distribución de edad y se ordena por edad y no por conteo.\n",
        "\n",
        "El resultado es el siguiente: \n",
        "\n",
        "age conteo\n",
        "\n",
        "3\t2\n",
        "\n",
        "4\t14\n",
        "\n",
        "7\t2\n",
        "\n",
        "15\t2\n",
        "\n",
        "16\t122\n",
        "\n",
        "17\t444\n",
        "\n",
        "18\t65\n",
        "\n",
        "19\t4514\n",
        "\n",
        "20\t5760\n",
        "\n",
        "21\t1589\n",
        "\n",
        "22\t7038\n",
        "\n",
        "23\t2552\n",
        "\n",
        "24\t1313\n",
        "\n",
        "25\t1289\n",
        "\n",
        "26\t2527\n",
        "\n",
        "27\t2360\n",
        "\n",
        "28\t1330\n",
        "\n",
        "29\t359\n",
        "\n",
        "30\t617\n",
        "\n",
        "31\t146\n",
        "\n",
        "32\t433\n",
        "\n",
        "33\t1441\n",
        "\n",
        "34\t404\n",
        "\n",
        "35\t1543\n",
        "\n",
        "36\t1962\n",
        "\n",
        "38\t422\n",
        "\n",
        "39\t213\n",
        "\n",
        "42\t13\n",
        "\n",
        "48\t35\n",
        "\n",
        "75\t109\n",
        "\n",
        "103\t1\n",
        "\n",
        "Por lo tanto, la distribución de edad nos indica que los usuarios varían desde 3 a 103 años y 1543 personas de 35 años han escuchado al artista más popular Radiohead. También podemos notar que este artista es más popular entre las edades [19 a 22]. "
      ]
    },
    {
      "cell_type": "code",
      "metadata": {
        "id": "Kmz8UTQgKzZT",
        "outputId": "66956085-cc87-4ab0-d532-510d3e4d6ccd",
        "colab": {
          "base_uri": "https://localhost:8080/",
          "height": 36
        }
      },
      "source": [
        "%%writefile actividad3.pig\n",
        "\n",
        "REGISTER 'my_pig_udfs2.py' USING jython AS my_pig_udfs2;\n",
        "\n",
        "userid_profile = LOAD 'userid-profile' USING PigStorage('\\t') AS (userid_p:chararray, gender:chararray, age:long, country:chararray, signup:chararray);\n",
        "\n",
        "userid_otros = LOAD 'userid-otros' USING PigStorage('\\t') AS (userid_o:chararray, timeztamp:chararray, artist_id:chararray, artist_name:chararray, track_id:chararray, track_name:chararray);\n",
        "\n",
        "nulledad = FILTER userid_profile BY my_pig_udfs2.empty_or_null_detector(age) == FALSE;\n",
        "\n",
        "juntar_tablas = JOIN nulledad BY userid_p, userid_otros BY userid_o;\n",
        "\n",
        "alias = FILTER juntar_tablas BY (artist_name == 'Radiohead');\n",
        "\n",
        "agrupar = GROUP alias BY age;\n",
        "\n",
        "contar = FOREACH agrupar GENERATE $0 as age, COUNT($1) AS conteo;\n",
        "\n",
        "ordenar = ORDER contar BY $0 ASC;\n",
        "\n",
        "STORE ordenar INTO 'actividad3' USING PigStorage( '\\t' );"
      ],
      "execution_count": 14,
      "outputs": [
        {
          "output_type": "stream",
          "text": [
            "Writing actividad3.pig\n"
          ],
          "name": "stdout"
        }
      ]
    },
    {
      "cell_type": "code",
      "metadata": {
        "id": "DXZFAJ7f3i7j",
        "outputId": "4c0afbcc-b2f9-4bd9-ae00-456e6eea8ce8",
        "colab": {
          "base_uri": "https://localhost:8080/",
          "height": 1000
        }
      },
      "source": [
        "!pig -f actividad3.pig"
      ],
      "execution_count": 15,
      "outputs": [
        {
          "output_type": "stream",
          "text": [
            "20/10/11 21:11:16 INFO pig.ExecTypeProvider: Trying ExecType : LOCAL\n",
            "20/10/11 21:11:16 INFO pig.ExecTypeProvider: Trying ExecType : MAPREDUCE\n",
            "20/10/11 21:11:16 INFO pig.ExecTypeProvider: Picked MAPREDUCE as the ExecType\n",
            "2020-10-11 21:11:16,823 [main] INFO  org.apache.pig.Main - Apache Pig version 0.17.0 (r1797386) compiled Jun 02 2017, 15:41:58\n",
            "2020-10-11 21:11:16,823 [main] INFO  org.apache.pig.Main - Logging error messages to: /content/pig_1602450676820.log\n",
            "2020-10-11 21:11:17,418 [main] INFO  org.apache.pig.impl.util.Utils - Default bootup file /root/.pigbootup not found\n",
            "2020-10-11 21:11:17,488 [main] INFO  org.apache.hadoop.conf.Configuration.deprecation - mapred.job.tracker is deprecated. Instead, use mapreduce.jobtracker.address\n",
            "2020-10-11 21:11:17,488 [main] INFO  org.apache.pig.backend.hadoop.executionengine.HExecutionEngine - Connecting to hadoop file system at: hdfs://localhost:9000\n",
            "2020-10-11 21:11:18,020 [main] INFO  org.apache.pig.PigServer - Pig Script ID for the session: PIG-actividad3.pig-5a9c2e42-6369-42c2-bc96-b8c0e5f88648\n",
            "2020-10-11 21:11:18,020 [main] WARN  org.apache.pig.PigServer - ATS is disabled since yarn.timeline-service.enabled set to false\n",
            "2020-10-11 21:11:18,091 [main] INFO  org.apache.pig.scripting.jython.JythonScriptEngine - created tmp python.cachedir=/tmp/pig_jython_1410330843334660935\n",
            "2020-10-11 21:11:22,718 [main] WARN  org.apache.pig.scripting.jython.JythonScriptEngine - pig.cmd.args.remainders is empty. This is not expected unless on testing.\n",
            "2020-10-11 21:11:23,287 [MainThread] INFO  org.apache.pig.scripting.jython.JythonScriptEngine - Register scripting UDF: my_pig_udfs2.empty_or_null_detector\n",
            "2020-10-11 21:11:24,220 [MainThread] INFO  org.apache.pig.scripting.jython.JythonFunction - No schema defined for function 'empty_or_null_detector' in my_pig_udfs2.py\n",
            "2020-10-11 21:11:24,398 [MainThread] WARN  org.apache.pig.newplan.BaseOperatorPlan - Encountered Warning IMPLICIT_CAST_TO_BOOLEAN 1 time(s).\n",
            "2020-10-11 21:11:24,404 [MainThread] INFO  org.apache.hadoop.conf.Configuration.deprecation - mapred.textoutputformat.separator is deprecated. Instead, use mapreduce.output.textoutputformat.separator\n",
            "2020-10-11 21:11:24,430 [MainThread] INFO  org.apache.pig.tools.pigstats.ScriptState - Pig features used in the script: HASH_JOIN,GROUP_BY,ORDER_BY,FILTER\n",
            "2020-10-11 21:11:24,473 [MainThread] INFO  org.apache.pig.data.SchemaTupleBackend - Key [pig.schematuple] was not set... will not generate code.\n",
            "2020-10-11 21:11:24,512 [MainThread] INFO  org.apache.pig.newplan.logical.optimizer.LogicalPlanOptimizer - {RULES_ENABLED=[AddForEach, ColumnMapKeyPrune, ConstantCalculator, GroupByConstParallelSetter, LimitOptimizer, LoadTypeCastInserter, MergeFilter, MergeForEach, NestedLimitOptimizer, PartitionFilterOptimizer, PredicatePushdownOptimizer, PushDownForEachFlatten, PushUpFilter, SplitFilter, StreamTypeCastInserter]}\n",
            "2020-10-11 21:11:24,596 [MainThread] INFO  org.apache.pig.impl.util.SpillableMemoryManager - Selected heap (PS Old Gen) of size 699400192 to monitor. collectionUsageThreshold = 489580128, usageThreshold = 489580128\n",
            "2020-10-11 21:11:24,698 [MainThread] INFO  org.apache.pig.backend.hadoop.executionengine.mapReduceLayer.MRCompiler - File concatenation threshold: 100 optimistic? false\n",
            "2020-10-11 21:11:24,763 [MainThread] INFO  org.apache.pig.backend.hadoop.executionengine.util.CombinerOptimizerUtil - Choosing to move algebraic foreach to combiner\n",
            "2020-10-11 21:11:24,788 [MainThread] INFO  org.apache.pig.backend.hadoop.executionengine.mapReduceLayer.SecondaryKeyOptimizerMR - Using Secondary Key Optimization for MapReduce node scope-80\n",
            "2020-10-11 21:11:24,792 [MainThread] INFO  org.apache.pig.backend.hadoop.executionengine.mapReduceLayer.MRCompiler$LastInputStreamingOptimizer - Rewrite: POPackage->POForEach to POPackage(JoinPackager)\n",
            "2020-10-11 21:11:24,800 [MainThread] INFO  org.apache.pig.backend.hadoop.executionengine.mapReduceLayer.MultiQueryOptimizer - MR plan size before optimization: 4\n",
            "2020-10-11 21:11:24,801 [MainThread] INFO  org.apache.pig.backend.hadoop.executionengine.mapReduceLayer.MultiQueryOptimizer - MR plan size after optimization: 4\n",
            "2020-10-11 21:11:24,895 [MainThread] INFO  org.apache.hadoop.yarn.client.RMProxy - Connecting to ResourceManager at /0.0.0.0:8032\n",
            "2020-10-11 21:11:25,144 [MainThread] INFO  org.apache.hadoop.conf.Configuration.deprecation - yarn.resourcemanager.system-metrics-publisher.enabled is deprecated. Instead, use yarn.system-metrics-publisher.enabled\n",
            "2020-10-11 21:11:25,161 [MainThread] INFO  org.apache.pig.tools.pigstats.mapreduce.MRScriptState - Pig script settings are added to the job\n",
            "2020-10-11 21:11:25,168 [MainThread] INFO  org.apache.hadoop.conf.Configuration.deprecation - mapred.job.reduce.markreset.buffer.percent is deprecated. Instead, use mapreduce.reduce.markreset.buffer.percent\n",
            "2020-10-11 21:11:25,168 [MainThread] INFO  org.apache.pig.backend.hadoop.executionengine.mapReduceLayer.JobControlCompiler - mapred.job.reduce.markreset.buffer.percent is not set, set to default 0.3\n",
            "2020-10-11 21:11:25,170 [MainThread] INFO  org.apache.hadoop.conf.Configuration.deprecation - mapred.output.compress is deprecated. Instead, use mapreduce.output.fileoutputformat.compress\n",
            "2020-10-11 21:11:25,173 [MainThread] INFO  org.apache.pig.backend.hadoop.executionengine.mapReduceLayer.JobControlCompiler - Reduce phase detected, estimating # of required reducers.\n",
            "2020-10-11 21:11:25,174 [MainThread] INFO  org.apache.pig.backend.hadoop.executionengine.mapReduceLayer.JobControlCompiler - Using reducer estimator: org.apache.pig.backend.hadoop.executionengine.mapReduceLayer.InputSizeReducerEstimator\n",
            "2020-10-11 21:11:25,199 [MainThread] INFO  org.apache.pig.backend.hadoop.executionengine.mapReduceLayer.InputSizeReducerEstimator - BytesPerReducer=1000000000 maxReducers=999 totalInputFileSize=2529231437\n",
            "2020-10-11 21:11:25,199 [MainThread] INFO  org.apache.pig.backend.hadoop.executionengine.mapReduceLayer.JobControlCompiler - Setting Parallelism to 3\n",
            "2020-10-11 21:11:25,199 [MainThread] INFO  org.apache.hadoop.conf.Configuration.deprecation - mapred.reduce.tasks is deprecated. Instead, use mapreduce.job.reduces\n",
            "2020-10-11 21:11:25,199 [MainThread] INFO  org.apache.pig.backend.hadoop.executionengine.mapReduceLayer.JobControlCompiler - This job cannot be converted run in-process\n",
            "2020-10-11 21:11:25,212 [MainThread] INFO  org.apache.hadoop.conf.Configuration.deprecation - mapred.submit.replication is deprecated. Instead, use mapreduce.client.submit.file.replication\n",
            "2020-10-11 21:11:25,515 [MainThread] INFO  org.apache.pig.backend.hadoop.executionengine.mapReduceLayer.JobControlCompiler - Added jar file:/content/pig-0.17.0/pig-0.17.0-core-h2.jar to DistributedCache through /tmp/temp1729380780/tmp-968307709/pig-0.17.0-core-h2.jar\n",
            "2020-10-11 21:11:25,773 [MainThread] INFO  org.apache.pig.backend.hadoop.executionengine.mapReduceLayer.JobControlCompiler - Added jar file:/content/pig-0.17.0/lib/jython-standalone-2.7.0.jar to DistributedCache through /tmp/temp1729380780/tmp592265359/jython-standalone-2.7.0.jar\n",
            "2020-10-11 21:11:25,818 [MainThread] INFO  org.apache.pig.backend.hadoop.executionengine.mapReduceLayer.JobControlCompiler - Added jar file:/content/pig-0.17.0/lib/automaton-1.11-8.jar to DistributedCache through /tmp/temp1729380780/tmp757510542/automaton-1.11-8.jar\n",
            "2020-10-11 21:11:25,851 [MainThread] INFO  org.apache.pig.backend.hadoop.executionengine.mapReduceLayer.JobControlCompiler - Added jar file:/content/pig-0.17.0/lib/antlr-runtime-3.4.jar to DistributedCache through /tmp/temp1729380780/tmp14459799/antlr-runtime-3.4.jar\n",
            "2020-10-11 21:11:25,886 [MainThread] INFO  org.apache.pig.backend.hadoop.executionengine.mapReduceLayer.JobControlCompiler - Added jar file:/content/pig-0.17.0/lib/joda-time-2.9.3.jar to DistributedCache through /tmp/temp1729380780/tmp1952139284/joda-time-2.9.3.jar\n",
            "2020-10-11 21:11:25,921 [MainThread] INFO  org.apache.pig.backend.hadoop.executionengine.mapReduceLayer.JobControlCompiler - Added jar file:/tmp/PigScriptUDF-3d31d79f20bfcf2d39f2c49aa97d7c38.jar to DistributedCache through /tmp/temp1729380780/tmp-2096957391/PigScriptUDF-3d31d79f20bfcf2d39f2c49aa97d7c38.jar\n",
            "2020-10-11 21:11:25,935 [MainThread] INFO  org.apache.pig.backend.hadoop.executionengine.mapReduceLayer.JobControlCompiler - Setting up single store job\n",
            "2020-10-11 21:11:25,941 [MainThread] INFO  org.apache.pig.data.SchemaTupleFrontend - Key [pig.schematuple] is false, will not generate code.\n",
            "2020-10-11 21:11:25,941 [MainThread] INFO  org.apache.pig.data.SchemaTupleFrontend - Starting process to move generated code to distributed cacche\n",
            "2020-10-11 21:11:25,941 [MainThread] INFO  org.apache.pig.data.SchemaTupleFrontend - Setting key [pig.schematuple.classes] with classes to deserialize []\n",
            "2020-10-11 21:11:26,034 [MainThread] INFO  org.apache.pig.backend.hadoop.executionengine.mapReduceLayer.MapReduceLauncher - 1 map-reduce job(s) waiting for submission.\n",
            "2020-10-11 21:11:26,035 [MainThread] INFO  org.apache.hadoop.conf.Configuration.deprecation - mapred.job.tracker.http.address is deprecated. Instead, use mapreduce.jobtracker.http.address\n",
            "2020-10-11 21:11:26,044 [JobControl] INFO  org.apache.hadoop.yarn.client.RMProxy - Connecting to ResourceManager at /0.0.0.0:8032\n",
            "2020-10-11 21:11:26,072 [JobControl] INFO  org.apache.hadoop.conf.Configuration.deprecation - mapred.task.id is deprecated. Instead, use mapreduce.task.attempt.id\n",
            "2020-10-11 21:11:26,242 [JobControl] WARN  org.apache.hadoop.mapreduce.JobResourceUploader - No job jar file set.  User classes may not be found. See Job or Job#setJar(String).\n",
            "2020-10-11 21:11:26,285 [JobControl] INFO  org.apache.pig.builtin.PigStorage - Using PigTextInputFormat\n",
            "2020-10-11 21:11:26,303 [JobControl] INFO  org.apache.hadoop.mapreduce.lib.input.FileInputFormat - Total input files to process : 1\n",
            "2020-10-11 21:11:26,303 [JobControl] INFO  org.apache.pig.backend.hadoop.executionengine.util.MapRedUtil - Total input paths to process : 1\n",
            "2020-10-11 21:11:26,325 [JobControl] INFO  org.apache.pig.backend.hadoop.executionengine.util.MapRedUtil - Total input paths (combined) to process : 19\n",
            "2020-10-11 21:11:26,329 [JobControl] INFO  org.apache.pig.builtin.PigStorage - Using PigTextInputFormat\n",
            "2020-10-11 21:11:26,341 [JobControl] INFO  org.apache.hadoop.mapreduce.lib.input.FileInputFormat - Total input files to process : 1\n",
            "2020-10-11 21:11:26,341 [JobControl] INFO  org.apache.pig.backend.hadoop.executionengine.util.MapRedUtil - Total input paths to process : 1\n",
            "2020-10-11 21:11:26,342 [JobControl] INFO  org.apache.pig.backend.hadoop.executionengine.util.MapRedUtil - Total input paths (combined) to process : 1\n",
            "2020-10-11 21:11:26,440 [JobControl] INFO  org.apache.hadoop.mapreduce.JobSubmitter - number of splits:20\n",
            "2020-10-11 21:11:26,775 [JobControl] INFO  org.apache.hadoop.mapreduce.JobSubmitter - Submitting tokens for job: job_1602449014115_0010\n",
            "2020-10-11 21:11:26,918 [JobControl] INFO  org.apache.hadoop.mapred.YARNRunner - Job jar is not present. Not adding any jar to the list of resources.\n",
            "2020-10-11 21:11:26,994 [JobControl] INFO  org.apache.hadoop.conf.Configuration - resource-types.xml not found\n",
            "2020-10-11 21:11:26,995 [JobControl] INFO  org.apache.hadoop.yarn.util.resource.ResourceUtils - Unable to find 'resource-types.xml'.\n",
            "2020-10-11 21:11:27,000 [JobControl] INFO  org.apache.hadoop.yarn.util.resource.ResourceUtils - Adding resource type - name = memory-mb, units = Mi, type = COUNTABLE\n",
            "2020-10-11 21:11:27,000 [JobControl] INFO  org.apache.hadoop.yarn.util.resource.ResourceUtils - Adding resource type - name = vcores, units = , type = COUNTABLE\n",
            "2020-10-11 21:11:27,353 [JobControl] INFO  org.apache.hadoop.yarn.client.api.impl.YarnClientImpl - Submitted application application_1602449014115_0010\n",
            "2020-10-11 21:11:27,400 [JobControl] INFO  org.apache.hadoop.mapreduce.Job - The url to track the job: http://67aca42af605:8088/proxy/application_1602449014115_0010/\n",
            "2020-10-11 21:11:27,400 [MainThread] INFO  org.apache.pig.backend.hadoop.executionengine.mapReduceLayer.MapReduceLauncher - HadoopJobId: job_1602449014115_0010\n",
            "2020-10-11 21:11:27,401 [MainThread] INFO  org.apache.pig.backend.hadoop.executionengine.mapReduceLayer.MapReduceLauncher - Processing aliases alias,juntar_tablas,nulledad,userid_otros,userid_profile\n",
            "2020-10-11 21:11:27,401 [MainThread] INFO  org.apache.pig.backend.hadoop.executionengine.mapReduceLayer.MapReduceLauncher - detailed locations: M: userid_otros[6,15],userid_otros[-1,-1],alias[12,8],juntar_tablas[10,16],userid_profile[4,17],userid_profile[-1,-1],nulledad[8,11],juntar_tablas[10,16] C:  R: \n",
            "2020-10-11 21:11:27,411 [MainThread] INFO  org.apache.pig.backend.hadoop.executionengine.mapReduceLayer.MapReduceLauncher - 0% complete\n",
            "2020-10-11 21:11:27,411 [MainThread] INFO  org.apache.pig.backend.hadoop.executionengine.mapReduceLayer.MapReduceLauncher - Running jobs are [job_1602449014115_0010]\n",
            "2020-10-11 21:14:06,857 [MainThread] INFO  org.apache.pig.backend.hadoop.executionengine.mapReduceLayer.MapReduceLauncher - 4% complete\n",
            "2020-10-11 21:14:06,858 [MainThread] INFO  org.apache.pig.backend.hadoop.executionengine.mapReduceLayer.MapReduceLauncher - Running jobs are [job_1602449014115_0010]\n",
            "2020-10-11 21:15:47,528 [MainThread] INFO  org.apache.pig.backend.hadoop.executionengine.mapReduceLayer.MapReduceLauncher - 8% complete\n",
            "2020-10-11 21:15:47,528 [MainThread] INFO  org.apache.pig.backend.hadoop.executionengine.mapReduceLayer.MapReduceLauncher - Running jobs are [job_1602449014115_0010]\n",
            "2020-10-11 21:17:02,152 [MainThread] INFO  org.apache.pig.backend.hadoop.executionengine.mapReduceLayer.MapReduceLauncher - 12% complete\n",
            "2020-10-11 21:17:02,152 [MainThread] INFO  org.apache.pig.backend.hadoop.executionengine.mapReduceLayer.MapReduceLauncher - Running jobs are [job_1602449014115_0010]\n",
            "2020-10-11 21:18:16,780 [MainThread] INFO  org.apache.pig.backend.hadoop.executionengine.mapReduceLayer.MapReduceLauncher - 17% complete\n",
            "2020-10-11 21:18:16,781 [MainThread] INFO  org.apache.pig.backend.hadoop.executionengine.mapReduceLayer.MapReduceLauncher - Running jobs are [job_1602449014115_0010]\n",
            "2020-10-11 21:18:17,781 [MainThread] INFO  org.apache.pig.backend.hadoop.executionengine.mapReduceLayer.MapReduceLauncher - 25% complete\n",
            "2020-10-11 21:18:17,781 [MainThread] INFO  org.apache.pig.backend.hadoop.executionengine.mapReduceLayer.MapReduceLauncher - Running jobs are [job_1602449014115_0010]\n",
            "2020-10-11 21:18:22,794 [MainThread] INFO  org.apache.hadoop.yarn.client.RMProxy - Connecting to ResourceManager at /0.0.0.0:8032\n",
            "2020-10-11 21:18:22,808 [MainThread] INFO  org.apache.hadoop.mapred.ClientServiceDelegate - Application state is completed. FinalApplicationStatus=SUCCEEDED. Redirecting to job history server\n",
            "2020-10-11 21:18:23,065 [MainThread] INFO  org.apache.hadoop.yarn.client.RMProxy - Connecting to ResourceManager at /0.0.0.0:8032\n",
            "2020-10-11 21:18:23,073 [MainThread] INFO  org.apache.hadoop.mapred.ClientServiceDelegate - Application state is completed. FinalApplicationStatus=SUCCEEDED. Redirecting to job history server\n",
            "2020-10-11 21:18:23,103 [MainThread] INFO  org.apache.hadoop.yarn.client.RMProxy - Connecting to ResourceManager at /0.0.0.0:8032\n",
            "2020-10-11 21:18:23,108 [MainThread] INFO  org.apache.hadoop.mapred.ClientServiceDelegate - Application state is completed. FinalApplicationStatus=SUCCEEDED. Redirecting to job history server\n",
            "2020-10-11 21:18:23,170 [MainThread] INFO  org.apache.pig.tools.pigstats.mapreduce.MRScriptState - Pig script settings are added to the job\n",
            "2020-10-11 21:18:23,171 [MainThread] INFO  org.apache.pig.backend.hadoop.executionengine.mapReduceLayer.JobControlCompiler - mapred.job.reduce.markreset.buffer.percent is not set, set to default 0.3\n",
            "2020-10-11 21:18:23,172 [MainThread] INFO  org.apache.pig.backend.hadoop.executionengine.mapReduceLayer.JobControlCompiler - Reduce phase detected, estimating # of required reducers.\n",
            "2020-10-11 21:18:23,172 [MainThread] INFO  org.apache.pig.backend.hadoop.executionengine.mapReduceLayer.JobControlCompiler - Using reducer estimator: org.apache.pig.backend.hadoop.executionengine.mapReduceLayer.InputSizeReducerEstimator\n",
            "2020-10-11 21:18:23,182 [MainThread] INFO  org.apache.pig.backend.hadoop.executionengine.mapReduceLayer.InputSizeReducerEstimator - BytesPerReducer=1000000000 maxReducers=999 totalInputFileSize=7621600\n",
            "2020-10-11 21:18:23,182 [MainThread] INFO  org.apache.pig.backend.hadoop.executionengine.mapReduceLayer.JobControlCompiler - Setting Parallelism to 1\n",
            "2020-10-11 21:18:23,182 [MainThread] INFO  org.apache.pig.backend.hadoop.executionengine.mapReduceLayer.JobControlCompiler - This job cannot be converted run in-process\n",
            "2020-10-11 21:18:23,255 [MainThread] INFO  org.apache.pig.backend.hadoop.executionengine.mapReduceLayer.JobControlCompiler - Added jar file:/content/pig-0.17.0/pig-0.17.0-core-h2.jar to DistributedCache through /tmp/temp1729380780/tmp-577395009/pig-0.17.0-core-h2.jar\n",
            "2020-10-11 21:18:23,562 [MainThread] INFO  org.apache.pig.backend.hadoop.executionengine.mapReduceLayer.JobControlCompiler - Added jar file:/content/pig-0.17.0/lib/jython-standalone-2.7.0.jar to DistributedCache through /tmp/temp1729380780/tmp1499104234/jython-standalone-2.7.0.jar\n",
            "2020-10-11 21:18:23,600 [MainThread] INFO  org.apache.pig.backend.hadoop.executionengine.mapReduceLayer.JobControlCompiler - Added jar file:/content/pig-0.17.0/lib/automaton-1.11-8.jar to DistributedCache through /tmp/temp1729380780/tmp670787644/automaton-1.11-8.jar\n",
            "2020-10-11 21:18:23,648 [MainThread] INFO  org.apache.pig.backend.hadoop.executionengine.mapReduceLayer.JobControlCompiler - Added jar file:/content/pig-0.17.0/lib/antlr-runtime-3.4.jar to DistributedCache through /tmp/temp1729380780/tmp2098854461/antlr-runtime-3.4.jar\n",
            "2020-10-11 21:18:23,689 [MainThread] INFO  org.apache.pig.backend.hadoop.executionengine.mapReduceLayer.JobControlCompiler - Added jar file:/content/pig-0.17.0/lib/joda-time-2.9.3.jar to DistributedCache through /tmp/temp1729380780/tmp-196696784/joda-time-2.9.3.jar\n",
            "2020-10-11 21:18:23,721 [MainThread] INFO  org.apache.pig.backend.hadoop.executionengine.mapReduceLayer.JobControlCompiler - Added jar file:/tmp/PigScriptUDF-3d31d79f20bfcf2d39f2c49aa97d7c38.jar to DistributedCache through /tmp/temp1729380780/tmp1658061234/PigScriptUDF-3d31d79f20bfcf2d39f2c49aa97d7c38.jar\n",
            "2020-10-11 21:18:23,723 [MainThread] INFO  org.apache.pig.backend.hadoop.executionengine.mapReduceLayer.JobControlCompiler - Setting up single store job\n",
            "2020-10-11 21:18:23,724 [MainThread] INFO  org.apache.pig.data.SchemaTupleFrontend - Key [pig.schematuple] is false, will not generate code.\n",
            "2020-10-11 21:18:23,724 [MainThread] INFO  org.apache.pig.data.SchemaTupleFrontend - Starting process to move generated code to distributed cacche\n",
            "2020-10-11 21:18:23,724 [MainThread] INFO  org.apache.pig.data.SchemaTupleFrontend - Setting key [pig.schematuple.classes] with classes to deserialize []\n",
            "2020-10-11 21:18:23,758 [MainThread] INFO  org.apache.pig.backend.hadoop.executionengine.mapReduceLayer.MapReduceLauncher - 1 map-reduce job(s) waiting for submission.\n",
            "2020-10-11 21:18:23,763 [JobControl] INFO  org.apache.hadoop.yarn.client.RMProxy - Connecting to ResourceManager at /0.0.0.0:8032\n",
            "2020-10-11 21:18:23,770 [JobControl] INFO  org.apache.hadoop.conf.Configuration.deprecation - yarn.resourcemanager.system-metrics-publisher.enabled is deprecated. Instead, use yarn.system-metrics-publisher.enabled\n",
            "2020-10-11 21:18:23,787 [JobControl] WARN  org.apache.hadoop.mapreduce.JobResourceUploader - No job jar file set.  User classes may not be found. See Job or Job#setJar(String).\n",
            "2020-10-11 21:18:23,806 [JobControl] INFO  org.apache.hadoop.mapreduce.lib.input.FileInputFormat - Total input files to process : 3\n",
            "2020-10-11 21:18:23,807 [JobControl] INFO  org.apache.pig.backend.hadoop.executionengine.util.MapRedUtil - Total input paths to process : 3\n",
            "2020-10-11 21:18:23,807 [JobControl] INFO  org.apache.pig.backend.hadoop.executionengine.util.MapRedUtil - Total input paths (combined) to process : 1\n",
            "2020-10-11 21:18:23,877 [JobControl] INFO  org.apache.hadoop.mapreduce.JobSubmitter - number of splits:1\n",
            "2020-10-11 21:18:23,966 [JobControl] INFO  org.apache.hadoop.mapreduce.JobSubmitter - Submitting tokens for job: job_1602449014115_0011\n",
            "2020-10-11 21:18:23,971 [JobControl] INFO  org.apache.hadoop.mapred.YARNRunner - Job jar is not present. Not adding any jar to the list of resources.\n",
            "2020-10-11 21:18:24,021 [JobControl] INFO  org.apache.hadoop.yarn.client.api.impl.YarnClientImpl - Submitted application application_1602449014115_0011\n",
            "2020-10-11 21:18:24,025 [JobControl] INFO  org.apache.hadoop.mapreduce.Job - The url to track the job: http://67aca42af605:8088/proxy/application_1602449014115_0011/\n",
            "2020-10-11 21:18:24,260 [MainThread] INFO  org.apache.pig.backend.hadoop.executionengine.mapReduceLayer.MapReduceLauncher - HadoopJobId: job_1602449014115_0011\n",
            "2020-10-11 21:18:24,260 [MainThread] INFO  org.apache.pig.backend.hadoop.executionengine.mapReduceLayer.MapReduceLauncher - Processing aliases agrupar,contar\n",
            "2020-10-11 21:18:24,260 [MainThread] INFO  org.apache.pig.backend.hadoop.executionengine.mapReduceLayer.MapReduceLauncher - detailed locations: M: contar[16,9],agrupar[14,10] C: contar[16,9],agrupar[14,10] R: contar[16,9]\n",
            "2020-10-11 21:18:38,364 [MainThread] INFO  org.apache.pig.backend.hadoop.executionengine.mapReduceLayer.MapReduceLauncher - 37% complete\n",
            "2020-10-11 21:18:38,365 [MainThread] INFO  org.apache.pig.backend.hadoop.executionengine.mapReduceLayer.MapReduceLauncher - Running jobs are [job_1602449014115_0011]\n",
            "2020-10-11 21:18:44,375 [MainThread] INFO  org.apache.pig.backend.hadoop.executionengine.mapReduceLayer.MapReduceLauncher - 50% complete\n",
            "2020-10-11 21:18:44,375 [MainThread] INFO  org.apache.pig.backend.hadoop.executionengine.mapReduceLayer.MapReduceLauncher - Running jobs are [job_1602449014115_0011]\n",
            "2020-10-11 21:18:49,386 [MainThread] INFO  org.apache.hadoop.yarn.client.RMProxy - Connecting to ResourceManager at /0.0.0.0:8032\n",
            "2020-10-11 21:18:49,399 [MainThread] INFO  org.apache.hadoop.mapred.ClientServiceDelegate - Application state is completed. FinalApplicationStatus=SUCCEEDED. Redirecting to job history server\n",
            "2020-10-11 21:18:49,487 [MainThread] INFO  org.apache.hadoop.yarn.client.RMProxy - Connecting to ResourceManager at /0.0.0.0:8032\n",
            "2020-10-11 21:18:49,493 [MainThread] INFO  org.apache.hadoop.mapred.ClientServiceDelegate - Application state is completed. FinalApplicationStatus=SUCCEEDED. Redirecting to job history server\n",
            "2020-10-11 21:18:49,519 [MainThread] INFO  org.apache.hadoop.yarn.client.RMProxy - Connecting to ResourceManager at /0.0.0.0:8032\n",
            "2020-10-11 21:18:49,532 [MainThread] INFO  org.apache.hadoop.mapred.ClientServiceDelegate - Application state is completed. FinalApplicationStatus=SUCCEEDED. Redirecting to job history server\n",
            "2020-10-11 21:18:49,561 [MainThread] INFO  org.apache.pig.tools.pigstats.mapreduce.MRScriptState - Pig script settings are added to the job\n",
            "2020-10-11 21:18:49,562 [MainThread] INFO  org.apache.pig.backend.hadoop.executionengine.mapReduceLayer.JobControlCompiler - mapred.job.reduce.markreset.buffer.percent is not set, set to default 0.3\n",
            "2020-10-11 21:18:49,563 [MainThread] INFO  org.apache.pig.backend.hadoop.executionengine.mapReduceLayer.JobControlCompiler - Reduce phase detected, estimating # of required reducers.\n",
            "2020-10-11 21:18:49,563 [MainThread] INFO  org.apache.pig.backend.hadoop.executionengine.mapReduceLayer.JobControlCompiler - Using reducer estimator: org.apache.pig.backend.hadoop.executionengine.mapReduceLayer.InputSizeReducerEstimator\n",
            "2020-10-11 21:18:49,572 [MainThread] INFO  org.apache.pig.backend.hadoop.executionengine.mapReduceLayer.InputSizeReducerEstimator - BytesPerReducer=1000000000 maxReducers=999 totalInputFileSize=268\n",
            "2020-10-11 21:18:49,574 [MainThread] INFO  org.apache.pig.backend.hadoop.executionengine.mapReduceLayer.JobControlCompiler - Setting Parallelism to 1\n",
            "2020-10-11 21:18:49,574 [MainThread] INFO  org.apache.pig.backend.hadoop.executionengine.mapReduceLayer.JobControlCompiler - This job cannot be converted run in-process\n",
            "2020-10-11 21:18:49,830 [MainThread] INFO  org.apache.pig.backend.hadoop.executionengine.mapReduceLayer.JobControlCompiler - Added jar file:/content/pig-0.17.0/lib/jython-standalone-2.7.0.jar to DistributedCache through /tmp/temp1729380780/tmp-1097439755/jython-standalone-2.7.0.jar\n",
            "2020-10-11 21:18:49,890 [MainThread] INFO  org.apache.pig.backend.hadoop.executionengine.mapReduceLayer.JobControlCompiler - Added jar file:/content/pig-0.17.0/pig-0.17.0-core-h2.jar to DistributedCache through /tmp/temp1729380780/tmp-1908152921/pig-0.17.0-core-h2.jar\n",
            "2020-10-11 21:18:49,916 [MainThread] INFO  org.apache.pig.backend.hadoop.executionengine.mapReduceLayer.JobControlCompiler - Added jar file:/content/pig-0.17.0/lib/automaton-1.11-8.jar to DistributedCache through /tmp/temp1729380780/tmp-1552250885/automaton-1.11-8.jar\n",
            "2020-10-11 21:18:49,943 [MainThread] INFO  org.apache.pig.backend.hadoop.executionengine.mapReduceLayer.JobControlCompiler - Added jar file:/content/pig-0.17.0/lib/antlr-runtime-3.4.jar to DistributedCache through /tmp/temp1729380780/tmp1176526090/antlr-runtime-3.4.jar\n",
            "2020-10-11 21:18:49,974 [MainThread] INFO  org.apache.pig.backend.hadoop.executionengine.mapReduceLayer.JobControlCompiler - Added jar file:/content/pig-0.17.0/lib/joda-time-2.9.3.jar to DistributedCache through /tmp/temp1729380780/tmp105295228/joda-time-2.9.3.jar\n",
            "2020-10-11 21:18:50,020 [MainThread] INFO  org.apache.pig.backend.hadoop.executionengine.mapReduceLayer.JobControlCompiler - Added jar file:/tmp/PigScriptUDF-3d31d79f20bfcf2d39f2c49aa97d7c38.jar to DistributedCache through /tmp/temp1729380780/tmp-954303591/PigScriptUDF-3d31d79f20bfcf2d39f2c49aa97d7c38.jar\n",
            "2020-10-11 21:18:50,022 [MainThread] INFO  org.apache.pig.backend.hadoop.executionengine.mapReduceLayer.JobControlCompiler - Setting up single store job\n",
            "2020-10-11 21:18:50,022 [MainThread] INFO  org.apache.pig.data.SchemaTupleFrontend - Key [pig.schematuple] is false, will not generate code.\n",
            "2020-10-11 21:18:50,022 [MainThread] INFO  org.apache.pig.data.SchemaTupleFrontend - Starting process to move generated code to distributed cacche\n",
            "2020-10-11 21:18:50,022 [MainThread] INFO  org.apache.pig.data.SchemaTupleFrontend - Setting key [pig.schematuple.classes] with classes to deserialize []\n",
            "2020-10-11 21:18:50,047 [MainThread] INFO  org.apache.pig.backend.hadoop.executionengine.mapReduceLayer.MapReduceLauncher - 1 map-reduce job(s) waiting for submission.\n",
            "2020-10-11 21:18:50,051 [JobControl] INFO  org.apache.hadoop.yarn.client.RMProxy - Connecting to ResourceManager at /0.0.0.0:8032\n",
            "2020-10-11 21:18:50,058 [JobControl] INFO  org.apache.hadoop.conf.Configuration.deprecation - yarn.resourcemanager.system-metrics-publisher.enabled is deprecated. Instead, use yarn.system-metrics-publisher.enabled\n",
            "2020-10-11 21:18:50,069 [JobControl] WARN  org.apache.hadoop.mapreduce.JobResourceUploader - No job jar file set.  User classes may not be found. See Job or Job#setJar(String).\n",
            "2020-10-11 21:18:50,091 [JobControl] INFO  org.apache.hadoop.mapreduce.lib.input.FileInputFormat - Total input files to process : 1\n",
            "2020-10-11 21:18:50,091 [JobControl] INFO  org.apache.pig.backend.hadoop.executionengine.util.MapRedUtil - Total input paths to process : 1\n",
            "2020-10-11 21:18:50,091 [JobControl] INFO  org.apache.pig.backend.hadoop.executionengine.util.MapRedUtil - Total input paths (combined) to process : 1\n",
            "2020-10-11 21:18:50,145 [JobControl] INFO  org.apache.hadoop.mapreduce.JobSubmitter - number of splits:1\n",
            "2020-10-11 21:18:50,201 [JobControl] INFO  org.apache.hadoop.mapreduce.JobSubmitter - Submitting tokens for job: job_1602449014115_0012\n",
            "2020-10-11 21:18:50,205 [JobControl] INFO  org.apache.hadoop.mapred.YARNRunner - Job jar is not present. Not adding any jar to the list of resources.\n",
            "2020-10-11 21:18:50,272 [JobControl] INFO  org.apache.hadoop.yarn.client.api.impl.YarnClientImpl - Submitted application application_1602449014115_0012\n",
            "2020-10-11 21:18:50,276 [JobControl] INFO  org.apache.hadoop.mapreduce.Job - The url to track the job: http://67aca42af605:8088/proxy/application_1602449014115_0012/\n",
            "2020-10-11 21:18:50,549 [MainThread] INFO  org.apache.pig.backend.hadoop.executionengine.mapReduceLayer.MapReduceLauncher - HadoopJobId: job_1602449014115_0012\n",
            "2020-10-11 21:18:50,549 [MainThread] INFO  org.apache.pig.backend.hadoop.executionengine.mapReduceLayer.MapReduceLauncher - Processing aliases ordenar\n",
            "2020-10-11 21:18:50,549 [MainThread] INFO  org.apache.pig.backend.hadoop.executionengine.mapReduceLayer.MapReduceLauncher - detailed locations: M: ordenar[18,10] C:  R: \n",
            "2020-10-11 21:19:04,634 [MainThread] INFO  org.apache.pig.backend.hadoop.executionengine.mapReduceLayer.MapReduceLauncher - 62% complete\n",
            "2020-10-11 21:19:04,634 [MainThread] INFO  org.apache.pig.backend.hadoop.executionengine.mapReduceLayer.MapReduceLauncher - Running jobs are [job_1602449014115_0012]\n",
            "2020-10-11 21:19:10,141 [MainThread] INFO  org.apache.pig.backend.hadoop.executionengine.mapReduceLayer.MapReduceLauncher - 75% complete\n",
            "2020-10-11 21:19:10,142 [MainThread] INFO  org.apache.pig.backend.hadoop.executionengine.mapReduceLayer.MapReduceLauncher - Running jobs are [job_1602449014115_0012]\n",
            "2020-10-11 21:19:15,653 [MainThread] INFO  org.apache.hadoop.yarn.client.RMProxy - Connecting to ResourceManager at /0.0.0.0:8032\n",
            "2020-10-11 21:19:15,661 [MainThread] INFO  org.apache.hadoop.mapred.ClientServiceDelegate - Application state is completed. FinalApplicationStatus=SUCCEEDED. Redirecting to job history server\n",
            "2020-10-11 21:19:15,737 [MainThread] INFO  org.apache.hadoop.yarn.client.RMProxy - Connecting to ResourceManager at /0.0.0.0:8032\n",
            "2020-10-11 21:19:15,745 [MainThread] INFO  org.apache.hadoop.mapred.ClientServiceDelegate - Application state is completed. FinalApplicationStatus=SUCCEEDED. Redirecting to job history server\n",
            "2020-10-11 21:19:15,768 [MainThread] INFO  org.apache.hadoop.yarn.client.RMProxy - Connecting to ResourceManager at /0.0.0.0:8032\n",
            "2020-10-11 21:19:15,795 [MainThread] INFO  org.apache.hadoop.mapred.ClientServiceDelegate - Application state is completed. FinalApplicationStatus=SUCCEEDED. Redirecting to job history server\n",
            "2020-10-11 21:19:15,850 [MainThread] INFO  org.apache.pig.tools.pigstats.mapreduce.MRScriptState - Pig script settings are added to the job\n",
            "2020-10-11 21:19:15,851 [MainThread] INFO  org.apache.pig.backend.hadoop.executionengine.mapReduceLayer.JobControlCompiler - mapred.job.reduce.markreset.buffer.percent is not set, set to default 0.3\n",
            "2020-10-11 21:19:15,851 [MainThread] INFO  org.apache.pig.backend.hadoop.executionengine.mapReduceLayer.JobControlCompiler - Reduce phase detected, estimating # of required reducers.\n",
            "2020-10-11 21:19:15,852 [MainThread] INFO  org.apache.pig.backend.hadoop.executionengine.mapReduceLayer.JobControlCompiler - Setting Parallelism to 1\n",
            "2020-10-11 21:19:15,853 [MainThread] INFO  org.apache.pig.backend.hadoop.executionengine.mapReduceLayer.JobControlCompiler - This job cannot be converted run in-process\n",
            "2020-10-11 21:19:15,934 [MainThread] INFO  org.apache.pig.backend.hadoop.executionengine.mapReduceLayer.JobControlCompiler - Added jar file:/content/pig-0.17.0/pig-0.17.0-core-h2.jar to DistributedCache through /tmp/temp1729380780/tmp911184488/pig-0.17.0-core-h2.jar\n",
            "2020-10-11 21:19:16,203 [MainThread] INFO  org.apache.pig.backend.hadoop.executionengine.mapReduceLayer.JobControlCompiler - Added jar file:/content/pig-0.17.0/lib/jython-standalone-2.7.0.jar to DistributedCache through /tmp/temp1729380780/tmp1446965856/jython-standalone-2.7.0.jar\n",
            "2020-10-11 21:19:16,230 [MainThread] INFO  org.apache.pig.backend.hadoop.executionengine.mapReduceLayer.JobControlCompiler - Added jar file:/content/pig-0.17.0/lib/automaton-1.11-8.jar to DistributedCache through /tmp/temp1729380780/tmp-744480844/automaton-1.11-8.jar\n",
            "2020-10-11 21:19:16,280 [MainThread] INFO  org.apache.pig.backend.hadoop.executionengine.mapReduceLayer.JobControlCompiler - Added jar file:/content/pig-0.17.0/lib/antlr-runtime-3.4.jar to DistributedCache through /tmp/temp1729380780/tmp227444102/antlr-runtime-3.4.jar\n",
            "2020-10-11 21:19:16,318 [MainThread] INFO  org.apache.pig.backend.hadoop.executionengine.mapReduceLayer.JobControlCompiler - Added jar file:/content/pig-0.17.0/lib/joda-time-2.9.3.jar to DistributedCache through /tmp/temp1729380780/tmp26959471/joda-time-2.9.3.jar\n",
            "2020-10-11 21:19:16,364 [MainThread] INFO  org.apache.pig.backend.hadoop.executionengine.mapReduceLayer.JobControlCompiler - Added jar file:/tmp/PigScriptUDF-3d31d79f20bfcf2d39f2c49aa97d7c38.jar to DistributedCache through /tmp/temp1729380780/tmp-1021550416/PigScriptUDF-3d31d79f20bfcf2d39f2c49aa97d7c38.jar\n",
            "2020-10-11 21:19:16,365 [MainThread] INFO  org.apache.pig.backend.hadoop.executionengine.mapReduceLayer.JobControlCompiler - Setting up single store job\n",
            "2020-10-11 21:19:16,366 [MainThread] INFO  org.apache.pig.data.SchemaTupleFrontend - Key [pig.schematuple] is false, will not generate code.\n",
            "2020-10-11 21:19:16,366 [MainThread] INFO  org.apache.pig.data.SchemaTupleFrontend - Starting process to move generated code to distributed cacche\n",
            "2020-10-11 21:19:16,366 [MainThread] INFO  org.apache.pig.data.SchemaTupleFrontend - Setting key [pig.schematuple.classes] with classes to deserialize []\n",
            "2020-10-11 21:19:16,400 [MainThread] INFO  org.apache.pig.backend.hadoop.executionengine.mapReduceLayer.MapReduceLauncher - 1 map-reduce job(s) waiting for submission.\n",
            "2020-10-11 21:19:16,406 [JobControl] INFO  org.apache.hadoop.yarn.client.RMProxy - Connecting to ResourceManager at /0.0.0.0:8032\n",
            "2020-10-11 21:19:16,416 [JobControl] INFO  org.apache.hadoop.conf.Configuration.deprecation - yarn.resourcemanager.system-metrics-publisher.enabled is deprecated. Instead, use yarn.system-metrics-publisher.enabled\n",
            "2020-10-11 21:19:16,434 [JobControl] WARN  org.apache.hadoop.mapreduce.JobResourceUploader - No job jar file set.  User classes may not be found. See Job or Job#setJar(String).\n",
            "2020-10-11 21:19:16,455 [JobControl] INFO  org.apache.hadoop.mapreduce.lib.input.FileInputFormat - Total input files to process : 1\n",
            "2020-10-11 21:19:16,456 [JobControl] INFO  org.apache.pig.backend.hadoop.executionengine.util.MapRedUtil - Total input paths to process : 1\n",
            "2020-10-11 21:19:16,456 [JobControl] INFO  org.apache.pig.backend.hadoop.executionengine.util.MapRedUtil - Total input paths (combined) to process : 1\n",
            "2020-10-11 21:19:16,502 [JobControl] INFO  org.apache.hadoop.mapreduce.JobSubmitter - number of splits:1\n",
            "2020-10-11 21:19:16,550 [JobControl] INFO  org.apache.hadoop.mapreduce.JobSubmitter - Submitting tokens for job: job_1602449014115_0013\n",
            "2020-10-11 21:19:16,556 [JobControl] INFO  org.apache.hadoop.mapred.YARNRunner - Job jar is not present. Not adding any jar to the list of resources.\n",
            "2020-10-11 21:19:16,611 [JobControl] INFO  org.apache.hadoop.yarn.client.api.impl.YarnClientImpl - Submitted application application_1602449014115_0013\n",
            "2020-10-11 21:19:16,615 [JobControl] INFO  org.apache.hadoop.mapreduce.Job - The url to track the job: http://67aca42af605:8088/proxy/application_1602449014115_0013/\n",
            "2020-10-11 21:19:16,904 [MainThread] INFO  org.apache.pig.backend.hadoop.executionengine.mapReduceLayer.MapReduceLauncher - HadoopJobId: job_1602449014115_0013\n",
            "2020-10-11 21:19:16,904 [MainThread] INFO  org.apache.pig.backend.hadoop.executionengine.mapReduceLayer.MapReduceLauncher - Processing aliases ordenar\n",
            "2020-10-11 21:19:16,904 [MainThread] INFO  org.apache.pig.backend.hadoop.executionengine.mapReduceLayer.MapReduceLauncher - detailed locations: M: ordenar[18,10] C:  R: \n",
            "2020-10-11 21:19:30,988 [MainThread] INFO  org.apache.pig.backend.hadoop.executionengine.mapReduceLayer.MapReduceLauncher - 87% complete\n",
            "2020-10-11 21:19:30,988 [MainThread] INFO  org.apache.pig.backend.hadoop.executionengine.mapReduceLayer.MapReduceLauncher - Running jobs are [job_1602449014115_0013]\n",
            "2020-10-11 21:19:35,996 [MainThread] INFO  org.apache.pig.backend.hadoop.executionengine.mapReduceLayer.MapReduceLauncher - Running jobs are [job_1602449014115_0013]\n",
            "2020-10-11 21:19:37,002 [MainThread] INFO  org.apache.hadoop.yarn.client.RMProxy - Connecting to ResourceManager at /0.0.0.0:8032\n",
            "2020-10-11 21:19:37,010 [MainThread] INFO  org.apache.hadoop.mapred.ClientServiceDelegate - Application state is completed. FinalApplicationStatus=SUCCEEDED. Redirecting to job history server\n",
            "2020-10-11 21:19:37,094 [MainThread] INFO  org.apache.hadoop.yarn.client.RMProxy - Connecting to ResourceManager at /0.0.0.0:8032\n",
            "2020-10-11 21:19:37,102 [MainThread] INFO  org.apache.hadoop.mapred.ClientServiceDelegate - Application state is completed. FinalApplicationStatus=SUCCEEDED. Redirecting to job history server\n",
            "2020-10-11 21:19:37,121 [MainThread] INFO  org.apache.hadoop.yarn.client.RMProxy - Connecting to ResourceManager at /0.0.0.0:8032\n",
            "2020-10-11 21:19:37,126 [MainThread] INFO  org.apache.hadoop.mapred.ClientServiceDelegate - Application state is completed. FinalApplicationStatus=SUCCEEDED. Redirecting to job history server\n",
            "2020-10-11 21:19:37,146 [MainThread] INFO  org.apache.pig.backend.hadoop.executionengine.mapReduceLayer.MapReduceLauncher - 100% complete\n",
            "2020-10-11 21:19:37,171 [MainThread] INFO  org.apache.pig.tools.pigstats.mapreduce.SimplePigStats - Script Statistics: \n",
            "\n",
            "HadoopVersion\tPigVersion\tUserId\tStartedAt\tFinishedAt\tFeatures\n",
            "2.10.0\t0.17.0\troot\t2020-10-11 21:11:25\t2020-10-11 21:19:37\tHASH_JOIN,GROUP_BY,ORDER_BY,FILTER\n",
            "\n",
            "Success!\n",
            "\n",
            "Job Stats (time in seconds):\n",
            "JobId\tMaps\tReduces\tMaxMapTime\tMinMapTime\tAvgMapTime\tMedianMapTime\tMaxReduceTime\tMinReduceTime\tAvgReduceTime\tMedianReducetime\tAlias\tFeature\tOutputs\n",
            "job_1602449014115_0010\t20\t3\t118\t23\t88\t103\t280\t97\t185\t177\talias,juntar_tablas,nulledad,userid_otros,userid_profile\tHASH_JOIN\t\n",
            "job_1602449014115_0011\t1\t1\t4\t4\t4\t4\t3\t3\t3\t3\tagrupar,contar\tGROUP_BY,COMBINER\t\n",
            "job_1602449014115_0012\t1\t1\t3\t3\t3\t3\t3\t3\t3\t3\tordenar\tSAMPLER\t\n",
            "job_1602449014115_0013\t1\t1\t3\t3\t3\t3\t3\t3\t3\t3\tordenar\tORDER_BY\thdfs://localhost:9000/user/root/actividad3,\n",
            "\n",
            "Input(s):\n",
            "Successfully read 19150868 records from: \"hdfs://localhost:9000/user/root/userid-otros\"\n",
            "Successfully read 993 records from: \"hdfs://localhost:9000/user/root/userid-profile\"\n",
            "\n",
            "Output(s):\n",
            "Successfully stored 31 records (216 bytes) in: \"hdfs://localhost:9000/user/root/actividad3\"\n",
            "\n",
            "Counters:\n",
            "Total records written : 31\n",
            "Total bytes written : 216\n",
            "Spillable Memory Manager spill count : 0\n",
            "Total bags proactively spilled: 0\n",
            "Total records proactively spilled: 0\n",
            "\n",
            "Job DAG:\n",
            "job_1602449014115_0010\t->\tjob_1602449014115_0011,\n",
            "job_1602449014115_0011\t->\tjob_1602449014115_0012,\n",
            "job_1602449014115_0012\t->\tjob_1602449014115_0013,\n",
            "job_1602449014115_0013\n",
            "\n",
            "\n",
            "2020-10-11 21:19:37,173 [MainThread] INFO  org.apache.hadoop.yarn.client.RMProxy - Connecting to ResourceManager at /0.0.0.0:8032\n",
            "2020-10-11 21:19:37,176 [MainThread] INFO  org.apache.hadoop.mapred.ClientServiceDelegate - Application state is completed. FinalApplicationStatus=SUCCEEDED. Redirecting to job history server\n",
            "2020-10-11 21:19:37,220 [MainThread] INFO  org.apache.hadoop.yarn.client.RMProxy - Connecting to ResourceManager at /0.0.0.0:8032\n",
            "2020-10-11 21:19:37,223 [MainThread] INFO  org.apache.hadoop.mapred.ClientServiceDelegate - Application state is completed. FinalApplicationStatus=SUCCEEDED. Redirecting to job history server\n",
            "2020-10-11 21:19:37,249 [MainThread] INFO  org.apache.hadoop.yarn.client.RMProxy - Connecting to ResourceManager at /0.0.0.0:8032\n",
            "2020-10-11 21:19:37,254 [MainThread] INFO  org.apache.hadoop.mapred.ClientServiceDelegate - Application state is completed. FinalApplicationStatus=SUCCEEDED. Redirecting to job history server\n",
            "2020-10-11 21:19:37,308 [MainThread] INFO  org.apache.hadoop.yarn.client.RMProxy - Connecting to ResourceManager at /0.0.0.0:8032\n",
            "2020-10-11 21:19:37,317 [MainThread] INFO  org.apache.hadoop.mapred.ClientServiceDelegate - Application state is completed. FinalApplicationStatus=SUCCEEDED. Redirecting to job history server\n",
            "2020-10-11 21:19:37,343 [MainThread] INFO  org.apache.hadoop.yarn.client.RMProxy - Connecting to ResourceManager at /0.0.0.0:8032\n",
            "2020-10-11 21:19:37,348 [MainThread] INFO  org.apache.hadoop.mapred.ClientServiceDelegate - Application state is completed. FinalApplicationStatus=SUCCEEDED. Redirecting to job history server\n",
            "2020-10-11 21:19:37,368 [MainThread] INFO  org.apache.hadoop.yarn.client.RMProxy - Connecting to ResourceManager at /0.0.0.0:8032\n",
            "2020-10-11 21:19:37,371 [MainThread] INFO  org.apache.hadoop.mapred.ClientServiceDelegate - Application state is completed. FinalApplicationStatus=SUCCEEDED. Redirecting to job history server\n",
            "2020-10-11 21:19:37,408 [MainThread] INFO  org.apache.hadoop.yarn.client.RMProxy - Connecting to ResourceManager at /0.0.0.0:8032\n",
            "2020-10-11 21:19:37,412 [MainThread] INFO  org.apache.hadoop.mapred.ClientServiceDelegate - Application state is completed. FinalApplicationStatus=SUCCEEDED. Redirecting to job history server\n",
            "2020-10-11 21:19:37,443 [MainThread] INFO  org.apache.hadoop.yarn.client.RMProxy - Connecting to ResourceManager at /0.0.0.0:8032\n",
            "2020-10-11 21:19:37,450 [MainThread] INFO  org.apache.hadoop.mapred.ClientServiceDelegate - Application state is completed. FinalApplicationStatus=SUCCEEDED. Redirecting to job history server\n",
            "2020-10-11 21:19:37,470 [MainThread] INFO  org.apache.hadoop.yarn.client.RMProxy - Connecting to ResourceManager at /0.0.0.0:8032\n",
            "2020-10-11 21:19:37,474 [MainThread] INFO  org.apache.hadoop.mapred.ClientServiceDelegate - Application state is completed. FinalApplicationStatus=SUCCEEDED. Redirecting to job history server\n",
            "2020-10-11 21:19:37,495 [MainThread] INFO  org.apache.hadoop.yarn.client.RMProxy - Connecting to ResourceManager at /0.0.0.0:8032\n",
            "2020-10-11 21:19:37,499 [MainThread] INFO  org.apache.hadoop.mapred.ClientServiceDelegate - Application state is completed. FinalApplicationStatus=SUCCEEDED. Redirecting to job history server\n",
            "2020-10-11 21:19:37,513 [MainThread] INFO  org.apache.hadoop.yarn.client.RMProxy - Connecting to ResourceManager at /0.0.0.0:8032\n",
            "2020-10-11 21:19:37,518 [MainThread] INFO  org.apache.hadoop.mapred.ClientServiceDelegate - Application state is completed. FinalApplicationStatus=SUCCEEDED. Redirecting to job history server\n",
            "2020-10-11 21:19:37,536 [MainThread] INFO  org.apache.hadoop.yarn.client.RMProxy - Connecting to ResourceManager at /0.0.0.0:8032\n",
            "2020-10-11 21:19:37,539 [MainThread] INFO  org.apache.hadoop.mapred.ClientServiceDelegate - Application state is completed. FinalApplicationStatus=SUCCEEDED. Redirecting to job history server\n",
            "2020-10-11 21:19:37,560 [MainThread] WARN  org.apache.pig.backend.hadoop.executionengine.mapReduceLayer.MapReduceLauncher - Encountered Warning FIELD_DISCARDED_TYPE_CONVERSION_FAILED 1 time(s).\n",
            "2020-10-11 21:19:37,560 [MainThread] INFO  org.apache.pig.backend.hadoop.executionengine.mapReduceLayer.MapReduceLauncher - Success!\n",
            "2020-10-11 21:19:37,595 [MainThread] INFO  org.apache.pig.Main - Pig script completed in 8 minutes, 20 seconds and 988 milliseconds (500988 ms)\n"
          ],
          "name": "stdout"
        }
      ]
    },
    {
      "cell_type": "code",
      "metadata": {
        "id": "AXIXhiMO3mem",
        "outputId": "06442640-aee4-48ab-d8e9-946d2fa370d1",
        "colab": {
          "base_uri": "https://localhost:8080/",
          "height": 129
        }
      },
      "source": [
        "!hdfs dfs -ls"
      ],
      "execution_count": 16,
      "outputs": [
        {
          "output_type": "stream",
          "text": [
            "Found 5 items\n",
            "drwxr-xr-x   - root supergroup          0 2020-10-11 21:02 actividad1\n",
            "drwxr-xr-x   - root supergroup          0 2020-10-11 21:11 actividad2\n",
            "drwxr-xr-x   - root supergroup          0 2020-10-11 21:19 actividad3\n",
            "drwxr-xr-x   - root supergroup          0 2020-10-11 20:56 userid-otros\n",
            "drwxr-xr-x   - root supergroup          0 2020-10-11 20:55 userid-profile\n"
          ],
          "name": "stdout"
        }
      ]
    },
    {
      "cell_type": "code",
      "metadata": {
        "id": "Wtn42ouK3pTu",
        "outputId": "418b5411-ed8b-40a7-ec26-f91e74462247",
        "colab": {
          "base_uri": "https://localhost:8080/",
          "height": 597
        }
      },
      "source": [
        "!hdfs dfs -cat actividad3/part-r-00000"
      ],
      "execution_count": 17,
      "outputs": [
        {
          "output_type": "stream",
          "text": [
            "3\t2\n",
            "4\t14\n",
            "7\t2\n",
            "15\t2\n",
            "16\t122\n",
            "17\t444\n",
            "18\t65\n",
            "19\t4514\n",
            "20\t5760\n",
            "21\t1589\n",
            "22\t7038\n",
            "23\t2552\n",
            "24\t1313\n",
            "25\t1289\n",
            "26\t2527\n",
            "27\t2360\n",
            "28\t1330\n",
            "29\t359\n",
            "30\t617\n",
            "31\t146\n",
            "32\t433\n",
            "33\t1441\n",
            "34\t404\n",
            "35\t1543\n",
            "36\t1962\n",
            "38\t422\n",
            "39\t213\n",
            "42\t13\n",
            "48\t35\n",
            "75\t109\n",
            "103\t1\n"
          ],
          "name": "stdout"
        }
      ]
    },
    {
      "cell_type": "markdown",
      "metadata": {
        "id": "Y1v36Ay1YnAB"
      },
      "source": [
        "Responda la siguiente pregunta:\n",
        "\n",
        "¿ Cuántos usuarios de 35 años han escuchado al artista más popular ?"
      ]
    }
  ]
}