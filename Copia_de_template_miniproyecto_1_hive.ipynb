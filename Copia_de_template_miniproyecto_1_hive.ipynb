{
  "nbformat": 4,
  "nbformat_minor": 0,
  "metadata": {
    "colab": {
      "name": "Copia de template_miniproyecto_1_hive.ipynb",
      "provenance": [],
      "collapsed_sections": [],
      "include_colab_link": true
    },
    "kernelspec": {
      "name": "python3",
      "display_name": "Python 3"
    }
  },
  "cells": [
    {
      "cell_type": "markdown",
      "metadata": {
        "id": "view-in-github",
        "colab_type": "text"
      },
      "source": [
        "<a href=\"https://colab.research.google.com/github/Dedo488/Website/blob/master/Copia_de_template_miniproyecto_1_hive.ipynb\" target=\"_parent\"><img src=\"https://colab.research.google.com/assets/colab-badge.svg\" alt=\"Open In Colab\"/></a>"
      ]
    },
    {
      "cell_type": "markdown",
      "metadata": {
        "id": "9NnHUnYdCC2k"
      },
      "source": [
        "# Mini-Tarea 1: Análisis de datos de preferencias musicales\n",
        "\n",
        "La presente actividad debe ser realizada de forma individual. El formato de entregar es el archivo .ipynb con todas las celdas ejecutadas. Las secciones donde se planteen preguntas de forma explícita, deben ser respondida en celdas de texto, y no se aceptará solo el output de una celda de código como respuesta.\n",
        "\n",
        "**Fecha de entrega:** martes 13 de octubre de 2020, 09:00 hrs.\n",
        "\n",
        "**Nombre alumno:** COMPLETAR\n"
      ]
    },
    {
      "cell_type": "markdown",
      "metadata": {
        "id": "VveixMBZM7SL"
      },
      "source": [
        "# Apache Hive"
      ]
    },
    {
      "cell_type": "markdown",
      "metadata": {
        "id": "rirmIh6RM-yQ"
      },
      "source": [
        "## Instalación de ambiente"
      ]
    },
    {
      "cell_type": "markdown",
      "metadata": {
        "id": "4TJjxWBQEwJ1"
      },
      "source": [
        "Subimos el archivo Hadoop y lo ejecutamos para montar nuestro sistema distribuido en la VM."
      ]
    },
    {
      "cell_type": "code",
      "metadata": {
        "id": "oEmlbHKjXedx",
        "outputId": "12581837-a66a-4d16-91e5-b28d83302032",
        "colab": {
          "resources": {
            "http://localhost:8080/nbextensions/google.colab/files.js": {
              "data": "Ly8gQ29weXJpZ2h0IDIwMTcgR29vZ2xlIExMQwovLwovLyBMaWNlbnNlZCB1bmRlciB0aGUgQXBhY2hlIExpY2Vuc2UsIFZlcnNpb24gMi4wICh0aGUgIkxpY2Vuc2UiKTsKLy8geW91IG1heSBub3QgdXNlIHRoaXMgZmlsZSBleGNlcHQgaW4gY29tcGxpYW5jZSB3aXRoIHRoZSBMaWNlbnNlLgovLyBZb3UgbWF5IG9idGFpbiBhIGNvcHkgb2YgdGhlIExpY2Vuc2UgYXQKLy8KLy8gICAgICBodHRwOi8vd3d3LmFwYWNoZS5vcmcvbGljZW5zZXMvTElDRU5TRS0yLjAKLy8KLy8gVW5sZXNzIHJlcXVpcmVkIGJ5IGFwcGxpY2FibGUgbGF3IG9yIGFncmVlZCB0byBpbiB3cml0aW5nLCBzb2Z0d2FyZQovLyBkaXN0cmlidXRlZCB1bmRlciB0aGUgTGljZW5zZSBpcyBkaXN0cmlidXRlZCBvbiBhbiAiQVMgSVMiIEJBU0lTLAovLyBXSVRIT1VUIFdBUlJBTlRJRVMgT1IgQ09ORElUSU9OUyBPRiBBTlkgS0lORCwgZWl0aGVyIGV4cHJlc3Mgb3IgaW1wbGllZC4KLy8gU2VlIHRoZSBMaWNlbnNlIGZvciB0aGUgc3BlY2lmaWMgbGFuZ3VhZ2UgZ292ZXJuaW5nIHBlcm1pc3Npb25zIGFuZAovLyBsaW1pdGF0aW9ucyB1bmRlciB0aGUgTGljZW5zZS4KCi8qKgogKiBAZmlsZW92ZXJ2aWV3IEhlbHBlcnMgZm9yIGdvb2dsZS5jb2xhYiBQeXRob24gbW9kdWxlLgogKi8KKGZ1bmN0aW9uKHNjb3BlKSB7CmZ1bmN0aW9uIHNwYW4odGV4dCwgc3R5bGVBdHRyaWJ1dGVzID0ge30pIHsKICBjb25zdCBlbGVtZW50ID0gZG9jdW1lbnQuY3JlYXRlRWxlbWVudCgnc3BhbicpOwogIGVsZW1lbnQudGV4dENvbnRlbnQgPSB0ZXh0OwogIGZvciAoY29uc3Qga2V5IG9mIE9iamVjdC5rZXlzKHN0eWxlQXR0cmlidXRlcykpIHsKICAgIGVsZW1lbnQuc3R5bGVba2V5XSA9IHN0eWxlQXR0cmlidXRlc1trZXldOwogIH0KICByZXR1cm4gZWxlbWVudDsKfQoKLy8gTWF4IG51bWJlciBvZiBieXRlcyB3aGljaCB3aWxsIGJlIHVwbG9hZGVkIGF0IGEgdGltZS4KY29uc3QgTUFYX1BBWUxPQURfU0laRSA9IDEwMCAqIDEwMjQ7CgpmdW5jdGlvbiBfdXBsb2FkRmlsZXMoaW5wdXRJZCwgb3V0cHV0SWQpIHsKICBjb25zdCBzdGVwcyA9IHVwbG9hZEZpbGVzU3RlcChpbnB1dElkLCBvdXRwdXRJZCk7CiAgY29uc3Qgb3V0cHV0RWxlbWVudCA9IGRvY3VtZW50LmdldEVsZW1lbnRCeUlkKG91dHB1dElkKTsKICAvLyBDYWNoZSBzdGVwcyBvbiB0aGUgb3V0cHV0RWxlbWVudCB0byBtYWtlIGl0IGF2YWlsYWJsZSBmb3IgdGhlIG5leHQgY2FsbAogIC8vIHRvIHVwbG9hZEZpbGVzQ29udGludWUgZnJvbSBQeXRob24uCiAgb3V0cHV0RWxlbWVudC5zdGVwcyA9IHN0ZXBzOwoKICByZXR1cm4gX3VwbG9hZEZpbGVzQ29udGludWUob3V0cHV0SWQpOwp9CgovLyBUaGlzIGlzIHJvdWdobHkgYW4gYXN5bmMgZ2VuZXJhdG9yIChub3Qgc3VwcG9ydGVkIGluIHRoZSBicm93c2VyIHlldCksCi8vIHdoZXJlIHRoZXJlIGFyZSBtdWx0aXBsZSBhc3luY2hyb25vdXMgc3RlcHMgYW5kIHRoZSBQeXRob24gc2lkZSBpcyBnb2luZwovLyB0byBwb2xsIGZvciBjb21wbGV0aW9uIG9mIGVhY2ggc3RlcC4KLy8gVGhpcyB1c2VzIGEgUHJvbWlzZSB0byBibG9jayB0aGUgcHl0aG9uIHNpZGUgb24gY29tcGxldGlvbiBvZiBlYWNoIHN0ZXAsCi8vIHRoZW4gcGFzc2VzIHRoZSByZXN1bHQgb2YgdGhlIHByZXZpb3VzIHN0ZXAgYXMgdGhlIGlucHV0IHRvIHRoZSBuZXh0IHN0ZXAuCmZ1bmN0aW9uIF91cGxvYWRGaWxlc0NvbnRpbnVlKG91dHB1dElkKSB7CiAgY29uc3Qgb3V0cHV0RWxlbWVudCA9IGRvY3VtZW50LmdldEVsZW1lbnRCeUlkKG91dHB1dElkKTsKICBjb25zdCBzdGVwcyA9IG91dHB1dEVsZW1lbnQuc3RlcHM7CgogIGNvbnN0IG5leHQgPSBzdGVwcy5uZXh0KG91dHB1dEVsZW1lbnQubGFzdFByb21pc2VWYWx1ZSk7CiAgcmV0dXJuIFByb21pc2UucmVzb2x2ZShuZXh0LnZhbHVlLnByb21pc2UpLnRoZW4oKHZhbHVlKSA9PiB7CiAgICAvLyBDYWNoZSB0aGUgbGFzdCBwcm9taXNlIHZhbHVlIHRvIG1ha2UgaXQgYXZhaWxhYmxlIHRvIHRoZSBuZXh0CiAgICAvLyBzdGVwIG9mIHRoZSBnZW5lcmF0b3IuCiAgICBvdXRwdXRFbGVtZW50Lmxhc3RQcm9taXNlVmFsdWUgPSB2YWx1ZTsKICAgIHJldHVybiBuZXh0LnZhbHVlLnJlc3BvbnNlOwogIH0pOwp9CgovKioKICogR2VuZXJhdG9yIGZ1bmN0aW9uIHdoaWNoIGlzIGNhbGxlZCBiZXR3ZWVuIGVhY2ggYXN5bmMgc3RlcCBvZiB0aGUgdXBsb2FkCiAqIHByb2Nlc3MuCiAqIEBwYXJhbSB7c3RyaW5nfSBpbnB1dElkIEVsZW1lbnQgSUQgb2YgdGhlIGlucHV0IGZpbGUgcGlja2VyIGVsZW1lbnQuCiAqIEBwYXJhbSB7c3RyaW5nfSBvdXRwdXRJZCBFbGVtZW50IElEIG9mIHRoZSBvdXRwdXQgZGlzcGxheS4KICogQHJldHVybiB7IUl0ZXJhYmxlPCFPYmplY3Q+fSBJdGVyYWJsZSBvZiBuZXh0IHN0ZXBzLgogKi8KZnVuY3Rpb24qIHVwbG9hZEZpbGVzU3RlcChpbnB1dElkLCBvdXRwdXRJZCkgewogIGNvbnN0IGlucHV0RWxlbWVudCA9IGRvY3VtZW50LmdldEVsZW1lbnRCeUlkKGlucHV0SWQpOwogIGlucHV0RWxlbWVudC5kaXNhYmxlZCA9IGZhbHNlOwoKICBjb25zdCBvdXRwdXRFbGVtZW50ID0gZG9jdW1lbnQuZ2V0RWxlbWVudEJ5SWQob3V0cHV0SWQpOwogIG91dHB1dEVsZW1lbnQuaW5uZXJIVE1MID0gJyc7CgogIGNvbnN0IHBpY2tlZFByb21pc2UgPSBuZXcgUHJvbWlzZSgocmVzb2x2ZSkgPT4gewogICAgaW5wdXRFbGVtZW50LmFkZEV2ZW50TGlzdGVuZXIoJ2NoYW5nZScsIChlKSA9PiB7CiAgICAgIHJlc29sdmUoZS50YXJnZXQuZmlsZXMpOwogICAgfSk7CiAgfSk7CgogIGNvbnN0IGNhbmNlbCA9IGRvY3VtZW50LmNyZWF0ZUVsZW1lbnQoJ2J1dHRvbicpOwogIGlucHV0RWxlbWVudC5wYXJlbnRFbGVtZW50LmFwcGVuZENoaWxkKGNhbmNlbCk7CiAgY2FuY2VsLnRleHRDb250ZW50ID0gJ0NhbmNlbCB1cGxvYWQnOwogIGNvbnN0IGNhbmNlbFByb21pc2UgPSBuZXcgUHJvbWlzZSgocmVzb2x2ZSkgPT4gewogICAgY2FuY2VsLm9uY2xpY2sgPSAoKSA9PiB7CiAgICAgIHJlc29sdmUobnVsbCk7CiAgICB9OwogIH0pOwoKICAvLyBXYWl0IGZvciB0aGUgdXNlciB0byBwaWNrIHRoZSBmaWxlcy4KICBjb25zdCBmaWxlcyA9IHlpZWxkIHsKICAgIHByb21pc2U6IFByb21pc2UucmFjZShbcGlja2VkUHJvbWlzZSwgY2FuY2VsUHJvbWlzZV0pLAogICAgcmVzcG9uc2U6IHsKICAgICAgYWN0aW9uOiAnc3RhcnRpbmcnLAogICAgfQogIH07CgogIGNhbmNlbC5yZW1vdmUoKTsKCiAgLy8gRGlzYWJsZSB0aGUgaW5wdXQgZWxlbWVudCBzaW5jZSBmdXJ0aGVyIHBpY2tzIGFyZSBub3QgYWxsb3dlZC4KICBpbnB1dEVsZW1lbnQuZGlzYWJsZWQgPSB0cnVlOwoKICBpZiAoIWZpbGVzKSB7CiAgICByZXR1cm4gewogICAgICByZXNwb25zZTogewogICAgICAgIGFjdGlvbjogJ2NvbXBsZXRlJywKICAgICAgfQogICAgfTsKICB9CgogIGZvciAoY29uc3QgZmlsZSBvZiBmaWxlcykgewogICAgY29uc3QgbGkgPSBkb2N1bWVudC5jcmVhdGVFbGVtZW50KCdsaScpOwogICAgbGkuYXBwZW5kKHNwYW4oZmlsZS5uYW1lLCB7Zm9udFdlaWdodDogJ2JvbGQnfSkpOwogICAgbGkuYXBwZW5kKHNwYW4oCiAgICAgICAgYCgke2ZpbGUudHlwZSB8fCAnbi9hJ30pIC0gJHtmaWxlLnNpemV9IGJ5dGVzLCBgICsKICAgICAgICBgbGFzdCBtb2RpZmllZDogJHsKICAgICAgICAgICAgZmlsZS5sYXN0TW9kaWZpZWREYXRlID8gZmlsZS5sYXN0TW9kaWZpZWREYXRlLnRvTG9jYWxlRGF0ZVN0cmluZygpIDoKICAgICAgICAgICAgICAgICAgICAgICAgICAgICAgICAgICAgJ24vYSd9IC0gYCkpOwogICAgY29uc3QgcGVyY2VudCA9IHNwYW4oJzAlIGRvbmUnKTsKICAgIGxpLmFwcGVuZENoaWxkKHBlcmNlbnQpOwoKICAgIG91dHB1dEVsZW1lbnQuYXBwZW5kQ2hpbGQobGkpOwoKICAgIGNvbnN0IGZpbGVEYXRhUHJvbWlzZSA9IG5ldyBQcm9taXNlKChyZXNvbHZlKSA9PiB7CiAgICAgIGNvbnN0IHJlYWRlciA9IG5ldyBGaWxlUmVhZGVyKCk7CiAgICAgIHJlYWRlci5vbmxvYWQgPSAoZSkgPT4gewogICAgICAgIHJlc29sdmUoZS50YXJnZXQucmVzdWx0KTsKICAgICAgfTsKICAgICAgcmVhZGVyLnJlYWRBc0FycmF5QnVmZmVyKGZpbGUpOwogICAgfSk7CiAgICAvLyBXYWl0IGZvciB0aGUgZGF0YSB0byBiZSByZWFkeS4KICAgIGxldCBmaWxlRGF0YSA9IHlpZWxkIHsKICAgICAgcHJvbWlzZTogZmlsZURhdGFQcm9taXNlLAogICAgICByZXNwb25zZTogewogICAgICAgIGFjdGlvbjogJ2NvbnRpbnVlJywKICAgICAgfQogICAgfTsKCiAgICAvLyBVc2UgYSBjaHVua2VkIHNlbmRpbmcgdG8gYXZvaWQgbWVzc2FnZSBzaXplIGxpbWl0cy4gU2VlIGIvNjIxMTU2NjAuCiAgICBsZXQgcG9zaXRpb24gPSAwOwogICAgd2hpbGUgKHBvc2l0aW9uIDwgZmlsZURhdGEuYnl0ZUxlbmd0aCkgewogICAgICBjb25zdCBsZW5ndGggPSBNYXRoLm1pbihmaWxlRGF0YS5ieXRlTGVuZ3RoIC0gcG9zaXRpb24sIE1BWF9QQVlMT0FEX1NJWkUpOwogICAgICBjb25zdCBjaHVuayA9IG5ldyBVaW50OEFycmF5KGZpbGVEYXRhLCBwb3NpdGlvbiwgbGVuZ3RoKTsKICAgICAgcG9zaXRpb24gKz0gbGVuZ3RoOwoKICAgICAgY29uc3QgYmFzZTY0ID0gYnRvYShTdHJpbmcuZnJvbUNoYXJDb2RlLmFwcGx5KG51bGwsIGNodW5rKSk7CiAgICAgIHlpZWxkIHsKICAgICAgICByZXNwb25zZTogewogICAgICAgICAgYWN0aW9uOiAnYXBwZW5kJywKICAgICAgICAgIGZpbGU6IGZpbGUubmFtZSwKICAgICAgICAgIGRhdGE6IGJhc2U2NCwKICAgICAgICB9LAogICAgICB9OwogICAgICBwZXJjZW50LnRleHRDb250ZW50ID0KICAgICAgICAgIGAke01hdGgucm91bmQoKHBvc2l0aW9uIC8gZmlsZURhdGEuYnl0ZUxlbmd0aCkgKiAxMDApfSUgZG9uZWA7CiAgICB9CiAgfQoKICAvLyBBbGwgZG9uZS4KICB5aWVsZCB7CiAgICByZXNwb25zZTogewogICAgICBhY3Rpb246ICdjb21wbGV0ZScsCiAgICB9CiAgfTsKfQoKc2NvcGUuZ29vZ2xlID0gc2NvcGUuZ29vZ2xlIHx8IHt9OwpzY29wZS5nb29nbGUuY29sYWIgPSBzY29wZS5nb29nbGUuY29sYWIgfHwge307CnNjb3BlLmdvb2dsZS5jb2xhYi5fZmlsZXMgPSB7CiAgX3VwbG9hZEZpbGVzLAogIF91cGxvYWRGaWxlc0NvbnRpbnVlLAp9Owp9KShzZWxmKTsK",
              "ok": true,
              "headers": [
                [
                  "content-type",
                  "application/javascript"
                ]
              ],
              "status": 200,
              "status_text": "OK"
            }
          },
          "base_uri": "https://localhost:8080/",
          "height": 92
        }
      },
      "source": [
        "#Subir hadoop_colab_installer.py\n",
        "from google.colab import files\n",
        "\n",
        "uploaded = files.upload()\n",
        "\n",
        "for fn in uploaded.keys():\n",
        "  print('User uploaded file \"{name}\" with length {length} bytes'.format(\n",
        "      name=fn, length=len(uploaded[fn])))"
      ],
      "execution_count": null,
      "outputs": [
        {
          "output_type": "display_data",
          "data": {
            "text/html": [
              "\n",
              "     <input type=\"file\" id=\"files-81f2692f-b28f-421b-ae1f-7b5eb0ae6769\" name=\"files[]\" multiple disabled\n",
              "        style=\"border:none\" />\n",
              "     <output id=\"result-81f2692f-b28f-421b-ae1f-7b5eb0ae6769\">\n",
              "      Upload widget is only available when the cell has been executed in the\n",
              "      current browser session. Please rerun this cell to enable.\n",
              "      </output>\n",
              "      <script src=\"/nbextensions/google.colab/files.js\"></script> "
            ],
            "text/plain": [
              "<IPython.core.display.HTML object>"
            ]
          },
          "metadata": {
            "tags": []
          }
        },
        {
          "output_type": "stream",
          "text": [
            "Saving hadoop_colab_installer.py to hadoop_colab_installer.py\n",
            "User uploaded file \"hadoop_colab_installer.py\" with length 13493 bytes\n"
          ],
          "name": "stdout"
        }
      ]
    },
    {
      "cell_type": "code",
      "metadata": {
        "id": "vO73ol-jNCdc",
        "outputId": "3dda35f6-8c20-4bfc-a4c4-b978a2f3bfff",
        "colab": {
          "base_uri": "https://localhost:8080/",
          "height": 167
        }
      },
      "source": [
        "exec(open('hadoop_colab_installer.py').read())"
      ],
      "execution_count": null,
      "outputs": [
        {
          "output_type": "stream",
          "text": [
            "Active services:\n",
            "2177 JobHistoryServer\n",
            "1797 DataNode\n",
            "2102 NodeManager\n",
            "2218 Jps\n",
            "1644 ResourceManager\n",
            "1727 NameNode\n",
            "\n"
          ],
          "name": "stdout"
        }
      ]
    },
    {
      "cell_type": "markdown",
      "metadata": {
        "id": "G7HaKsAfQvK0"
      },
      "source": [
        "## Descarga de dataset"
      ]
    },
    {
      "cell_type": "markdown",
      "metadata": {
        "id": "CODfHpMlFGbz"
      },
      "source": [
        "Descargamos el dataset y revisamos que la información esté en nuestro directorio en la VM."
      ]
    },
    {
      "cell_type": "code",
      "metadata": {
        "id": "lhwOW-7i2xQv",
        "outputId": "fffe4fd1-9d16-4aad-b8cb-22d2af6bd760",
        "colab": {
          "base_uri": "https://localhost:8080/",
          "height": 36
        }
      },
      "source": [
        "!wget -q --show-progress http://mtg.upf.edu/static/datasets/last.fm/lastfm-dataset-1K.tar.gz\n",
        "!tar xzf lastfm-dataset-1K.tar.gz"
      ],
      "execution_count": null,
      "outputs": [
        {
          "output_type": "stream",
          "text": [
            "lastfm-dataset-1K.t 100%[===================>] 641.58M  1.73MB/s    in 6m 47s  \n"
          ],
          "name": "stdout"
        }
      ]
    },
    {
      "cell_type": "code",
      "metadata": {
        "id": "xYbcObfd3LCx",
        "outputId": "a947a8ab-74b6-4f6a-ebe9-98941eed7b28",
        "colab": {
          "base_uri": "https://localhost:8080/",
          "height": 279
        }
      },
      "source": [
        "!ls"
      ],
      "execution_count": null,
      "outputs": [
        {
          "output_type": "stream",
          "text": [
            "accumulo\t\t       lastfm-dataset-1K\n",
            "apache-hive-2.3.7-bin\t       lastfm-dataset-1K.tar.gz\n",
            "apache-hive-2.3.7-bin.tar.gz   mysql-connector-java-8.0.20\n",
            "apache-hive-bin\t\t       mysql-connector-java-8.0.20.tar.gz\n",
            "db-derby-10.14.2.0-bin\t       pig\n",
            "db-derby-10.14.2.0-bin.tar.gz  pig-0.17.0\n",
            "db-derby-bin\t\t       pig-0.17.0.tar.gz\n",
            "derby.log\t\t       pig_util.py\n",
            "hadoop\t\t\t       sample_data\n",
            "hadoop-2.10.0\t\t       sqoop-1.4.7.bin__hadoop-2.6.0\n",
            "hadoop-2.10.0.tar.gz\t       sqoop-1.4.7.bin__hadoop-2.6.0.tar.gz\n",
            "hadoop_colab_installer.py      sqoop-bin\n",
            "hbase\t\t\t       zookeeper\n",
            "hcat\n"
          ],
          "name": "stdout"
        }
      ]
    },
    {
      "cell_type": "code",
      "metadata": {
        "id": "Hl5yssIXawRi"
      },
      "source": [
        "# !cp \"/content/drive/My Drive/Colab/lastfm-dataset-1K.tar.gz\"/content/"
      ],
      "execution_count": null,
      "outputs": []
    },
    {
      "cell_type": "markdown",
      "metadata": {
        "id": "2qwA_neHOb18"
      },
      "source": [
        "## Actividad 0"
      ]
    },
    {
      "cell_type": "markdown",
      "metadata": {
        "id": "6HwhsNdvFUda"
      },
      "source": [
        "Primero revisamos los archivos dentro del directorio lastfm, para conocer los nombres para leerlos. \n",
        "\n",
        "Posteriormente creamos un directorio para cada archivo y realizamos el comando -put para colocar nuestros archivos en HDFS. \n",
        "\n",
        "Después creamos un archivo .sql con los comandos para crear las tablas de ambos archivos y lo ejecutamos con el comando -f. Con esto, tenemos nuestras tablas en hdfs. \n",
        "\n",
        "Por último, ya que anteriormente se borraron los archivos de los directorios, los volvemos a integrar con el comando -put\n"
      ]
    },
    {
      "cell_type": "code",
      "metadata": {
        "id": "FNOfYDwSdFiq",
        "outputId": "db141454-0b73-4714-faf6-5a859116ef95",
        "colab": {
          "base_uri": "https://localhost:8080/",
          "height": 54
        }
      },
      "source": [
        "!ls lastfm-dataset-1K"
      ],
      "execution_count": null,
      "outputs": [
        {
          "output_type": "stream",
          "text": [
            "README.txt\t    userid-timestamp-artid-artname-traid-traname.tsv\n",
            "userid-profile.tsv\n"
          ],
          "name": "stdout"
        }
      ]
    },
    {
      "cell_type": "code",
      "metadata": {
        "id": "z9Rox5XRcuQp"
      },
      "source": [
        "!hdfs dfs -mkdir userid-profile\n",
        "!hdfs dfs -mkdir userid-otros\n",
        "!hdfs dfs -put lastfm-dataset-1K/userid-profile.tsv userid-profile\n",
        "!hdfs dfs -put lastfm-dataset-1K/userid-timestamp-artid-artname-traid-traname.tsv userid-otros"
      ],
      "execution_count": null,
      "outputs": []
    },
    {
      "cell_type": "code",
      "metadata": {
        "id": "P3cT-JqnfKc_",
        "outputId": "3f7e2b90-c162-43ca-a543-2789610eec7b",
        "colab": {
          "base_uri": "https://localhost:8080/",
          "height": 112
        }
      },
      "source": [
        "!hdfs dfs -ls userid-profile userid-otros"
      ],
      "execution_count": null,
      "outputs": [
        {
          "output_type": "stream",
          "text": [
            "Found 1 items\n",
            "-rw-r--r--   1 root supergroup      37842 2020-10-10 21:47 userid-profile/userid-profile.tsv\n",
            "Found 1 items\n",
            "-rw-r--r--   1 root supergroup 2529193595 2020-10-10 21:48 userid-timestamp-artid-artname-traid-traname/userid-timestamp-artid-artname-traid-traname.tsv\n"
          ],
          "name": "stdout"
        }
      ]
    },
    {
      "cell_type": "code",
      "metadata": {
        "id": "MhL5SYYYfRXX",
        "outputId": "77c1ff39-e552-4e35-f000-b4f73f4eaacd",
        "colab": {
          "base_uri": "https://localhost:8080/",
          "height": 36
        }
      },
      "source": [
        "%%writefile create_tables.sql\n",
        "\n",
        "DROP TABLE IF EXISTS user_id_profile;\n",
        "\n",
        "DROP TABLE IF EXISTS user_id_otros;\n",
        "\n",
        "CREATE TABLE user_id_profile (userid STRING, gender STRING, age INT, country STRING, signup STRING) ROW FORMAT DELIMITED FIELDS TERMINATED BY '\\t';\n",
        "LOAD DATA INPATH 'userid-profile' INTO TABLE user_id_profile;\n",
        "\n",
        "CREATE TABLE user_id_otros (userid STRING, timeztamp STRING, artist_id STRING, artist_name STRING, track_id STRING, track_name STRING) ROW FORMAT DELIMITED FIELDS TERMINATED BY '\\t';\n",
        "LOAD DATA INPATH 'userid-otros' INTO TABLE user_id_otros;\n"
      ],
      "execution_count": null,
      "outputs": [
        {
          "output_type": "stream",
          "text": [
            "Overwriting create_tables.sql\n"
          ],
          "name": "stdout"
        }
      ]
    },
    {
      "cell_type": "code",
      "metadata": {
        "id": "x-Idgv2_kxfX",
        "outputId": "7f5f4524-17ad-495c-8db8-23874e5627d4",
        "colab": {
          "base_uri": "https://localhost:8080/",
          "height": 430
        }
      },
      "source": [
        "!hive -f create_tables.sql"
      ],
      "execution_count": null,
      "outputs": [
        {
          "output_type": "stream",
          "text": [
            "SLF4J: Class path contains multiple SLF4J bindings.\n",
            "SLF4J: Found binding in [jar:file:/content/apache-hive-2.3.7-bin/lib/log4j-slf4j-impl-2.6.2.jar!/org/slf4j/impl/StaticLoggerBinder.class]\n",
            "SLF4J: Found binding in [jar:file:/content/hadoop-2.10.0/share/hadoop/common/lib/slf4j-log4j12-1.7.25.jar!/org/slf4j/impl/StaticLoggerBinder.class]\n",
            "SLF4J: See http://www.slf4j.org/codes.html#multiple_bindings for an explanation.\n",
            "SLF4J: Actual binding is of type [org.apache.logging.slf4j.Log4jLoggerFactory]\n",
            "\n",
            "Logging initialized using configuration in jar:file:/content/apache-hive-2.3.7-bin/lib/hive-common-2.3.7.jar!/hive-log4j2.properties Async: true\n",
            "OK\n",
            "Time taken: 8.446 seconds\n",
            "OK\n",
            "Time taken: 0.267 seconds\n",
            "OK\n",
            "Time taken: 0.928 seconds\n",
            "Loading data to table default.user_id_profile\n",
            "OK\n",
            "Time taken: 0.991 seconds\n",
            "OK\n",
            "Time taken: 0.276 seconds\n",
            "Loading data to table default.user_id_otros\n",
            "OK\n",
            "Time taken: 0.553 seconds\n"
          ],
          "name": "stdout"
        }
      ]
    },
    {
      "cell_type": "code",
      "metadata": {
        "id": "9X3Eg8iYk9to"
      },
      "source": [
        "# Ya que se borraron haciendo lo anterior\n",
        "!hdfs dfs -put lastfm-dataset-1K/userid-profile.tsv userid-profile\n",
        "!hdfs dfs -put lastfm-dataset-1K/userid-timestamp-artid-artname-traid-traname.tsv userid-otros"
      ],
      "execution_count": null,
      "outputs": []
    },
    {
      "cell_type": "code",
      "metadata": {
        "id": "vLmOMb6TZfPU"
      },
      "source": [
        "# Inserte su código para copia de datos en HDFS y creación de tablas en metastore"
      ],
      "execution_count": null,
      "outputs": []
    },
    {
      "cell_type": "markdown",
      "metadata": {
        "id": "ew-qZSCxOgZ0"
      },
      "source": [
        "## Actividad 1"
      ]
    },
    {
      "cell_type": "markdown",
      "metadata": {
        "id": "sIiUxGObGqN4"
      },
      "source": [
        "Para la Actividad 1, escribimos la consulta Hivesql para obtener lo necesario. Donde lo primorial es ordernar en forma descendente y colocar un limit 10.\n",
        "\n",
        "Para este caso la tabla es la siguiente: Donde el más popular para este dataset es Radiohead con 115209 y el último del top ten es Elliott Smith con 50278. \n",
        "\n",
        "t2.artist_name\tconteo\n",
        "\n",
        "Radiohead\t115209\n",
        "\n",
        "The Beatles\t100338\n",
        "\n",
        "Nine Inch Nails\t84421\n",
        "\n",
        "Muse\t63351\n",
        "\n",
        "Coldplay\t62251\n",
        "\n",
        "Depeche Mode\t59910\n",
        "\n",
        "Pink Floyd\t58561\n",
        "\n",
        "Death Cab For Cutie\t58083\n",
        "\n",
        "Placebo\t53543\n",
        "\n",
        "Elliott Smith\t50278\n",
        "\n"
      ]
    },
    {
      "cell_type": "code",
      "metadata": {
        "id": "VJ-ud1SemXTx",
        "outputId": "fa0133fa-3726-45d7-bf70-def3439efd09",
        "colab": {
          "base_uri": "https://localhost:8080/",
          "height": 36
        }
      },
      "source": [
        "%%writefile actividad1.sql\n",
        "SELECT t2.artist_name, count(t2.userid) as conteo\n",
        "from user_id_otros as t2\n",
        "group by artist_name\n",
        "order by conteo desc\n",
        "LIMIT 10"
      ],
      "execution_count": null,
      "outputs": [
        {
          "output_type": "stream",
          "text": [
            "Overwriting actividad1_A.sql\n"
          ],
          "name": "stdout"
        }
      ]
    },
    {
      "cell_type": "code",
      "metadata": {
        "id": "H4VMUuYPo5rU",
        "outputId": "ced21dc9-7059-4147-ae45-fde620c5c9ff",
        "colab": {
          "base_uri": "https://localhost:8080/",
          "height": 1000
        }
      },
      "source": [
        "!hive -f actividad1.sql"
      ],
      "execution_count": null,
      "outputs": [
        {
          "output_type": "stream",
          "text": [
            "SLF4J: Class path contains multiple SLF4J bindings.\n",
            "SLF4J: Found binding in [jar:file:/content/apache-hive-2.3.7-bin/lib/log4j-slf4j-impl-2.6.2.jar!/org/slf4j/impl/StaticLoggerBinder.class]\n",
            "SLF4J: Found binding in [jar:file:/content/hadoop-2.10.0/share/hadoop/common/lib/slf4j-log4j12-1.7.25.jar!/org/slf4j/impl/StaticLoggerBinder.class]\n",
            "SLF4J: See http://www.slf4j.org/codes.html#multiple_bindings for an explanation.\n",
            "SLF4J: Actual binding is of type [org.apache.logging.slf4j.Log4jLoggerFactory]\n",
            "\n",
            "Logging initialized using configuration in jar:file:/content/apache-hive-2.3.7-bin/lib/hive-common-2.3.7.jar!/hive-log4j2.properties Async: true\n",
            "WARNING: Hive-on-MR is deprecated in Hive 2 and may not be available in the future versions. Consider using a different execution engine (i.e. spark, tez) or using Hive 1.X releases.\n",
            "Query ID = root_20201011135414_b2e1ded0-41bc-48ad-b13a-7f4251597bf7\n",
            "Total jobs = 2\n",
            "Launching Job 1 out of 2\n",
            "Number of reduce tasks not specified. Estimated from input data size: 10\n",
            "In order to change the average load for a reducer (in bytes):\n",
            "  set hive.exec.reducers.bytes.per.reducer=<number>\n",
            "In order to limit the maximum number of reducers:\n",
            "  set hive.exec.reducers.max=<number>\n",
            "In order to set a constant number of reducers:\n",
            "  set mapreduce.job.reduces=<number>\n",
            "Starting Job = job_1602423393110_0001, Tracking URL = http://58ebd50f6694:8088/proxy/application_1602423393110_0001/\n",
            "Kill Command = /content/hadoop/bin/hadoop job  -kill job_1602423393110_0001\n",
            "Hadoop job information for Stage-1: number of mappers: 10; number of reducers: 10\n",
            "2020-10-11 13:54:37,755 Stage-1 map = 0%,  reduce = 0%\n",
            "2020-10-11 13:55:23,505 Stage-1 map = 10%,  reduce = 0%, Cumulative CPU 35.63 sec\n",
            "2020-10-11 13:55:29,911 Stage-1 map = 20%,  reduce = 0%, Cumulative CPU 42.92 sec\n",
            "2020-10-11 13:55:39,639 Stage-1 map = 27%,  reduce = 0%, Cumulative CPU 50.29 sec\n",
            "2020-10-11 13:55:40,772 Stage-1 map = 40%,  reduce = 0%, Cumulative CPU 52.93 sec\n",
            "2020-10-11 13:55:41,839 Stage-1 map = 60%,  reduce = 0%, Cumulative CPU 57.66 sec\n",
            "2020-10-11 13:56:14,338 Stage-1 map = 60%,  reduce = 2%, Cumulative CPU 76.73 sec\n",
            "2020-10-11 13:56:15,413 Stage-1 map = 60%,  reduce = 4%, Cumulative CPU 77.08 sec\n",
            "2020-10-11 13:56:17,577 Stage-1 map = 63%,  reduce = 4%, Cumulative CPU 78.58 sec\n",
            "2020-10-11 13:56:18,660 Stage-1 map = 77%,  reduce = 4%, Cumulative CPU 83.16 sec\n",
            "2020-10-11 13:56:20,842 Stage-1 map = 77%,  reduce = 5%, Cumulative CPU 83.3 sec\n",
            "2020-10-11 13:56:24,093 Stage-1 map = 80%,  reduce = 5%, Cumulative CPU 87.23 sec\n",
            "2020-10-11 13:56:27,355 Stage-1 map = 100%,  reduce = 5%, Cumulative CPU 93.22 sec\n",
            "2020-10-11 13:56:31,848 Stage-1 map = 100%,  reduce = 9%, Cumulative CPU 94.54 sec\n",
            "2020-10-11 13:56:32,992 Stage-1 map = 100%,  reduce = 13%, Cumulative CPU 96.55 sec\n",
            "2020-10-11 13:56:36,384 Stage-1 map = 100%,  reduce = 17%, Cumulative CPU 97.52 sec\n",
            "2020-10-11 13:56:37,466 Stage-1 map = 100%,  reduce = 20%, Cumulative CPU 99.45 sec\n",
            "2020-10-11 13:56:38,557 Stage-1 map = 100%,  reduce = 30%, Cumulative CPU 102.65 sec\n",
            "2020-10-11 13:56:56,579 Stage-1 map = 100%,  reduce = 40%, Cumulative CPU 105.7 sec\n",
            "2020-10-11 13:56:57,664 Stage-1 map = 100%,  reduce = 50%, Cumulative CPU 109.03 sec\n",
            "2020-10-11 13:56:58,765 Stage-1 map = 100%,  reduce = 60%, Cumulative CPU 112.31 sec\n",
            "2020-10-11 13:57:04,335 Stage-1 map = 100%,  reduce = 70%, Cumulative CPU 115.56 sec\n",
            "2020-10-11 13:57:06,459 Stage-1 map = 100%,  reduce = 90%, Cumulative CPU 122.19 sec\n",
            "2020-10-11 13:57:09,565 Stage-1 map = 100%,  reduce = 100%, Cumulative CPU 125.08 sec\n",
            "MapReduce Total cumulative CPU time: 2 minutes 5 seconds 80 msec\n",
            "Ended Job = job_1602423393110_0001\n",
            "Launching Job 2 out of 2\n",
            "Number of reduce tasks determined at compile time: 1\n",
            "In order to change the average load for a reducer (in bytes):\n",
            "  set hive.exec.reducers.bytes.per.reducer=<number>\n",
            "In order to limit the maximum number of reducers:\n",
            "  set hive.exec.reducers.max=<number>\n",
            "In order to set a constant number of reducers:\n",
            "  set mapreduce.job.reduces=<number>\n",
            "Starting Job = job_1602423393110_0002, Tracking URL = http://58ebd50f6694:8088/proxy/application_1602423393110_0002/\n",
            "Kill Command = /content/hadoop/bin/hadoop job  -kill job_1602423393110_0002\n",
            "Hadoop job information for Stage-2: number of mappers: 1; number of reducers: 1\n",
            "2020-10-11 13:57:23,477 Stage-2 map = 0%,  reduce = 0%\n",
            "2020-10-11 13:57:30,848 Stage-2 map = 100%,  reduce = 0%, Cumulative CPU 4.22 sec\n",
            "2020-10-11 13:57:37,131 Stage-2 map = 100%,  reduce = 100%, Cumulative CPU 6.22 sec\n",
            "MapReduce Total cumulative CPU time: 6 seconds 220 msec\n",
            "Ended Job = job_1602423393110_0002\n",
            "MapReduce Jobs Launched: \n",
            "Stage-Stage-1: Map: 10  Reduce: 10   Cumulative CPU: 125.08 sec   HDFS Read: 2529347772 HDFS Write: 6290492 SUCCESS\n",
            "Stage-Stage-2: Map: 1  Reduce: 1   Cumulative CPU: 6.22 sec   HDFS Read: 6298440 HDFS Write: 387 SUCCESS\n",
            "Total MapReduce CPU Time Spent: 2 minutes 11 seconds 300 msec\n",
            "OK\n",
            "t2.artist_name\tconteo\n",
            "Radiohead\t115209\n",
            "The Beatles\t100338\n",
            "Nine Inch Nails\t84421\n",
            "Muse\t63351\n",
            "Coldplay\t62251\n",
            "Depeche Mode\t59910\n",
            "Pink Floyd\t58561\n",
            "Death Cab For Cutie\t58083\n",
            "Placebo\t53543\n",
            "Elliott Smith\t50278\n",
            "Time taken: 203.72 seconds, Fetched: 10 row(s)\n"
          ],
          "name": "stdout"
        }
      ]
    },
    {
      "cell_type": "markdown",
      "metadata": {
        "id": "etiQ4ivuZphe"
      },
      "source": [
        "Responda la siguiente pregunta:\n",
        "\n",
        "¿ Cuál es el artista más popular y el menos popular dele ranking top-10 ?"
      ]
    },
    {
      "cell_type": "markdown",
      "metadata": {
        "id": "dMUgQZPHOjP6"
      },
      "source": [
        "## Actividad 2"
      ]
    },
    {
      "cell_type": "markdown",
      "metadata": {
        "id": "mbWlR9kgH--T"
      },
      "source": [
        "Para la actividad 2, escribimos la consulta en Hivesql, donde lo primordial es indicar que gender no sea nulo o un string vacío. \n",
        "\n",
        "El resultado es la siguiente tabla, donde 63784 hombres y 43748 mujeres han escuchado alguna canción de Radiohead.\n",
        "\n",
        "t1.gender conteo\n",
        "\n",
        "m\t63784\n",
        "\n",
        "f\t43748"
      ]
    },
    {
      "cell_type": "code",
      "metadata": {
        "id": "UWjytjUL5Khw",
        "outputId": "52eedd16-bb0c-45c7-93a9-c339c575550d",
        "colab": {
          "base_uri": "https://localhost:8080/",
          "height": 36
        }
      },
      "source": [
        "%%writefile actividad2.sql\n",
        "SELECT t1.gender, count(*) as conteo\n",
        "FROM user_id_profile as t1\n",
        "INNER JOIN user_id_otros as t2\n",
        "USING (userid)\n",
        "WHERE t2.artist_name = 'Radiohead' \n",
        "and t1.gender is not NULL\n",
        "and t1.gender <> \" \"\n",
        "and t1.gender <> \"\"\n",
        "group by t1.gender \n",
        "order by conteo desc\n",
        "LIMIT 10"
      ],
      "execution_count": null,
      "outputs": [
        {
          "output_type": "stream",
          "text": [
            "Overwriting actividad2.sql\n"
          ],
          "name": "stdout"
        }
      ]
    },
    {
      "cell_type": "code",
      "metadata": {
        "id": "joREQI7G5LV-",
        "outputId": "930c916a-c332-4e76-d9e4-13fdda371fd4",
        "colab": {
          "base_uri": "https://localhost:8080/",
          "height": 1000
        }
      },
      "source": [
        "!hive -f actividad2.sql"
      ],
      "execution_count": null,
      "outputs": [
        {
          "output_type": "stream",
          "text": [
            "SLF4J: Class path contains multiple SLF4J bindings.\n",
            "SLF4J: Found binding in [jar:file:/content/apache-hive-2.3.7-bin/lib/log4j-slf4j-impl-2.6.2.jar!/org/slf4j/impl/StaticLoggerBinder.class]\n",
            "SLF4J: Found binding in [jar:file:/content/hadoop-2.10.0/share/hadoop/common/lib/slf4j-log4j12-1.7.25.jar!/org/slf4j/impl/StaticLoggerBinder.class]\n",
            "SLF4J: See http://www.slf4j.org/codes.html#multiple_bindings for an explanation.\n",
            "SLF4J: Actual binding is of type [org.apache.logging.slf4j.Log4jLoggerFactory]\n",
            "\n",
            "Logging initialized using configuration in jar:file:/content/apache-hive-2.3.7-bin/lib/hive-common-2.3.7.jar!/hive-log4j2.properties Async: true\n",
            "WARNING: Hive-on-MR is deprecated in Hive 2 and may not be available in the future versions. Consider using a different execution engine (i.e. spark, tez) or using Hive 1.X releases.\n",
            "Query ID = root_20201011142319_fff1de67-32b9-40a3-a407-ed95e52ec9f6\n",
            "Total jobs = 2\n",
            "SLF4J: Class path contains multiple SLF4J bindings.\n",
            "SLF4J: Found binding in [jar:file:/content/apache-hive-2.3.7-bin/lib/log4j-slf4j-impl-2.6.2.jar!/org/slf4j/impl/StaticLoggerBinder.class]\n",
            "SLF4J: Found binding in [jar:file:/content/hadoop-2.10.0/share/hadoop/common/lib/slf4j-log4j12-1.7.25.jar!/org/slf4j/impl/StaticLoggerBinder.class]\n",
            "SLF4J: See http://www.slf4j.org/codes.html#multiple_bindings for an explanation.\n",
            "SLF4J: Actual binding is of type [org.apache.logging.slf4j.Log4jLoggerFactory]\n",
            "2020-10-11 14:23:39\tStarting to launch local task to process map join;\tmaximum memory = 477626368\n",
            "2020-10-11 14:23:40\tDump the side-table for tag: 0 with group count: 885 into file: file:/tmp/root/4f438099-095c-453a-aff7-d58778ce9eae/hive_2020-10-11_14-23-19_383_8247271120626534364-1/-local-10006/HashTable-Stage-2/MapJoin-mapfile00--.hashtable\n",
            "2020-10-11 14:23:40\tUploaded 1 File to: file:/tmp/root/4f438099-095c-453a-aff7-d58778ce9eae/hive_2020-10-11_14-23-19_383_8247271120626534364-1/-local-10006/HashTable-Stage-2/MapJoin-mapfile00--.hashtable (28715 bytes)\n",
            "2020-10-11 14:23:40\tEnd of local task; Time Taken: 1.83 sec.\n",
            "Execution completed successfully\n",
            "MapredLocal task succeeded\n",
            "Launching Job 1 out of 2\n",
            "Number of reduce tasks not specified. Estimated from input data size: 10\n",
            "In order to change the average load for a reducer (in bytes):\n",
            "  set hive.exec.reducers.bytes.per.reducer=<number>\n",
            "In order to limit the maximum number of reducers:\n",
            "  set hive.exec.reducers.max=<number>\n",
            "In order to set a constant number of reducers:\n",
            "  set mapreduce.job.reduces=<number>\n",
            "Starting Job = job_1602423393110_0011, Tracking URL = http://58ebd50f6694:8088/proxy/application_1602423393110_0011/\n",
            "Kill Command = /content/hadoop/bin/hadoop job  -kill job_1602423393110_0011\n",
            "Hadoop job information for Stage-2: number of mappers: 10; number of reducers: 10\n",
            "2020-10-11 14:23:52,542 Stage-2 map = 0%,  reduce = 0%\n",
            "2020-10-11 14:24:37,844 Stage-2 map = 3%,  reduce = 0%, Cumulative CPU 34.51 sec\n",
            "2020-10-11 14:24:39,031 Stage-2 map = 17%,  reduce = 0%, Cumulative CPU 43.18 sec\n",
            "2020-10-11 14:24:44,632 Stage-2 map = 20%,  reduce = 0%, Cumulative CPU 53.43 sec\n",
            "2020-10-11 14:24:45,743 Stage-2 map = 27%,  reduce = 0%, Cumulative CPU 53.93 sec\n",
            "2020-10-11 14:24:46,776 Stage-2 map = 60%,  reduce = 0%, Cumulative CPU 57.23 sec\n",
            "2020-10-11 14:25:20,832 Stage-2 map = 60%,  reduce = 2%, Cumulative CPU 57.64 sec\n",
            "2020-10-11 14:25:22,026 Stage-2 map = 70%,  reduce = 4%, Cumulative CPU 64.44 sec\n",
            "2020-10-11 14:25:24,261 Stage-2 map = 77%,  reduce = 4%, Cumulative CPU 86.14 sec\n",
            "2020-10-11 14:25:27,551 Stage-2 map = 77%,  reduce = 5%, Cumulative CPU 86.41 sec\n",
            "2020-10-11 14:25:29,735 Stage-2 map = 100%,  reduce = 5%, Cumulative CPU 93.49 sec\n",
            "2020-10-11 14:25:33,129 Stage-2 map = 100%,  reduce = 9%, Cumulative CPU 94.61 sec\n",
            "2020-10-11 14:25:34,269 Stage-2 map = 100%,  reduce = 13%, Cumulative CPU 95.84 sec\n",
            "2020-10-11 14:25:37,731 Stage-2 map = 100%,  reduce = 20%, Cumulative CPU 98.4 sec\n",
            "2020-10-11 14:25:44,529 Stage-2 map = 100%,  reduce = 30%, Cumulative CPU 101.09 sec\n",
            "2020-10-11 14:25:56,920 Stage-2 map = 100%,  reduce = 60%, Cumulative CPU 109.13 sec\n",
            "2020-10-11 14:26:02,533 Stage-2 map = 100%,  reduce = 70%, Cumulative CPU 111.6 sec\n",
            "2020-10-11 14:26:03,620 Stage-2 map = 100%,  reduce = 80%, Cumulative CPU 114.04 sec\n",
            "2020-10-11 14:26:05,734 Stage-2 map = 100%,  reduce = 90%, Cumulative CPU 116.52 sec\n",
            "2020-10-11 14:26:07,803 Stage-2 map = 100%,  reduce = 100%, Cumulative CPU 118.48 sec\n",
            "MapReduce Total cumulative CPU time: 1 minutes 58 seconds 480 msec\n",
            "Ended Job = job_1602423393110_0011\n",
            "Launching Job 2 out of 2\n",
            "Number of reduce tasks determined at compile time: 1\n",
            "In order to change the average load for a reducer (in bytes):\n",
            "  set hive.exec.reducers.bytes.per.reducer=<number>\n",
            "In order to limit the maximum number of reducers:\n",
            "  set hive.exec.reducers.max=<number>\n",
            "In order to set a constant number of reducers:\n",
            "  set mapreduce.job.reduces=<number>\n",
            "Starting Job = job_1602423393110_0012, Tracking URL = http://58ebd50f6694:8088/proxy/application_1602423393110_0012/\n",
            "Kill Command = /content/hadoop/bin/hadoop job  -kill job_1602423393110_0012\n",
            "Hadoop job information for Stage-3: number of mappers: 1; number of reducers: 1\n",
            "2020-10-11 14:26:22,184 Stage-3 map = 0%,  reduce = 0%\n",
            "2020-10-11 14:26:28,531 Stage-3 map = 100%,  reduce = 0%, Cumulative CPU 1.8 sec\n",
            "2020-10-11 14:26:34,834 Stage-3 map = 100%,  reduce = 100%, Cumulative CPU 3.62 sec\n",
            "MapReduce Total cumulative CPU time: 3 seconds 620 msec\n",
            "Ended Job = job_1602423393110_0012\n",
            "MapReduce Jobs Launched: \n",
            "Stage-Stage-2: Map: 10  Reduce: 10   Cumulative CPU: 118.48 sec   HDFS Read: 2529383092 HDFS Write: 1004 SUCCESS\n",
            "Stage-Stage-3: Map: 1  Reduce: 1   Cumulative CPU: 3.62 sec   HDFS Read: 8889 HDFS Write: 127 SUCCESS\n",
            "Total MapReduce CPU Time Spent: 2 minutes 2 seconds 100 msec\n",
            "OK\n",
            "t1.gender\tconteo\n",
            "m\t63784\n",
            "f\t43748\n",
            "Time taken: 197.716 seconds, Fetched: 2 row(s)\n"
          ],
          "name": "stdout"
        }
      ]
    },
    {
      "cell_type": "markdown",
      "metadata": {
        "id": "hGYLdDpLZwJA"
      },
      "source": [
        "Responda la siguiente pregunta:\n",
        "\n",
        "¿ Cuál es la cantidad de hombres y mujeres que han escuchado alguna canción del artista más popular ?\n"
      ]
    },
    {
      "cell_type": "markdown",
      "metadata": {
        "id": "oCpp3dzyOmPh"
      },
      "source": [
        "## Actividad 3"
      ]
    },
    {
      "cell_type": "markdown",
      "metadata": {
        "id": "n5nFMg_bI0By"
      },
      "source": [
        "En la Actividad 3, escribimos la consulta en hivesql y la ordenamos por la edad, la cual es la única variable INT que tenemos. \n",
        "\n",
        "age conteo\n",
        "\n",
        "3\t2\n",
        "\n",
        "4\t14\n",
        "\n",
        "7\t2\n",
        "\n",
        "15\t2\n",
        "\n",
        "16\t122\n",
        "\n",
        "17\t444\n",
        "\n",
        "18\t65\n",
        "\n",
        "19\t4514\n",
        "\n",
        "20\t5760\n",
        "\n",
        "21\t1589\n",
        "\n",
        "22\t7038\n",
        "\n",
        "23\t2552\n",
        "\n",
        "24\t1313\n",
        "\n",
        "25\t1289\n",
        "\n",
        "26\t2527\n",
        "\n",
        "27\t2360\n",
        "\n",
        "28\t1330\n",
        "\n",
        "29\t359\n",
        "\n",
        "30\t617\n",
        "\n",
        "31\t146\n",
        "\n",
        "32\t433\n",
        "\n",
        "33\t1441\n",
        "\n",
        "34\t404\n",
        "\n",
        "35\t1543\n",
        "\n",
        "36\t1962\n",
        "\n",
        "38\t422\n",
        "\n",
        "39\t213\n",
        "\n",
        "42\t13\n",
        "\n",
        "48\t35\n",
        "\n",
        "75\t109\n",
        "\n",
        "103\t1\n",
        "\n",
        "Pero, la edad varía desde 3 a 103 años y 1543 personas de 35 años han escuchado al artista más popular = Radiohead. También podemos notar que este artista es más popular entre las edades [19 a 22]. "
      ]
    },
    {
      "cell_type": "code",
      "metadata": {
        "id": "KvEaO0txZ0xR",
        "outputId": "9e847b07-5efe-4197-e981-69d2b362e67e",
        "colab": {
          "base_uri": "https://localhost:8080/",
          "height": 36
        }
      },
      "source": [
        "%%writefile actividad3.sql\n",
        "SELECT t1.age, count(*) as conteo\n",
        "FROM user_id_profile as t1\n",
        "INNER JOIN user_id_otros as t2\n",
        "USING (userid)\n",
        "WHERE t2.artist_name = 'Radiohead' \n",
        "and t1.age is not null\n",
        "group by t1.age \n",
        "order by t1.age asc"
      ],
      "execution_count": null,
      "outputs": [
        {
          "output_type": "stream",
          "text": [
            "Overwriting actividad3.sql\n"
          ],
          "name": "stdout"
        }
      ]
    },
    {
      "cell_type": "code",
      "metadata": {
        "id": "pJRT0LSQ9i_E",
        "outputId": "c90e8cb4-6cfa-4a34-8107-6136996137af",
        "colab": {
          "base_uri": "https://localhost:8080/",
          "height": 1000
        }
      },
      "source": [
        "!hive -f actividad3.sql"
      ],
      "execution_count": null,
      "outputs": [
        {
          "output_type": "stream",
          "text": [
            "SLF4J: Class path contains multiple SLF4J bindings.\n",
            "SLF4J: Found binding in [jar:file:/content/apache-hive-2.3.7-bin/lib/log4j-slf4j-impl-2.6.2.jar!/org/slf4j/impl/StaticLoggerBinder.class]\n",
            "SLF4J: Found binding in [jar:file:/content/hadoop-2.10.0/share/hadoop/common/lib/slf4j-log4j12-1.7.25.jar!/org/slf4j/impl/StaticLoggerBinder.class]\n",
            "SLF4J: See http://www.slf4j.org/codes.html#multiple_bindings for an explanation.\n",
            "SLF4J: Actual binding is of type [org.apache.logging.slf4j.Log4jLoggerFactory]\n",
            "\n",
            "Logging initialized using configuration in jar:file:/content/apache-hive-2.3.7-bin/lib/hive-common-2.3.7.jar!/hive-log4j2.properties Async: true\n",
            "WARNING: Hive-on-MR is deprecated in Hive 2 and may not be available in the future versions. Consider using a different execution engine (i.e. spark, tez) or using Hive 1.X releases.\n",
            "Query ID = root_20201011143132_810c98d1-403f-46ec-a6fb-bea4928d0dc6\n",
            "Total jobs = 2\n",
            "SLF4J: Class path contains multiple SLF4J bindings.\n",
            "SLF4J: Found binding in [jar:file:/content/apache-hive-2.3.7-bin/lib/log4j-slf4j-impl-2.6.2.jar!/org/slf4j/impl/StaticLoggerBinder.class]\n",
            "SLF4J: Found binding in [jar:file:/content/hadoop-2.10.0/share/hadoop/common/lib/slf4j-log4j12-1.7.25.jar!/org/slf4j/impl/StaticLoggerBinder.class]\n",
            "SLF4J: See http://www.slf4j.org/codes.html#multiple_bindings for an explanation.\n",
            "SLF4J: Actual binding is of type [org.apache.logging.slf4j.Log4jLoggerFactory]\n",
            "2020-10-11 14:31:52\tStarting to launch local task to process map join;\tmaximum memory = 477626368\n",
            "2020-10-11 14:31:54\tDump the side-table for tag: 0 with group count: 286 into file: file:/tmp/root/b845b025-c9d4-464e-a694-9226556566da/hive_2020-10-11_14-31-32_898_7379362669143641638-1/-local-10006/HashTable-Stage-2/MapJoin-mapfile00--.hashtable\n",
            "2020-10-11 14:31:54\tUploaded 1 File to: file:/tmp/root/b845b025-c9d4-464e-a694-9226556566da/hive_2020-10-11_14-31-32_898_7379362669143641638-1/-local-10006/HashTable-Stage-2/MapJoin-mapfile00--.hashtable (9169 bytes)\n",
            "2020-10-11 14:31:54\tEnd of local task; Time Taken: 1.699 sec.\n",
            "Execution completed successfully\n",
            "MapredLocal task succeeded\n",
            "Launching Job 1 out of 2\n",
            "Number of reduce tasks not specified. Estimated from input data size: 10\n",
            "In order to change the average load for a reducer (in bytes):\n",
            "  set hive.exec.reducers.bytes.per.reducer=<number>\n",
            "In order to limit the maximum number of reducers:\n",
            "  set hive.exec.reducers.max=<number>\n",
            "In order to set a constant number of reducers:\n",
            "  set mapreduce.job.reduces=<number>\n",
            "Starting Job = job_1602423393110_0015, Tracking URL = http://58ebd50f6694:8088/proxy/application_1602423393110_0015/\n",
            "Kill Command = /content/hadoop/bin/hadoop job  -kill job_1602423393110_0015\n",
            "Hadoop job information for Stage-2: number of mappers: 10; number of reducers: 10\n",
            "2020-10-11 14:32:05,227 Stage-2 map = 0%,  reduce = 0%\n",
            "2020-10-11 14:32:50,659 Stage-2 map = 7%,  reduce = 0%, Cumulative CPU 36.48 sec\n",
            "2020-10-11 14:32:51,797 Stage-2 map = 20%,  reduce = 0%, Cumulative CPU 43.55 sec\n",
            "2020-10-11 14:32:58,410 Stage-2 map = 60%,  reduce = 0%, Cumulative CPU 55.92 sec\n",
            "2020-10-11 14:33:31,083 Stage-2 map = 70%,  reduce = 2%, Cumulative CPU 62.24 sec\n",
            "2020-10-11 14:33:32,178 Stage-2 map = 70%,  reduce = 4%, Cumulative CPU 62.64 sec\n",
            "2020-10-11 14:33:34,373 Stage-2 map = 80%,  reduce = 4%, Cumulative CPU 84.59 sec\n",
            "2020-10-11 14:33:36,625 Stage-2 map = 93%,  reduce = 4%, Cumulative CPU 86.77 sec\n",
            "2020-10-11 14:33:37,802 Stage-2 map = 100%,  reduce = 5%, Cumulative CPU 88.02 sec\n",
            "2020-10-11 14:33:38,916 Stage-2 map = 100%,  reduce = 10%, Cumulative CPU 88.39 sec\n",
            "2020-10-11 14:33:43,393 Stage-2 map = 100%,  reduce = 13%, Cumulative CPU 90.05 sec\n",
            "2020-10-11 14:33:44,526 Stage-2 map = 100%,  reduce = 16%, Cumulative CPU 91.77 sec\n",
            "2020-10-11 14:33:45,663 Stage-2 map = 100%,  reduce = 20%, Cumulative CPU 92.45 sec\n",
            "2020-10-11 14:33:50,231 Stage-2 map = 100%,  reduce = 30%, Cumulative CPU 95.19 sec\n",
            "2020-10-11 14:34:04,925 Stage-2 map = 100%,  reduce = 50%, Cumulative CPU 100.82 sec\n",
            "2020-10-11 14:34:06,060 Stage-2 map = 100%,  reduce = 60%, Cumulative CPU 103.41 sec\n",
            "2020-10-11 14:34:10,460 Stage-2 map = 100%,  reduce = 70%, Cumulative CPU 105.94 sec\n",
            "2020-10-11 14:34:11,534 Stage-2 map = 100%,  reduce = 80%, Cumulative CPU 108.85 sec\n",
            "2020-10-11 14:34:13,651 Stage-2 map = 100%,  reduce = 90%, Cumulative CPU 111.13 sec\n",
            "2020-10-11 14:34:15,707 Stage-2 map = 100%,  reduce = 100%, Cumulative CPU 113.03 sec\n",
            "MapReduce Total cumulative CPU time: 1 minutes 53 seconds 30 msec\n",
            "Ended Job = job_1602423393110_0015\n",
            "Launching Job 2 out of 2\n",
            "Number of reduce tasks determined at compile time: 1\n",
            "In order to change the average load for a reducer (in bytes):\n",
            "  set hive.exec.reducers.bytes.per.reducer=<number>\n",
            "In order to limit the maximum number of reducers:\n",
            "  set hive.exec.reducers.max=<number>\n",
            "In order to set a constant number of reducers:\n",
            "  set mapreduce.job.reduces=<number>\n",
            "Starting Job = job_1602423393110_0016, Tracking URL = http://58ebd50f6694:8088/proxy/application_1602423393110_0016/\n",
            "Kill Command = /content/hadoop/bin/hadoop job  -kill job_1602423393110_0016\n",
            "Hadoop job information for Stage-3: number of mappers: 1; number of reducers: 1\n",
            "2020-10-11 14:34:29,952 Stage-3 map = 0%,  reduce = 0%\n",
            "2020-10-11 14:34:36,291 Stage-3 map = 100%,  reduce = 0%, Cumulative CPU 2.21 sec\n",
            "2020-10-11 14:34:43,563 Stage-3 map = 100%,  reduce = 100%, Cumulative CPU 3.88 sec\n",
            "MapReduce Total cumulative CPU time: 3 seconds 880 msec\n",
            "Ended Job = job_1602423393110_0016\n",
            "MapReduce Jobs Launched: \n",
            "Stage-Stage-2: Map: 10  Reduce: 10   Cumulative CPU: 113.03 sec   HDFS Read: 2529383272 HDFS Write: 1589 SUCCESS\n",
            "Stage-Stage-3: Map: 1  Reduce: 1   Cumulative CPU: 3.88 sec   HDFS Read: 9296 HDFS Write: 675 SUCCESS\n",
            "Total MapReduce CPU Time Spent: 1 minutes 56 seconds 910 msec\n",
            "OK\n",
            "t1.age\tconteo\n",
            "3\t2\n",
            "4\t14\n",
            "7\t2\n",
            "15\t2\n",
            "16\t122\n",
            "17\t444\n",
            "18\t65\n",
            "19\t4514\n",
            "20\t5760\n",
            "21\t1589\n",
            "22\t7038\n",
            "23\t2552\n",
            "24\t1313\n",
            "25\t1289\n",
            "26\t2527\n",
            "27\t2360\n",
            "28\t1330\n",
            "29\t359\n",
            "30\t617\n",
            "31\t146\n",
            "32\t433\n",
            "33\t1441\n",
            "34\t404\n",
            "35\t1543\n",
            "36\t1962\n",
            "38\t422\n",
            "39\t213\n",
            "42\t13\n",
            "48\t35\n",
            "75\t109\n",
            "103\t1\n",
            "Time taken: 191.879 seconds, Fetched: 31 row(s)\n"
          ],
          "name": "stdout"
        }
      ]
    },
    {
      "cell_type": "markdown",
      "metadata": {
        "id": "oRS4jTvWZ2Us"
      },
      "source": [
        "Responda la siguiente pregunta:\n",
        "\n",
        "¿ Cuántos usuarios de 35 años han escuchado al artista más popular ?"
      ]
    }
  ]
}